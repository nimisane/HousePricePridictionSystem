{
 "cells": [
  {
   "cell_type": "code",
   "execution_count": 1,
   "metadata": {
    "id": "SgrMUjGZiWRM"
   },
   "outputs": [],
   "source": [
    "import pandas as pd\n",
    "import numpy as np\n",
    "import matplotlib.pyplot as plt\n",
    "import altair as alt\n",
    "%matplotlib inline\n",
    "import seaborn as sns\n",
    "import plotly.express as px\n",
    "sns.set(color_codes=True)"
   ]
  },
  {
   "cell_type": "code",
   "execution_count": 2,
   "metadata": {
    "colab": {
     "base_uri": "https://localhost:8080/",
     "height": 1000
    },
    "id": "Sg7B6A_8iWRv",
    "outputId": "5df5ece5-7aa8-4eb5-cc55-46ccc341d4fd",
    "scrolled": true
   },
   "outputs": [
    {
     "data": {
      "text/html": [
       "<div>\n",
       "<style scoped>\n",
       "    .dataframe tbody tr th:only-of-type {\n",
       "        vertical-align: middle;\n",
       "    }\n",
       "\n",
       "    .dataframe tbody tr th {\n",
       "        vertical-align: top;\n",
       "    }\n",
       "\n",
       "    .dataframe thead th {\n",
       "        text-align: right;\n",
       "    }\n",
       "</style>\n",
       "<table border=\"1\" class=\"dataframe\">\n",
       "  <thead>\n",
       "    <tr style=\"text-align: right;\">\n",
       "      <th></th>\n",
       "      <th>What is your age?</th>\n",
       "      <th>What is your gender?</th>\n",
       "      <th>In which area do you stay in western line in Mumbai?</th>\n",
       "      <th>Your yearly income in INR</th>\n",
       "      <th>Do you own a house?</th>\n",
       "      <th>Where is your house located?</th>\n",
       "      <th>What is the carpet area of your current house in square feet?</th>\n",
       "      <th>How many rooms do you have?</th>\n",
       "      <th>What is the current price of your house in INR?</th>\n",
       "      <th>c_Car Parking</th>\n",
       "      <th>c_24hr Water Supply</th>\n",
       "      <th>c_Maintenance Staff</th>\n",
       "      <th>c_Gas Pipeline</th>\n",
       "      <th>c_Lift</th>\n",
       "      <th>c_Club house</th>\n",
       "      <th>c_24Hr Security</th>\n",
       "      <th>c_Gym</th>\n",
       "      <th>c_School</th>\n",
       "      <th>c_College</th>\n",
       "      <th>c_Hospitals</th>\n",
       "      <th>c_Medical</th>\n",
       "      <th>c_Railway Station</th>\n",
       "      <th>c_Market</th>\n",
       "      <th>Are you planning to buy a new house in Mumbai(Western Line)?</th>\n",
       "      <th>Would you take a housing loan if you had to buy a house?</th>\n",
       "      <th>In which area you would like to buy a new house in Mumbai(Western Line) if you had to?</th>\n",
       "      <th>What type of house you would look for if you had to buy a house?</th>\n",
       "      <th>What would be your budget if you had to buy a house?</th>\n",
       "      <th>How much carpet area would you want(square feet) if you had to buy a house?</th>\n",
       "      <th>How many rooms do you want if you had to buy a house?</th>\n",
       "      <th>If you had to buy a house what would you buy?</th>\n",
       "      <th>n_Car Parking</th>\n",
       "      <th>n_24hr Water Supply</th>\n",
       "      <th>n_Maintenance Staff</th>\n",
       "      <th>n_Gas Pipeline</th>\n",
       "      <th>n_Lift</th>\n",
       "      <th>n_Club house</th>\n",
       "      <th>n_24Hr Security</th>\n",
       "      <th>n_Gym</th>\n",
       "      <th>n_School</th>\n",
       "      <th>n_College</th>\n",
       "      <th>n_Hospitals</th>\n",
       "      <th>n_Medical</th>\n",
       "      <th>n_Railway Station</th>\n",
       "      <th>n_Market</th>\n",
       "    </tr>\n",
       "  </thead>\n",
       "  <tbody>\n",
       "    <tr>\n",
       "      <th>0</th>\n",
       "      <td>46 - 55</td>\n",
       "      <td>Male</td>\n",
       "      <td>Andheri</td>\n",
       "      <td>7lakh - 9lakh</td>\n",
       "      <td>Yes</td>\n",
       "      <td>Building</td>\n",
       "      <td>2016.0</td>\n",
       "      <td>3 BHK</td>\n",
       "      <td>33400000.0</td>\n",
       "      <td>Car Parking, Gas Pipeline, Lift</td>\n",
       "      <td>Car Parking, Gas Pipeline, Lift</td>\n",
       "      <td>Car Parking, Gas Pipeline, Lift</td>\n",
       "      <td>Car Parking, Gas Pipeline, Lift</td>\n",
       "      <td>Car Parking, Gas Pipeline, Lift</td>\n",
       "      <td>Car Parking, Gas Pipeline, Lift</td>\n",
       "      <td>Car Parking, Gas Pipeline, Lift</td>\n",
       "      <td>Car Parking, Gas Pipeline, Lift</td>\n",
       "      <td>Hospitals, Medical, Railway Station, Market</td>\n",
       "      <td>Hospitals, Medical, Railway Station, Market</td>\n",
       "      <td>Hospitals, Medical, Railway Station, Market</td>\n",
       "      <td>Hospitals, Medical, Railway Station, Market</td>\n",
       "      <td>Hospitals, Medical, Railway Station, Market</td>\n",
       "      <td>Hospitals, Medical, Railway Station, Market</td>\n",
       "      <td>No</td>\n",
       "      <td>Yes</td>\n",
       "      <td>Borivali</td>\n",
       "      <td>Bungalow</td>\n",
       "      <td>1Cr - 2Cr</td>\n",
       "      <td>2000</td>\n",
       "      <td>3 BHK</td>\n",
       "      <td>Resale House</td>\n",
       "      <td>Car Parking, 24hr Water Supply, Gas Pipeline</td>\n",
       "      <td>Car Parking, 24hr Water Supply, Gas Pipeline</td>\n",
       "      <td>Car Parking, 24hr Water Supply, Gas Pipeline</td>\n",
       "      <td>Car Parking, 24hr Water Supply, Gas Pipeline</td>\n",
       "      <td>Car Parking, 24hr Water Supply, Gas Pipeline</td>\n",
       "      <td>Car Parking, 24hr Water Supply, Gas Pipeline</td>\n",
       "      <td>Car Parking, 24hr Water Supply, Gas Pipeline</td>\n",
       "      <td>Car Parking, 24hr Water Supply, Gas Pipeline</td>\n",
       "      <td>Hospitals, Medical, Railway Station, Market</td>\n",
       "      <td>Hospitals, Medical, Railway Station, Market</td>\n",
       "      <td>Hospitals, Medical, Railway Station, Market</td>\n",
       "      <td>Hospitals, Medical, Railway Station, Market</td>\n",
       "      <td>Hospitals, Medical, Railway Station, Market</td>\n",
       "      <td>Hospitals, Medical, Railway Station, Market</td>\n",
       "    </tr>\n",
       "    <tr>\n",
       "      <th>1</th>\n",
       "      <td>56 - 65</td>\n",
       "      <td>Male</td>\n",
       "      <td>Andheri</td>\n",
       "      <td>9lakh - 11lakh</td>\n",
       "      <td>Yes</td>\n",
       "      <td>Building</td>\n",
       "      <td>1260.0</td>\n",
       "      <td>2 BHK</td>\n",
       "      <td>20000000.0</td>\n",
       "      <td>Car Parking, Maintenance Staff, Lift</td>\n",
       "      <td>Car Parking, Maintenance Staff, Lift</td>\n",
       "      <td>Car Parking, Maintenance Staff, Lift</td>\n",
       "      <td>Car Parking, Maintenance Staff, Lift</td>\n",
       "      <td>Car Parking, Maintenance Staff, Lift</td>\n",
       "      <td>Car Parking, Maintenance Staff, Lift</td>\n",
       "      <td>Car Parking, Maintenance Staff, Lift</td>\n",
       "      <td>Car Parking, Maintenance Staff, Lift</td>\n",
       "      <td>Railway Station, Market</td>\n",
       "      <td>Railway Station, Market</td>\n",
       "      <td>Railway Station, Market</td>\n",
       "      <td>Railway Station, Market</td>\n",
       "      <td>Railway Station, Market</td>\n",
       "      <td>Railway Station, Market</td>\n",
       "      <td>No</td>\n",
       "      <td>Yes</td>\n",
       "      <td>Borivali</td>\n",
       "      <td>Row House</td>\n",
       "      <td>2Cr - 3Cr</td>\n",
       "      <td>2000</td>\n",
       "      <td>3 BHK</td>\n",
       "      <td>New House</td>\n",
       "      <td>Car Parking, 24hr Water Supply, Gas Pipeline</td>\n",
       "      <td>Car Parking, 24hr Water Supply, Gas Pipeline</td>\n",
       "      <td>Car Parking, 24hr Water Supply, Gas Pipeline</td>\n",
       "      <td>Car Parking, 24hr Water Supply, Gas Pipeline</td>\n",
       "      <td>Car Parking, 24hr Water Supply, Gas Pipeline</td>\n",
       "      <td>Car Parking, 24hr Water Supply, Gas Pipeline</td>\n",
       "      <td>Car Parking, 24hr Water Supply, Gas Pipeline</td>\n",
       "      <td>Car Parking, 24hr Water Supply, Gas Pipeline</td>\n",
       "      <td>Hospitals, Medical, Railway Station, Market</td>\n",
       "      <td>Hospitals, Medical, Railway Station, Market</td>\n",
       "      <td>Hospitals, Medical, Railway Station, Market</td>\n",
       "      <td>Hospitals, Medical, Railway Station, Market</td>\n",
       "      <td>Hospitals, Medical, Railway Station, Market</td>\n",
       "      <td>Hospitals, Medical, Railway Station, Market</td>\n",
       "    </tr>\n",
       "    <tr>\n",
       "      <th>2</th>\n",
       "      <td>36 - 45</td>\n",
       "      <td>Male</td>\n",
       "      <td>Andheri</td>\n",
       "      <td>11lakh and above</td>\n",
       "      <td>Yes</td>\n",
       "      <td>Building</td>\n",
       "      <td>450.0</td>\n",
       "      <td>1 BHK</td>\n",
       "      <td>15000000.0</td>\n",
       "      <td>24hr Water Supply, Gas Pipeline, Lift</td>\n",
       "      <td>24hr Water Supply, Gas Pipeline, Lift</td>\n",
       "      <td>24hr Water Supply, Gas Pipeline, Lift</td>\n",
       "      <td>24hr Water Supply, Gas Pipeline, Lift</td>\n",
       "      <td>24hr Water Supply, Gas Pipeline, Lift</td>\n",
       "      <td>24hr Water Supply, Gas Pipeline, Lift</td>\n",
       "      <td>24hr Water Supply, Gas Pipeline, Lift</td>\n",
       "      <td>24hr Water Supply, Gas Pipeline, Lift</td>\n",
       "      <td>School, College, Hospitals, Medical, Railway S...</td>\n",
       "      <td>School, College, Hospitals, Medical, Railway S...</td>\n",
       "      <td>School, College, Hospitals, Medical, Railway S...</td>\n",
       "      <td>School, College, Hospitals, Medical, Railway S...</td>\n",
       "      <td>School, College, Hospitals, Medical, Railway S...</td>\n",
       "      <td>School, College, Hospitals, Medical, Railway S...</td>\n",
       "      <td>Yes</td>\n",
       "      <td>Yes</td>\n",
       "      <td>Dadar</td>\n",
       "      <td>Building</td>\n",
       "      <td>1Cr - 2Cr</td>\n",
       "      <td>450</td>\n",
       "      <td>1 BHK</td>\n",
       "      <td>New House</td>\n",
       "      <td>Car Parking, 24hr Water Supply, Gas Pipeline, ...</td>\n",
       "      <td>Car Parking, 24hr Water Supply, Gas Pipeline, ...</td>\n",
       "      <td>Car Parking, 24hr Water Supply, Gas Pipeline, ...</td>\n",
       "      <td>Car Parking, 24hr Water Supply, Gas Pipeline, ...</td>\n",
       "      <td>Car Parking, 24hr Water Supply, Gas Pipeline, ...</td>\n",
       "      <td>Car Parking, 24hr Water Supply, Gas Pipeline, ...</td>\n",
       "      <td>Car Parking, 24hr Water Supply, Gas Pipeline, ...</td>\n",
       "      <td>Car Parking, 24hr Water Supply, Gas Pipeline, ...</td>\n",
       "      <td>School, College, Hospitals, Medical, Railway S...</td>\n",
       "      <td>School, College, Hospitals, Medical, Railway S...</td>\n",
       "      <td>School, College, Hospitals, Medical, Railway S...</td>\n",
       "      <td>School, College, Hospitals, Medical, Railway S...</td>\n",
       "      <td>School, College, Hospitals, Medical, Railway S...</td>\n",
       "      <td>School, College, Hospitals, Medical, Railway S...</td>\n",
       "    </tr>\n",
       "    <tr>\n",
       "      <th>3</th>\n",
       "      <td>36 - 45</td>\n",
       "      <td>Female</td>\n",
       "      <td>Andheri</td>\n",
       "      <td>11lakh and above</td>\n",
       "      <td>Yes</td>\n",
       "      <td>Building</td>\n",
       "      <td>750.0</td>\n",
       "      <td>1 BHK</td>\n",
       "      <td>20000000.0</td>\n",
       "      <td>Car Parking, 24hr Water Supply, Maintenance St...</td>\n",
       "      <td>Car Parking, 24hr Water Supply, Maintenance St...</td>\n",
       "      <td>Car Parking, 24hr Water Supply, Maintenance St...</td>\n",
       "      <td>Car Parking, 24hr Water Supply, Maintenance St...</td>\n",
       "      <td>Car Parking, 24hr Water Supply, Maintenance St...</td>\n",
       "      <td>Car Parking, 24hr Water Supply, Maintenance St...</td>\n",
       "      <td>Car Parking, 24hr Water Supply, Maintenance St...</td>\n",
       "      <td>Car Parking, 24hr Water Supply, Maintenance St...</td>\n",
       "      <td>School, College, Hospitals, Medical, Railway S...</td>\n",
       "      <td>School, College, Hospitals, Medical, Railway S...</td>\n",
       "      <td>School, College, Hospitals, Medical, Railway S...</td>\n",
       "      <td>School, College, Hospitals, Medical, Railway S...</td>\n",
       "      <td>School, College, Hospitals, Medical, Railway S...</td>\n",
       "      <td>School, College, Hospitals, Medical, Railway S...</td>\n",
       "      <td>No</td>\n",
       "      <td>No</td>\n",
       "      <td>Andheri</td>\n",
       "      <td>Building</td>\n",
       "      <td>1Cr - 2Cr</td>\n",
       "      <td>1000</td>\n",
       "      <td>2 BHK</td>\n",
       "      <td>New House</td>\n",
       "      <td>Car Parking, 24hr Water Supply, Maintenance St...</td>\n",
       "      <td>Car Parking, 24hr Water Supply, Maintenance St...</td>\n",
       "      <td>Car Parking, 24hr Water Supply, Maintenance St...</td>\n",
       "      <td>Car Parking, 24hr Water Supply, Maintenance St...</td>\n",
       "      <td>Car Parking, 24hr Water Supply, Maintenance St...</td>\n",
       "      <td>Car Parking, 24hr Water Supply, Maintenance St...</td>\n",
       "      <td>Car Parking, 24hr Water Supply, Maintenance St...</td>\n",
       "      <td>Car Parking, 24hr Water Supply, Maintenance St...</td>\n",
       "      <td>School, College, Hospitals, Medical, Railway S...</td>\n",
       "      <td>School, College, Hospitals, Medical, Railway S...</td>\n",
       "      <td>School, College, Hospitals, Medical, Railway S...</td>\n",
       "      <td>School, College, Hospitals, Medical, Railway S...</td>\n",
       "      <td>School, College, Hospitals, Medical, Railway S...</td>\n",
       "      <td>School, College, Hospitals, Medical, Railway S...</td>\n",
       "    </tr>\n",
       "    <tr>\n",
       "      <th>4</th>\n",
       "      <td>25 - 35</td>\n",
       "      <td>Male</td>\n",
       "      <td>Andheri</td>\n",
       "      <td>9lakh - 11lakh</td>\n",
       "      <td>Yes</td>\n",
       "      <td>Building</td>\n",
       "      <td>475.0</td>\n",
       "      <td>1 BHK</td>\n",
       "      <td>15000000.0</td>\n",
       "      <td>Car Parking, 24hr Water Supply, Gas Pipeline, ...</td>\n",
       "      <td>Car Parking, 24hr Water Supply, Gas Pipeline, ...</td>\n",
       "      <td>Car Parking, 24hr Water Supply, Gas Pipeline, ...</td>\n",
       "      <td>Car Parking, 24hr Water Supply, Gas Pipeline, ...</td>\n",
       "      <td>Car Parking, 24hr Water Supply, Gas Pipeline, ...</td>\n",
       "      <td>Car Parking, 24hr Water Supply, Gas Pipeline, ...</td>\n",
       "      <td>Car Parking, 24hr Water Supply, Gas Pipeline, ...</td>\n",
       "      <td>Car Parking, 24hr Water Supply, Gas Pipeline, ...</td>\n",
       "      <td>School, College, Hospitals, Medical, Railway S...</td>\n",
       "      <td>School, College, Hospitals, Medical, Railway S...</td>\n",
       "      <td>School, College, Hospitals, Medical, Railway S...</td>\n",
       "      <td>School, College, Hospitals, Medical, Railway S...</td>\n",
       "      <td>School, College, Hospitals, Medical, Railway S...</td>\n",
       "      <td>School, College, Hospitals, Medical, Railway S...</td>\n",
       "      <td>No</td>\n",
       "      <td>Yes</td>\n",
       "      <td>Dadar</td>\n",
       "      <td>Building</td>\n",
       "      <td>1Cr - 2Cr</td>\n",
       "      <td>500</td>\n",
       "      <td>1 BHK</td>\n",
       "      <td>Resale House</td>\n",
       "      <td>Car Parking, 24hr Water Supply, Gas Pipeline, ...</td>\n",
       "      <td>Car Parking, 24hr Water Supply, Gas Pipeline, ...</td>\n",
       "      <td>Car Parking, 24hr Water Supply, Gas Pipeline, ...</td>\n",
       "      <td>Car Parking, 24hr Water Supply, Gas Pipeline, ...</td>\n",
       "      <td>Car Parking, 24hr Water Supply, Gas Pipeline, ...</td>\n",
       "      <td>Car Parking, 24hr Water Supply, Gas Pipeline, ...</td>\n",
       "      <td>Car Parking, 24hr Water Supply, Gas Pipeline, ...</td>\n",
       "      <td>Car Parking, 24hr Water Supply, Gas Pipeline, ...</td>\n",
       "      <td>School, College, Hospitals, Medical, Railway S...</td>\n",
       "      <td>School, College, Hospitals, Medical, Railway S...</td>\n",
       "      <td>School, College, Hospitals, Medical, Railway S...</td>\n",
       "      <td>School, College, Hospitals, Medical, Railway S...</td>\n",
       "      <td>School, College, Hospitals, Medical, Railway S...</td>\n",
       "      <td>School, College, Hospitals, Medical, Railway S...</td>\n",
       "    </tr>\n",
       "    <tr>\n",
       "      <th>...</th>\n",
       "      <td>...</td>\n",
       "      <td>...</td>\n",
       "      <td>...</td>\n",
       "      <td>...</td>\n",
       "      <td>...</td>\n",
       "      <td>...</td>\n",
       "      <td>...</td>\n",
       "      <td>...</td>\n",
       "      <td>...</td>\n",
       "      <td>...</td>\n",
       "      <td>...</td>\n",
       "      <td>...</td>\n",
       "      <td>...</td>\n",
       "      <td>...</td>\n",
       "      <td>...</td>\n",
       "      <td>...</td>\n",
       "      <td>...</td>\n",
       "      <td>...</td>\n",
       "      <td>...</td>\n",
       "      <td>...</td>\n",
       "      <td>...</td>\n",
       "      <td>...</td>\n",
       "      <td>...</td>\n",
       "      <td>...</td>\n",
       "      <td>...</td>\n",
       "      <td>...</td>\n",
       "      <td>...</td>\n",
       "      <td>...</td>\n",
       "      <td>...</td>\n",
       "      <td>...</td>\n",
       "      <td>...</td>\n",
       "      <td>...</td>\n",
       "      <td>...</td>\n",
       "      <td>...</td>\n",
       "      <td>...</td>\n",
       "      <td>...</td>\n",
       "      <td>...</td>\n",
       "      <td>...</td>\n",
       "      <td>...</td>\n",
       "      <td>...</td>\n",
       "      <td>...</td>\n",
       "      <td>...</td>\n",
       "      <td>...</td>\n",
       "      <td>...</td>\n",
       "      <td>...</td>\n",
       "    </tr>\n",
       "    <tr>\n",
       "      <th>197</th>\n",
       "      <td>46 - 55</td>\n",
       "      <td>Male</td>\n",
       "      <td>Borivali</td>\n",
       "      <td>5lakh - 7lakh</td>\n",
       "      <td>Yes</td>\n",
       "      <td>Building</td>\n",
       "      <td>540.0</td>\n",
       "      <td>1 BHK</td>\n",
       "      <td>12000000.0</td>\n",
       "      <td>Car Parking, Lift, 24Hr Security</td>\n",
       "      <td>Car Parking, Lift, 24Hr Security</td>\n",
       "      <td>Car Parking, Lift, 24Hr Security</td>\n",
       "      <td>Car Parking, Lift, 24Hr Security</td>\n",
       "      <td>Car Parking, Lift, 24Hr Security</td>\n",
       "      <td>Car Parking, Lift, 24Hr Security</td>\n",
       "      <td>Car Parking, Lift, 24Hr Security</td>\n",
       "      <td>Car Parking, Lift, 24Hr Security</td>\n",
       "      <td>School, College, Hospitals, Medical, Railway S...</td>\n",
       "      <td>School, College, Hospitals, Medical, Railway S...</td>\n",
       "      <td>School, College, Hospitals, Medical, Railway S...</td>\n",
       "      <td>School, College, Hospitals, Medical, Railway S...</td>\n",
       "      <td>School, College, Hospitals, Medical, Railway S...</td>\n",
       "      <td>School, College, Hospitals, Medical, Railway S...</td>\n",
       "      <td>Yes</td>\n",
       "      <td>Yes</td>\n",
       "      <td>Borivali</td>\n",
       "      <td>Building</td>\n",
       "      <td>1Cr - 2Cr</td>\n",
       "      <td>710</td>\n",
       "      <td>2 BHK</td>\n",
       "      <td>New House</td>\n",
       "      <td>Car Parking, 24hr Water Supply, Gas Pipeline, ...</td>\n",
       "      <td>Car Parking, 24hr Water Supply, Gas Pipeline, ...</td>\n",
       "      <td>Car Parking, 24hr Water Supply, Gas Pipeline, ...</td>\n",
       "      <td>Car Parking, 24hr Water Supply, Gas Pipeline, ...</td>\n",
       "      <td>Car Parking, 24hr Water Supply, Gas Pipeline, ...</td>\n",
       "      <td>Car Parking, 24hr Water Supply, Gas Pipeline, ...</td>\n",
       "      <td>Car Parking, 24hr Water Supply, Gas Pipeline, ...</td>\n",
       "      <td>Car Parking, 24hr Water Supply, Gas Pipeline, ...</td>\n",
       "      <td>School, College, Hospitals, Medical, Railway S...</td>\n",
       "      <td>School, College, Hospitals, Medical, Railway S...</td>\n",
       "      <td>School, College, Hospitals, Medical, Railway S...</td>\n",
       "      <td>School, College, Hospitals, Medical, Railway S...</td>\n",
       "      <td>School, College, Hospitals, Medical, Railway S...</td>\n",
       "      <td>School, College, Hospitals, Medical, Railway S...</td>\n",
       "    </tr>\n",
       "    <tr>\n",
       "      <th>198</th>\n",
       "      <td>46 - 55</td>\n",
       "      <td>Male</td>\n",
       "      <td>Kandivali</td>\n",
       "      <td>5lakh - 7lakh</td>\n",
       "      <td>Yes</td>\n",
       "      <td>Building</td>\n",
       "      <td>1020.0</td>\n",
       "      <td>2 BHK</td>\n",
       "      <td>14500000.0</td>\n",
       "      <td>Car Parking, Lift, Club house, 24Hr Security, Gym</td>\n",
       "      <td>Car Parking, Lift, Club house, 24Hr Security, Gym</td>\n",
       "      <td>Car Parking, Lift, Club house, 24Hr Security, Gym</td>\n",
       "      <td>Car Parking, Lift, Club house, 24Hr Security, Gym</td>\n",
       "      <td>Car Parking, Lift, Club house, 24Hr Security, Gym</td>\n",
       "      <td>Car Parking, Lift, Club house, 24Hr Security, Gym</td>\n",
       "      <td>Car Parking, Lift, Club house, 24Hr Security, Gym</td>\n",
       "      <td>Car Parking, Lift, Club house, 24Hr Security, Gym</td>\n",
       "      <td>School, College, Hospitals, Medical, Railway S...</td>\n",
       "      <td>School, College, Hospitals, Medical, Railway S...</td>\n",
       "      <td>School, College, Hospitals, Medical, Railway S...</td>\n",
       "      <td>School, College, Hospitals, Medical, Railway S...</td>\n",
       "      <td>School, College, Hospitals, Medical, Railway S...</td>\n",
       "      <td>School, College, Hospitals, Medical, Railway S...</td>\n",
       "      <td>No</td>\n",
       "      <td>No</td>\n",
       "      <td>Kandivali</td>\n",
       "      <td>Building</td>\n",
       "      <td>1Cr - 2Cr</td>\n",
       "      <td>1000</td>\n",
       "      <td>2 BHK</td>\n",
       "      <td>New House</td>\n",
       "      <td>Car Parking, 24hr Water Supply, Maintenance St...</td>\n",
       "      <td>Car Parking, 24hr Water Supply, Maintenance St...</td>\n",
       "      <td>Car Parking, 24hr Water Supply, Maintenance St...</td>\n",
       "      <td>Car Parking, 24hr Water Supply, Maintenance St...</td>\n",
       "      <td>Car Parking, 24hr Water Supply, Maintenance St...</td>\n",
       "      <td>Car Parking, 24hr Water Supply, Maintenance St...</td>\n",
       "      <td>Car Parking, 24hr Water Supply, Maintenance St...</td>\n",
       "      <td>Car Parking, 24hr Water Supply, Maintenance St...</td>\n",
       "      <td>School, College, Hospitals, Medical, Railway S...</td>\n",
       "      <td>School, College, Hospitals, Medical, Railway S...</td>\n",
       "      <td>School, College, Hospitals, Medical, Railway S...</td>\n",
       "      <td>School, College, Hospitals, Medical, Railway S...</td>\n",
       "      <td>School, College, Hospitals, Medical, Railway S...</td>\n",
       "      <td>School, College, Hospitals, Medical, Railway S...</td>\n",
       "    </tr>\n",
       "    <tr>\n",
       "      <th>199</th>\n",
       "      <td>36 - 45</td>\n",
       "      <td>Female</td>\n",
       "      <td>Kandivali</td>\n",
       "      <td>3lakh - 5lakh</td>\n",
       "      <td>Yes</td>\n",
       "      <td>Building</td>\n",
       "      <td>300.0</td>\n",
       "      <td>1 BHK</td>\n",
       "      <td>2500000.0</td>\n",
       "      <td>None of the above</td>\n",
       "      <td>None of the above</td>\n",
       "      <td>None of the above</td>\n",
       "      <td>None of the above</td>\n",
       "      <td>None of the above</td>\n",
       "      <td>None of the above</td>\n",
       "      <td>None of the above</td>\n",
       "      <td>None of the above</td>\n",
       "      <td>School, Medical, Market</td>\n",
       "      <td>School, Medical, Market</td>\n",
       "      <td>School, Medical, Market</td>\n",
       "      <td>School, Medical, Market</td>\n",
       "      <td>School, Medical, Market</td>\n",
       "      <td>School, Medical, Market</td>\n",
       "      <td>Yes</td>\n",
       "      <td>Yes</td>\n",
       "      <td>Kandivali</td>\n",
       "      <td>Building</td>\n",
       "      <td>70lakh-80lakh</td>\n",
       "      <td>500</td>\n",
       "      <td>1 BHK</td>\n",
       "      <td>New House</td>\n",
       "      <td>24hr Water Supply, Lift, 24Hr Security</td>\n",
       "      <td>24hr Water Supply, Lift, 24Hr Security</td>\n",
       "      <td>24hr Water Supply, Lift, 24Hr Security</td>\n",
       "      <td>24hr Water Supply, Lift, 24Hr Security</td>\n",
       "      <td>24hr Water Supply, Lift, 24Hr Security</td>\n",
       "      <td>24hr Water Supply, Lift, 24Hr Security</td>\n",
       "      <td>24hr Water Supply, Lift, 24Hr Security</td>\n",
       "      <td>24hr Water Supply, Lift, 24Hr Security</td>\n",
       "      <td>School, College, Hospitals, Medical, Railway S...</td>\n",
       "      <td>School, College, Hospitals, Medical, Railway S...</td>\n",
       "      <td>School, College, Hospitals, Medical, Railway S...</td>\n",
       "      <td>School, College, Hospitals, Medical, Railway S...</td>\n",
       "      <td>School, College, Hospitals, Medical, Railway S...</td>\n",
       "      <td>School, College, Hospitals, Medical, Railway S...</td>\n",
       "    </tr>\n",
       "    <tr>\n",
       "      <th>200</th>\n",
       "      <td>36 - 45</td>\n",
       "      <td>Male</td>\n",
       "      <td>Kandivali</td>\n",
       "      <td>5lakh - 7lakh</td>\n",
       "      <td>Yes</td>\n",
       "      <td>Building</td>\n",
       "      <td>764.0</td>\n",
       "      <td>2 BHK</td>\n",
       "      <td>16800000.0</td>\n",
       "      <td>Car Parking, Maintenance Staff, Lift, 24Hr Sec...</td>\n",
       "      <td>Car Parking, Maintenance Staff, Lift, 24Hr Sec...</td>\n",
       "      <td>Car Parking, Maintenance Staff, Lift, 24Hr Sec...</td>\n",
       "      <td>Car Parking, Maintenance Staff, Lift, 24Hr Sec...</td>\n",
       "      <td>Car Parking, Maintenance Staff, Lift, 24Hr Sec...</td>\n",
       "      <td>Car Parking, Maintenance Staff, Lift, 24Hr Sec...</td>\n",
       "      <td>Car Parking, Maintenance Staff, Lift, 24Hr Sec...</td>\n",
       "      <td>Car Parking, Maintenance Staff, Lift, 24Hr Sec...</td>\n",
       "      <td>School, College, Hospitals, Medical, Railway S...</td>\n",
       "      <td>School, College, Hospitals, Medical, Railway S...</td>\n",
       "      <td>School, College, Hospitals, Medical, Railway S...</td>\n",
       "      <td>School, College, Hospitals, Medical, Railway S...</td>\n",
       "      <td>School, College, Hospitals, Medical, Railway S...</td>\n",
       "      <td>School, College, Hospitals, Medical, Railway S...</td>\n",
       "      <td>No</td>\n",
       "      <td>No</td>\n",
       "      <td>Andheri</td>\n",
       "      <td>Building</td>\n",
       "      <td>1Cr - 2Cr</td>\n",
       "      <td>760</td>\n",
       "      <td>1 BHK</td>\n",
       "      <td>New House</td>\n",
       "      <td>Car Parking, 24hr Water Supply, Maintenance St...</td>\n",
       "      <td>Car Parking, 24hr Water Supply, Maintenance St...</td>\n",
       "      <td>Car Parking, 24hr Water Supply, Maintenance St...</td>\n",
       "      <td>Car Parking, 24hr Water Supply, Maintenance St...</td>\n",
       "      <td>Car Parking, 24hr Water Supply, Maintenance St...</td>\n",
       "      <td>Car Parking, 24hr Water Supply, Maintenance St...</td>\n",
       "      <td>Car Parking, 24hr Water Supply, Maintenance St...</td>\n",
       "      <td>Car Parking, 24hr Water Supply, Maintenance St...</td>\n",
       "      <td>School, College, Hospitals, Medical, Railway S...</td>\n",
       "      <td>School, College, Hospitals, Medical, Railway S...</td>\n",
       "      <td>School, College, Hospitals, Medical, Railway S...</td>\n",
       "      <td>School, College, Hospitals, Medical, Railway S...</td>\n",
       "      <td>School, College, Hospitals, Medical, Railway S...</td>\n",
       "      <td>School, College, Hospitals, Medical, Railway S...</td>\n",
       "    </tr>\n",
       "    <tr>\n",
       "      <th>201</th>\n",
       "      <td>46 - 55</td>\n",
       "      <td>Male</td>\n",
       "      <td>Kandivali</td>\n",
       "      <td>7lakh - 9lakh</td>\n",
       "      <td>Yes</td>\n",
       "      <td>Building</td>\n",
       "      <td>1170.0</td>\n",
       "      <td>3 BHK</td>\n",
       "      <td>28200000.0</td>\n",
       "      <td>Car Parking, Maintenance Staff, Lift, 24Hr Sec...</td>\n",
       "      <td>Car Parking, Maintenance Staff, Lift, 24Hr Sec...</td>\n",
       "      <td>Car Parking, Maintenance Staff, Lift, 24Hr Sec...</td>\n",
       "      <td>Car Parking, Maintenance Staff, Lift, 24Hr Sec...</td>\n",
       "      <td>Car Parking, Maintenance Staff, Lift, 24Hr Sec...</td>\n",
       "      <td>Car Parking, Maintenance Staff, Lift, 24Hr Sec...</td>\n",
       "      <td>Car Parking, Maintenance Staff, Lift, 24Hr Sec...</td>\n",
       "      <td>Car Parking, Maintenance Staff, Lift, 24Hr Sec...</td>\n",
       "      <td>Medical, Market</td>\n",
       "      <td>Medical, Market</td>\n",
       "      <td>Medical, Market</td>\n",
       "      <td>Medical, Market</td>\n",
       "      <td>Medical, Market</td>\n",
       "      <td>Medical, Market</td>\n",
       "      <td>No</td>\n",
       "      <td>No</td>\n",
       "      <td>Mahim</td>\n",
       "      <td>Building</td>\n",
       "      <td>2Cr - 3Cr</td>\n",
       "      <td>1100</td>\n",
       "      <td>3 BHK</td>\n",
       "      <td>New House</td>\n",
       "      <td>Car Parking, 24hr Water Supply, Maintenance St...</td>\n",
       "      <td>Car Parking, 24hr Water Supply, Maintenance St...</td>\n",
       "      <td>Car Parking, 24hr Water Supply, Maintenance St...</td>\n",
       "      <td>Car Parking, 24hr Water Supply, Maintenance St...</td>\n",
       "      <td>Car Parking, 24hr Water Supply, Maintenance St...</td>\n",
       "      <td>Car Parking, 24hr Water Supply, Maintenance St...</td>\n",
       "      <td>Car Parking, 24hr Water Supply, Maintenance St...</td>\n",
       "      <td>Car Parking, 24hr Water Supply, Maintenance St...</td>\n",
       "      <td>Hospitals, Medical, Railway Station, Market</td>\n",
       "      <td>Hospitals, Medical, Railway Station, Market</td>\n",
       "      <td>Hospitals, Medical, Railway Station, Market</td>\n",
       "      <td>Hospitals, Medical, Railway Station, Market</td>\n",
       "      <td>Hospitals, Medical, Railway Station, Market</td>\n",
       "      <td>Hospitals, Medical, Railway Station, Market</td>\n",
       "    </tr>\n",
       "  </tbody>\n",
       "</table>\n",
       "<p>202 rows × 45 columns</p>\n",
       "</div>"
      ],
      "text/plain": [
       "    What is your age? What is your gender?  \\\n",
       "0             46 - 55                 Male   \n",
       "1             56 - 65                 Male   \n",
       "2             36 - 45                 Male   \n",
       "3             36 - 45               Female   \n",
       "4             25 - 35                 Male   \n",
       "..                ...                  ...   \n",
       "197           46 - 55                 Male   \n",
       "198           46 - 55                 Male   \n",
       "199           36 - 45               Female   \n",
       "200           36 - 45                 Male   \n",
       "201           46 - 55                 Male   \n",
       "\n",
       "    In which area do you stay in western line in Mumbai?  \\\n",
       "0                                              Andheri     \n",
       "1                                              Andheri     \n",
       "2                                              Andheri     \n",
       "3                                              Andheri     \n",
       "4                                              Andheri     \n",
       "..                                                 ...     \n",
       "197                                           Borivali     \n",
       "198                                          Kandivali     \n",
       "199                                          Kandivali     \n",
       "200                                          Kandivali     \n",
       "201                                          Kandivali     \n",
       "\n",
       "    Your yearly income in INR Do you own a house?  \\\n",
       "0               7lakh - 9lakh                 Yes   \n",
       "1              9lakh - 11lakh                 Yes   \n",
       "2            11lakh and above                 Yes   \n",
       "3            11lakh and above                 Yes   \n",
       "4              9lakh - 11lakh                 Yes   \n",
       "..                        ...                 ...   \n",
       "197             5lakh - 7lakh                 Yes   \n",
       "198             5lakh - 7lakh                 Yes   \n",
       "199             3lakh - 5lakh                 Yes   \n",
       "200             5lakh - 7lakh                 Yes   \n",
       "201             7lakh - 9lakh                 Yes   \n",
       "\n",
       "    Where is your house located?  \\\n",
       "0                       Building   \n",
       "1                       Building   \n",
       "2                       Building   \n",
       "3                       Building   \n",
       "4                       Building   \n",
       "..                           ...   \n",
       "197                     Building   \n",
       "198                     Building   \n",
       "199                     Building   \n",
       "200                     Building   \n",
       "201                     Building   \n",
       "\n",
       "     What is the carpet area of your current house in square feet?  \\\n",
       "0                                               2016.0               \n",
       "1                                               1260.0               \n",
       "2                                                450.0               \n",
       "3                                                750.0               \n",
       "4                                                475.0               \n",
       "..                                                 ...               \n",
       "197                                              540.0               \n",
       "198                                             1020.0               \n",
       "199                                              300.0               \n",
       "200                                              764.0               \n",
       "201                                             1170.0               \n",
       "\n",
       "    How many rooms do you have?  \\\n",
       "0                         3 BHK   \n",
       "1                         2 BHK   \n",
       "2                         1 BHK   \n",
       "3                         1 BHK   \n",
       "4                         1 BHK   \n",
       "..                          ...   \n",
       "197                       1 BHK   \n",
       "198                       2 BHK   \n",
       "199                       1 BHK   \n",
       "200                       2 BHK   \n",
       "201                       3 BHK   \n",
       "\n",
       "     What is the current price of your house in INR?  \\\n",
       "0                                         33400000.0   \n",
       "1                                         20000000.0   \n",
       "2                                         15000000.0   \n",
       "3                                         20000000.0   \n",
       "4                                         15000000.0   \n",
       "..                                               ...   \n",
       "197                                       12000000.0   \n",
       "198                                       14500000.0   \n",
       "199                                        2500000.0   \n",
       "200                                       16800000.0   \n",
       "201                                       28200000.0   \n",
       "\n",
       "                                         c_Car Parking  \\\n",
       "0                      Car Parking, Gas Pipeline, Lift   \n",
       "1                 Car Parking, Maintenance Staff, Lift   \n",
       "2                24hr Water Supply, Gas Pipeline, Lift   \n",
       "3    Car Parking, 24hr Water Supply, Maintenance St...   \n",
       "4    Car Parking, 24hr Water Supply, Gas Pipeline, ...   \n",
       "..                                                 ...   \n",
       "197                   Car Parking, Lift, 24Hr Security   \n",
       "198  Car Parking, Lift, Club house, 24Hr Security, Gym   \n",
       "199                                  None of the above   \n",
       "200  Car Parking, Maintenance Staff, Lift, 24Hr Sec...   \n",
       "201  Car Parking, Maintenance Staff, Lift, 24Hr Sec...   \n",
       "\n",
       "                                   c_24hr Water Supply  \\\n",
       "0                      Car Parking, Gas Pipeline, Lift   \n",
       "1                 Car Parking, Maintenance Staff, Lift   \n",
       "2                24hr Water Supply, Gas Pipeline, Lift   \n",
       "3    Car Parking, 24hr Water Supply, Maintenance St...   \n",
       "4    Car Parking, 24hr Water Supply, Gas Pipeline, ...   \n",
       "..                                                 ...   \n",
       "197                   Car Parking, Lift, 24Hr Security   \n",
       "198  Car Parking, Lift, Club house, 24Hr Security, Gym   \n",
       "199                                  None of the above   \n",
       "200  Car Parking, Maintenance Staff, Lift, 24Hr Sec...   \n",
       "201  Car Parking, Maintenance Staff, Lift, 24Hr Sec...   \n",
       "\n",
       "                                   c_Maintenance Staff  \\\n",
       "0                      Car Parking, Gas Pipeline, Lift   \n",
       "1                 Car Parking, Maintenance Staff, Lift   \n",
       "2                24hr Water Supply, Gas Pipeline, Lift   \n",
       "3    Car Parking, 24hr Water Supply, Maintenance St...   \n",
       "4    Car Parking, 24hr Water Supply, Gas Pipeline, ...   \n",
       "..                                                 ...   \n",
       "197                   Car Parking, Lift, 24Hr Security   \n",
       "198  Car Parking, Lift, Club house, 24Hr Security, Gym   \n",
       "199                                  None of the above   \n",
       "200  Car Parking, Maintenance Staff, Lift, 24Hr Sec...   \n",
       "201  Car Parking, Maintenance Staff, Lift, 24Hr Sec...   \n",
       "\n",
       "                                        c_Gas Pipeline  \\\n",
       "0                      Car Parking, Gas Pipeline, Lift   \n",
       "1                 Car Parking, Maintenance Staff, Lift   \n",
       "2                24hr Water Supply, Gas Pipeline, Lift   \n",
       "3    Car Parking, 24hr Water Supply, Maintenance St...   \n",
       "4    Car Parking, 24hr Water Supply, Gas Pipeline, ...   \n",
       "..                                                 ...   \n",
       "197                   Car Parking, Lift, 24Hr Security   \n",
       "198  Car Parking, Lift, Club house, 24Hr Security, Gym   \n",
       "199                                  None of the above   \n",
       "200  Car Parking, Maintenance Staff, Lift, 24Hr Sec...   \n",
       "201  Car Parking, Maintenance Staff, Lift, 24Hr Sec...   \n",
       "\n",
       "                                                c_Lift  \\\n",
       "0                      Car Parking, Gas Pipeline, Lift   \n",
       "1                 Car Parking, Maintenance Staff, Lift   \n",
       "2                24hr Water Supply, Gas Pipeline, Lift   \n",
       "3    Car Parking, 24hr Water Supply, Maintenance St...   \n",
       "4    Car Parking, 24hr Water Supply, Gas Pipeline, ...   \n",
       "..                                                 ...   \n",
       "197                   Car Parking, Lift, 24Hr Security   \n",
       "198  Car Parking, Lift, Club house, 24Hr Security, Gym   \n",
       "199                                  None of the above   \n",
       "200  Car Parking, Maintenance Staff, Lift, 24Hr Sec...   \n",
       "201  Car Parking, Maintenance Staff, Lift, 24Hr Sec...   \n",
       "\n",
       "                                          c_Club house  \\\n",
       "0                      Car Parking, Gas Pipeline, Lift   \n",
       "1                 Car Parking, Maintenance Staff, Lift   \n",
       "2                24hr Water Supply, Gas Pipeline, Lift   \n",
       "3    Car Parking, 24hr Water Supply, Maintenance St...   \n",
       "4    Car Parking, 24hr Water Supply, Gas Pipeline, ...   \n",
       "..                                                 ...   \n",
       "197                   Car Parking, Lift, 24Hr Security   \n",
       "198  Car Parking, Lift, Club house, 24Hr Security, Gym   \n",
       "199                                  None of the above   \n",
       "200  Car Parking, Maintenance Staff, Lift, 24Hr Sec...   \n",
       "201  Car Parking, Maintenance Staff, Lift, 24Hr Sec...   \n",
       "\n",
       "                                       c_24Hr Security  \\\n",
       "0                      Car Parking, Gas Pipeline, Lift   \n",
       "1                 Car Parking, Maintenance Staff, Lift   \n",
       "2                24hr Water Supply, Gas Pipeline, Lift   \n",
       "3    Car Parking, 24hr Water Supply, Maintenance St...   \n",
       "4    Car Parking, 24hr Water Supply, Gas Pipeline, ...   \n",
       "..                                                 ...   \n",
       "197                   Car Parking, Lift, 24Hr Security   \n",
       "198  Car Parking, Lift, Club house, 24Hr Security, Gym   \n",
       "199                                  None of the above   \n",
       "200  Car Parking, Maintenance Staff, Lift, 24Hr Sec...   \n",
       "201  Car Parking, Maintenance Staff, Lift, 24Hr Sec...   \n",
       "\n",
       "                                                 c_Gym  \\\n",
       "0                      Car Parking, Gas Pipeline, Lift   \n",
       "1                 Car Parking, Maintenance Staff, Lift   \n",
       "2                24hr Water Supply, Gas Pipeline, Lift   \n",
       "3    Car Parking, 24hr Water Supply, Maintenance St...   \n",
       "4    Car Parking, 24hr Water Supply, Gas Pipeline, ...   \n",
       "..                                                 ...   \n",
       "197                   Car Parking, Lift, 24Hr Security   \n",
       "198  Car Parking, Lift, Club house, 24Hr Security, Gym   \n",
       "199                                  None of the above   \n",
       "200  Car Parking, Maintenance Staff, Lift, 24Hr Sec...   \n",
       "201  Car Parking, Maintenance Staff, Lift, 24Hr Sec...   \n",
       "\n",
       "                                              c_School  \\\n",
       "0          Hospitals, Medical, Railway Station, Market   \n",
       "1                              Railway Station, Market   \n",
       "2    School, College, Hospitals, Medical, Railway S...   \n",
       "3    School, College, Hospitals, Medical, Railway S...   \n",
       "4    School, College, Hospitals, Medical, Railway S...   \n",
       "..                                                 ...   \n",
       "197  School, College, Hospitals, Medical, Railway S...   \n",
       "198  School, College, Hospitals, Medical, Railway S...   \n",
       "199                            School, Medical, Market   \n",
       "200  School, College, Hospitals, Medical, Railway S...   \n",
       "201                                    Medical, Market   \n",
       "\n",
       "                                             c_College  \\\n",
       "0          Hospitals, Medical, Railway Station, Market   \n",
       "1                              Railway Station, Market   \n",
       "2    School, College, Hospitals, Medical, Railway S...   \n",
       "3    School, College, Hospitals, Medical, Railway S...   \n",
       "4    School, College, Hospitals, Medical, Railway S...   \n",
       "..                                                 ...   \n",
       "197  School, College, Hospitals, Medical, Railway S...   \n",
       "198  School, College, Hospitals, Medical, Railway S...   \n",
       "199                            School, Medical, Market   \n",
       "200  School, College, Hospitals, Medical, Railway S...   \n",
       "201                                    Medical, Market   \n",
       "\n",
       "                                           c_Hospitals  \\\n",
       "0          Hospitals, Medical, Railway Station, Market   \n",
       "1                              Railway Station, Market   \n",
       "2    School, College, Hospitals, Medical, Railway S...   \n",
       "3    School, College, Hospitals, Medical, Railway S...   \n",
       "4    School, College, Hospitals, Medical, Railway S...   \n",
       "..                                                 ...   \n",
       "197  School, College, Hospitals, Medical, Railway S...   \n",
       "198  School, College, Hospitals, Medical, Railway S...   \n",
       "199                            School, Medical, Market   \n",
       "200  School, College, Hospitals, Medical, Railway S...   \n",
       "201                                    Medical, Market   \n",
       "\n",
       "                                             c_Medical  \\\n",
       "0          Hospitals, Medical, Railway Station, Market   \n",
       "1                              Railway Station, Market   \n",
       "2    School, College, Hospitals, Medical, Railway S...   \n",
       "3    School, College, Hospitals, Medical, Railway S...   \n",
       "4    School, College, Hospitals, Medical, Railway S...   \n",
       "..                                                 ...   \n",
       "197  School, College, Hospitals, Medical, Railway S...   \n",
       "198  School, College, Hospitals, Medical, Railway S...   \n",
       "199                            School, Medical, Market   \n",
       "200  School, College, Hospitals, Medical, Railway S...   \n",
       "201                                    Medical, Market   \n",
       "\n",
       "                                     c_Railway Station  \\\n",
       "0          Hospitals, Medical, Railway Station, Market   \n",
       "1                              Railway Station, Market   \n",
       "2    School, College, Hospitals, Medical, Railway S...   \n",
       "3    School, College, Hospitals, Medical, Railway S...   \n",
       "4    School, College, Hospitals, Medical, Railway S...   \n",
       "..                                                 ...   \n",
       "197  School, College, Hospitals, Medical, Railway S...   \n",
       "198  School, College, Hospitals, Medical, Railway S...   \n",
       "199                            School, Medical, Market   \n",
       "200  School, College, Hospitals, Medical, Railway S...   \n",
       "201                                    Medical, Market   \n",
       "\n",
       "                                              c_Market  \\\n",
       "0          Hospitals, Medical, Railway Station, Market   \n",
       "1                              Railway Station, Market   \n",
       "2    School, College, Hospitals, Medical, Railway S...   \n",
       "3    School, College, Hospitals, Medical, Railway S...   \n",
       "4    School, College, Hospitals, Medical, Railway S...   \n",
       "..                                                 ...   \n",
       "197  School, College, Hospitals, Medical, Railway S...   \n",
       "198  School, College, Hospitals, Medical, Railway S...   \n",
       "199                            School, Medical, Market   \n",
       "200  School, College, Hospitals, Medical, Railway S...   \n",
       "201                                    Medical, Market   \n",
       "\n",
       "    Are you planning to buy a new house in Mumbai(Western Line)?  \\\n",
       "0                                                   No             \n",
       "1                                                   No             \n",
       "2                                                  Yes             \n",
       "3                                                   No             \n",
       "4                                                   No             \n",
       "..                                                 ...             \n",
       "197                                                Yes             \n",
       "198                                                 No             \n",
       "199                                                Yes             \n",
       "200                                                 No             \n",
       "201                                                 No             \n",
       "\n",
       "    Would you take a housing loan if you had to buy a house?  \\\n",
       "0                                                  Yes         \n",
       "1                                                  Yes         \n",
       "2                                                  Yes         \n",
       "3                                                   No         \n",
       "4                                                  Yes         \n",
       "..                                                 ...         \n",
       "197                                                Yes         \n",
       "198                                                 No         \n",
       "199                                                Yes         \n",
       "200                                                 No         \n",
       "201                                                 No         \n",
       "\n",
       "    In which area you would like to buy a new house in Mumbai(Western Line) if you had to?  \\\n",
       "0                                             Borivali                                       \n",
       "1                                             Borivali                                       \n",
       "2                                                Dadar                                       \n",
       "3                                              Andheri                                       \n",
       "4                                                Dadar                                       \n",
       "..                                                 ...                                       \n",
       "197                                           Borivali                                       \n",
       "198                                          Kandivali                                       \n",
       "199                                          Kandivali                                       \n",
       "200                                            Andheri                                       \n",
       "201                                              Mahim                                       \n",
       "\n",
       "    What type of house you would look for if you had to buy a house?  \\\n",
       "0                                             Bungalow                 \n",
       "1                                            Row House                 \n",
       "2                                             Building                 \n",
       "3                                             Building                 \n",
       "4                                             Building                 \n",
       "..                                                 ...                 \n",
       "197                                           Building                 \n",
       "198                                           Building                 \n",
       "199                                           Building                 \n",
       "200                                           Building                 \n",
       "201                                           Building                 \n",
       "\n",
       "    What would be your budget if you had to buy a house?  \\\n",
       "0                                            1Cr - 2Cr     \n",
       "1                                            2Cr - 3Cr     \n",
       "2                                            1Cr - 2Cr     \n",
       "3                                            1Cr - 2Cr     \n",
       "4                                            1Cr - 2Cr     \n",
       "..                                                 ...     \n",
       "197                                          1Cr - 2Cr     \n",
       "198                                          1Cr - 2Cr     \n",
       "199                                      70lakh-80lakh     \n",
       "200                                          1Cr - 2Cr     \n",
       "201                                          2Cr - 3Cr     \n",
       "\n",
       "     How much carpet area would you want(square feet) if you had to buy a house?  \\\n",
       "0                                                 2000                             \n",
       "1                                                 2000                             \n",
       "2                                                  450                             \n",
       "3                                                 1000                             \n",
       "4                                                  500                             \n",
       "..                                                 ...                             \n",
       "197                                                710                             \n",
       "198                                               1000                             \n",
       "199                                                500                             \n",
       "200                                                760                             \n",
       "201                                               1100                             \n",
       "\n",
       "    How many rooms do you want if you had to buy a house?  \\\n",
       "0                                                3 BHK      \n",
       "1                                                3 BHK      \n",
       "2                                                1 BHK      \n",
       "3                                                2 BHK      \n",
       "4                                                1 BHK      \n",
       "..                                                 ...      \n",
       "197                                              2 BHK      \n",
       "198                                              2 BHK      \n",
       "199                                              1 BHK      \n",
       "200                                              1 BHK      \n",
       "201                                              3 BHK      \n",
       "\n",
       "    If you had to buy a house what would you buy?  \\\n",
       "0                                    Resale House   \n",
       "1                                       New House   \n",
       "2                                       New House   \n",
       "3                                       New House   \n",
       "4                                    Resale House   \n",
       "..                                            ...   \n",
       "197                                     New House   \n",
       "198                                     New House   \n",
       "199                                     New House   \n",
       "200                                     New House   \n",
       "201                                     New House   \n",
       "\n",
       "                                         n_Car Parking  \\\n",
       "0         Car Parking, 24hr Water Supply, Gas Pipeline   \n",
       "1         Car Parking, 24hr Water Supply, Gas Pipeline   \n",
       "2    Car Parking, 24hr Water Supply, Gas Pipeline, ...   \n",
       "3    Car Parking, 24hr Water Supply, Maintenance St...   \n",
       "4    Car Parking, 24hr Water Supply, Gas Pipeline, ...   \n",
       "..                                                 ...   \n",
       "197  Car Parking, 24hr Water Supply, Gas Pipeline, ...   \n",
       "198  Car Parking, 24hr Water Supply, Maintenance St...   \n",
       "199             24hr Water Supply, Lift, 24Hr Security   \n",
       "200  Car Parking, 24hr Water Supply, Maintenance St...   \n",
       "201  Car Parking, 24hr Water Supply, Maintenance St...   \n",
       "\n",
       "                                   n_24hr Water Supply  \\\n",
       "0         Car Parking, 24hr Water Supply, Gas Pipeline   \n",
       "1         Car Parking, 24hr Water Supply, Gas Pipeline   \n",
       "2    Car Parking, 24hr Water Supply, Gas Pipeline, ...   \n",
       "3    Car Parking, 24hr Water Supply, Maintenance St...   \n",
       "4    Car Parking, 24hr Water Supply, Gas Pipeline, ...   \n",
       "..                                                 ...   \n",
       "197  Car Parking, 24hr Water Supply, Gas Pipeline, ...   \n",
       "198  Car Parking, 24hr Water Supply, Maintenance St...   \n",
       "199             24hr Water Supply, Lift, 24Hr Security   \n",
       "200  Car Parking, 24hr Water Supply, Maintenance St...   \n",
       "201  Car Parking, 24hr Water Supply, Maintenance St...   \n",
       "\n",
       "                                   n_Maintenance Staff  \\\n",
       "0         Car Parking, 24hr Water Supply, Gas Pipeline   \n",
       "1         Car Parking, 24hr Water Supply, Gas Pipeline   \n",
       "2    Car Parking, 24hr Water Supply, Gas Pipeline, ...   \n",
       "3    Car Parking, 24hr Water Supply, Maintenance St...   \n",
       "4    Car Parking, 24hr Water Supply, Gas Pipeline, ...   \n",
       "..                                                 ...   \n",
       "197  Car Parking, 24hr Water Supply, Gas Pipeline, ...   \n",
       "198  Car Parking, 24hr Water Supply, Maintenance St...   \n",
       "199             24hr Water Supply, Lift, 24Hr Security   \n",
       "200  Car Parking, 24hr Water Supply, Maintenance St...   \n",
       "201  Car Parking, 24hr Water Supply, Maintenance St...   \n",
       "\n",
       "                                        n_Gas Pipeline  \\\n",
       "0         Car Parking, 24hr Water Supply, Gas Pipeline   \n",
       "1         Car Parking, 24hr Water Supply, Gas Pipeline   \n",
       "2    Car Parking, 24hr Water Supply, Gas Pipeline, ...   \n",
       "3    Car Parking, 24hr Water Supply, Maintenance St...   \n",
       "4    Car Parking, 24hr Water Supply, Gas Pipeline, ...   \n",
       "..                                                 ...   \n",
       "197  Car Parking, 24hr Water Supply, Gas Pipeline, ...   \n",
       "198  Car Parking, 24hr Water Supply, Maintenance St...   \n",
       "199             24hr Water Supply, Lift, 24Hr Security   \n",
       "200  Car Parking, 24hr Water Supply, Maintenance St...   \n",
       "201  Car Parking, 24hr Water Supply, Maintenance St...   \n",
       "\n",
       "                                                n_Lift  \\\n",
       "0         Car Parking, 24hr Water Supply, Gas Pipeline   \n",
       "1         Car Parking, 24hr Water Supply, Gas Pipeline   \n",
       "2    Car Parking, 24hr Water Supply, Gas Pipeline, ...   \n",
       "3    Car Parking, 24hr Water Supply, Maintenance St...   \n",
       "4    Car Parking, 24hr Water Supply, Gas Pipeline, ...   \n",
       "..                                                 ...   \n",
       "197  Car Parking, 24hr Water Supply, Gas Pipeline, ...   \n",
       "198  Car Parking, 24hr Water Supply, Maintenance St...   \n",
       "199             24hr Water Supply, Lift, 24Hr Security   \n",
       "200  Car Parking, 24hr Water Supply, Maintenance St...   \n",
       "201  Car Parking, 24hr Water Supply, Maintenance St...   \n",
       "\n",
       "                                          n_Club house  \\\n",
       "0         Car Parking, 24hr Water Supply, Gas Pipeline   \n",
       "1         Car Parking, 24hr Water Supply, Gas Pipeline   \n",
       "2    Car Parking, 24hr Water Supply, Gas Pipeline, ...   \n",
       "3    Car Parking, 24hr Water Supply, Maintenance St...   \n",
       "4    Car Parking, 24hr Water Supply, Gas Pipeline, ...   \n",
       "..                                                 ...   \n",
       "197  Car Parking, 24hr Water Supply, Gas Pipeline, ...   \n",
       "198  Car Parking, 24hr Water Supply, Maintenance St...   \n",
       "199             24hr Water Supply, Lift, 24Hr Security   \n",
       "200  Car Parking, 24hr Water Supply, Maintenance St...   \n",
       "201  Car Parking, 24hr Water Supply, Maintenance St...   \n",
       "\n",
       "                                       n_24Hr Security  \\\n",
       "0         Car Parking, 24hr Water Supply, Gas Pipeline   \n",
       "1         Car Parking, 24hr Water Supply, Gas Pipeline   \n",
       "2    Car Parking, 24hr Water Supply, Gas Pipeline, ...   \n",
       "3    Car Parking, 24hr Water Supply, Maintenance St...   \n",
       "4    Car Parking, 24hr Water Supply, Gas Pipeline, ...   \n",
       "..                                                 ...   \n",
       "197  Car Parking, 24hr Water Supply, Gas Pipeline, ...   \n",
       "198  Car Parking, 24hr Water Supply, Maintenance St...   \n",
       "199             24hr Water Supply, Lift, 24Hr Security   \n",
       "200  Car Parking, 24hr Water Supply, Maintenance St...   \n",
       "201  Car Parking, 24hr Water Supply, Maintenance St...   \n",
       "\n",
       "                                                 n_Gym  \\\n",
       "0         Car Parking, 24hr Water Supply, Gas Pipeline   \n",
       "1         Car Parking, 24hr Water Supply, Gas Pipeline   \n",
       "2    Car Parking, 24hr Water Supply, Gas Pipeline, ...   \n",
       "3    Car Parking, 24hr Water Supply, Maintenance St...   \n",
       "4    Car Parking, 24hr Water Supply, Gas Pipeline, ...   \n",
       "..                                                 ...   \n",
       "197  Car Parking, 24hr Water Supply, Gas Pipeline, ...   \n",
       "198  Car Parking, 24hr Water Supply, Maintenance St...   \n",
       "199             24hr Water Supply, Lift, 24Hr Security   \n",
       "200  Car Parking, 24hr Water Supply, Maintenance St...   \n",
       "201  Car Parking, 24hr Water Supply, Maintenance St...   \n",
       "\n",
       "                                              n_School  \\\n",
       "0          Hospitals, Medical, Railway Station, Market   \n",
       "1          Hospitals, Medical, Railway Station, Market   \n",
       "2    School, College, Hospitals, Medical, Railway S...   \n",
       "3    School, College, Hospitals, Medical, Railway S...   \n",
       "4    School, College, Hospitals, Medical, Railway S...   \n",
       "..                                                 ...   \n",
       "197  School, College, Hospitals, Medical, Railway S...   \n",
       "198  School, College, Hospitals, Medical, Railway S...   \n",
       "199  School, College, Hospitals, Medical, Railway S...   \n",
       "200  School, College, Hospitals, Medical, Railway S...   \n",
       "201        Hospitals, Medical, Railway Station, Market   \n",
       "\n",
       "                                             n_College  \\\n",
       "0          Hospitals, Medical, Railway Station, Market   \n",
       "1          Hospitals, Medical, Railway Station, Market   \n",
       "2    School, College, Hospitals, Medical, Railway S...   \n",
       "3    School, College, Hospitals, Medical, Railway S...   \n",
       "4    School, College, Hospitals, Medical, Railway S...   \n",
       "..                                                 ...   \n",
       "197  School, College, Hospitals, Medical, Railway S...   \n",
       "198  School, College, Hospitals, Medical, Railway S...   \n",
       "199  School, College, Hospitals, Medical, Railway S...   \n",
       "200  School, College, Hospitals, Medical, Railway S...   \n",
       "201        Hospitals, Medical, Railway Station, Market   \n",
       "\n",
       "                                           n_Hospitals  \\\n",
       "0          Hospitals, Medical, Railway Station, Market   \n",
       "1          Hospitals, Medical, Railway Station, Market   \n",
       "2    School, College, Hospitals, Medical, Railway S...   \n",
       "3    School, College, Hospitals, Medical, Railway S...   \n",
       "4    School, College, Hospitals, Medical, Railway S...   \n",
       "..                                                 ...   \n",
       "197  School, College, Hospitals, Medical, Railway S...   \n",
       "198  School, College, Hospitals, Medical, Railway S...   \n",
       "199  School, College, Hospitals, Medical, Railway S...   \n",
       "200  School, College, Hospitals, Medical, Railway S...   \n",
       "201        Hospitals, Medical, Railway Station, Market   \n",
       "\n",
       "                                             n_Medical  \\\n",
       "0          Hospitals, Medical, Railway Station, Market   \n",
       "1          Hospitals, Medical, Railway Station, Market   \n",
       "2    School, College, Hospitals, Medical, Railway S...   \n",
       "3    School, College, Hospitals, Medical, Railway S...   \n",
       "4    School, College, Hospitals, Medical, Railway S...   \n",
       "..                                                 ...   \n",
       "197  School, College, Hospitals, Medical, Railway S...   \n",
       "198  School, College, Hospitals, Medical, Railway S...   \n",
       "199  School, College, Hospitals, Medical, Railway S...   \n",
       "200  School, College, Hospitals, Medical, Railway S...   \n",
       "201        Hospitals, Medical, Railway Station, Market   \n",
       "\n",
       "                                     n_Railway Station  \\\n",
       "0          Hospitals, Medical, Railway Station, Market   \n",
       "1          Hospitals, Medical, Railway Station, Market   \n",
       "2    School, College, Hospitals, Medical, Railway S...   \n",
       "3    School, College, Hospitals, Medical, Railway S...   \n",
       "4    School, College, Hospitals, Medical, Railway S...   \n",
       "..                                                 ...   \n",
       "197  School, College, Hospitals, Medical, Railway S...   \n",
       "198  School, College, Hospitals, Medical, Railway S...   \n",
       "199  School, College, Hospitals, Medical, Railway S...   \n",
       "200  School, College, Hospitals, Medical, Railway S...   \n",
       "201        Hospitals, Medical, Railway Station, Market   \n",
       "\n",
       "                                              n_Market  \n",
       "0          Hospitals, Medical, Railway Station, Market  \n",
       "1          Hospitals, Medical, Railway Station, Market  \n",
       "2    School, College, Hospitals, Medical, Railway S...  \n",
       "3    School, College, Hospitals, Medical, Railway S...  \n",
       "4    School, College, Hospitals, Medical, Railway S...  \n",
       "..                                                 ...  \n",
       "197  School, College, Hospitals, Medical, Railway S...  \n",
       "198  School, College, Hospitals, Medical, Railway S...  \n",
       "199  School, College, Hospitals, Medical, Railway S...  \n",
       "200  School, College, Hospitals, Medical, Railway S...  \n",
       "201        Hospitals, Medical, Railway Station, Market  \n",
       "\n",
       "[202 rows x 45 columns]"
      ]
     },
     "metadata": {},
     "output_type": "display_data"
    }
   ],
   "source": [
    "dataset = pd.read_csv(\"dataset/Maindataset.csv\")\n",
    "pd.options.display.max_columns = None\n",
    "display(dataset)"
   ]
  },
  {
   "cell_type": "code",
   "execution_count": 3,
   "metadata": {
    "colab": {
     "base_uri": "https://localhost:8080/"
    },
    "id": "6BK71I5niWR4",
    "outputId": "08f2f162-5b1e-4d0b-aa42-5c6787e53bd2"
   },
   "outputs": [
    {
     "data": {
      "text/plain": [
       "(202, 45)"
      ]
     },
     "execution_count": 3,
     "metadata": {},
     "output_type": "execute_result"
    }
   ],
   "source": [
    "dataset.shape"
   ]
  },
  {
   "cell_type": "code",
   "execution_count": 4,
   "metadata": {
    "colab": {
     "base_uri": "https://localhost:8080/",
     "height": 634
    },
    "id": "QIHAMnDuiWR7",
    "outputId": "04fb8ae8-dd57-406a-aac3-19927e59caa9"
   },
   "outputs": [
    {
     "data": {
      "text/html": [
       "<div>\n",
       "<style scoped>\n",
       "    .dataframe tbody tr th:only-of-type {\n",
       "        vertical-align: middle;\n",
       "    }\n",
       "\n",
       "    .dataframe tbody tr th {\n",
       "        vertical-align: top;\n",
       "    }\n",
       "\n",
       "    .dataframe thead th {\n",
       "        text-align: right;\n",
       "    }\n",
       "</style>\n",
       "<table border=\"1\" class=\"dataframe\">\n",
       "  <thead>\n",
       "    <tr style=\"text-align: right;\">\n",
       "      <th></th>\n",
       "      <th>Age</th>\n",
       "      <th>Gender</th>\n",
       "      <th>Location</th>\n",
       "      <th>Income</th>\n",
       "      <th>Own_House</th>\n",
       "      <th>House_Located</th>\n",
       "      <th>Carpet_Area</th>\n",
       "      <th>No of Bedrooms</th>\n",
       "      <th>Price</th>\n",
       "      <th>c_Car Parking</th>\n",
       "      <th>c_24hr Water Supply</th>\n",
       "      <th>c_Maintenance Staff</th>\n",
       "      <th>c_Gas Pipeline</th>\n",
       "      <th>c_Lift</th>\n",
       "      <th>c_Club house</th>\n",
       "      <th>c_24Hr Security</th>\n",
       "      <th>c_Gym</th>\n",
       "      <th>c_School</th>\n",
       "      <th>c_College</th>\n",
       "      <th>c_Hospitals</th>\n",
       "      <th>c_Medical</th>\n",
       "      <th>c_Railway Station</th>\n",
       "      <th>c_Market</th>\n",
       "      <th>New_House</th>\n",
       "      <th>House_Loan</th>\n",
       "      <th>n_Location</th>\n",
       "      <th>n_House_Type</th>\n",
       "      <th>Budget</th>\n",
       "      <th>n_Carpet_Area</th>\n",
       "      <th>n_Bedrooms</th>\n",
       "      <th>New/Resale</th>\n",
       "      <th>n_Car Parking</th>\n",
       "      <th>n_24hr Water Supply</th>\n",
       "      <th>n_Maintenance Staff</th>\n",
       "      <th>n_Gas Pipeline</th>\n",
       "      <th>n_Lift</th>\n",
       "      <th>n_Club house</th>\n",
       "      <th>n_24Hr Security</th>\n",
       "      <th>n_Gym</th>\n",
       "      <th>n_School</th>\n",
       "      <th>n_College</th>\n",
       "      <th>n_Hospitals</th>\n",
       "      <th>n_Medical</th>\n",
       "      <th>n_Railway Station</th>\n",
       "      <th>n_Market</th>\n",
       "    </tr>\n",
       "  </thead>\n",
       "  <tbody>\n",
       "    <tr>\n",
       "      <th>0</th>\n",
       "      <td>46 - 55</td>\n",
       "      <td>Male</td>\n",
       "      <td>Andheri</td>\n",
       "      <td>7lakh - 9lakh</td>\n",
       "      <td>Yes</td>\n",
       "      <td>Building</td>\n",
       "      <td>2016.0</td>\n",
       "      <td>3 BHK</td>\n",
       "      <td>33400000.0</td>\n",
       "      <td>Car Parking, Gas Pipeline, Lift</td>\n",
       "      <td>Car Parking, Gas Pipeline, Lift</td>\n",
       "      <td>Car Parking, Gas Pipeline, Lift</td>\n",
       "      <td>Car Parking, Gas Pipeline, Lift</td>\n",
       "      <td>Car Parking, Gas Pipeline, Lift</td>\n",
       "      <td>Car Parking, Gas Pipeline, Lift</td>\n",
       "      <td>Car Parking, Gas Pipeline, Lift</td>\n",
       "      <td>Car Parking, Gas Pipeline, Lift</td>\n",
       "      <td>Hospitals, Medical, Railway Station, Market</td>\n",
       "      <td>Hospitals, Medical, Railway Station, Market</td>\n",
       "      <td>Hospitals, Medical, Railway Station, Market</td>\n",
       "      <td>Hospitals, Medical, Railway Station, Market</td>\n",
       "      <td>Hospitals, Medical, Railway Station, Market</td>\n",
       "      <td>Hospitals, Medical, Railway Station, Market</td>\n",
       "      <td>No</td>\n",
       "      <td>Yes</td>\n",
       "      <td>Borivali</td>\n",
       "      <td>Bungalow</td>\n",
       "      <td>1Cr - 2Cr</td>\n",
       "      <td>2000</td>\n",
       "      <td>3 BHK</td>\n",
       "      <td>Resale House</td>\n",
       "      <td>Car Parking, 24hr Water Supply, Gas Pipeline</td>\n",
       "      <td>Car Parking, 24hr Water Supply, Gas Pipeline</td>\n",
       "      <td>Car Parking, 24hr Water Supply, Gas Pipeline</td>\n",
       "      <td>Car Parking, 24hr Water Supply, Gas Pipeline</td>\n",
       "      <td>Car Parking, 24hr Water Supply, Gas Pipeline</td>\n",
       "      <td>Car Parking, 24hr Water Supply, Gas Pipeline</td>\n",
       "      <td>Car Parking, 24hr Water Supply, Gas Pipeline</td>\n",
       "      <td>Car Parking, 24hr Water Supply, Gas Pipeline</td>\n",
       "      <td>Hospitals, Medical, Railway Station, Market</td>\n",
       "      <td>Hospitals, Medical, Railway Station, Market</td>\n",
       "      <td>Hospitals, Medical, Railway Station, Market</td>\n",
       "      <td>Hospitals, Medical, Railway Station, Market</td>\n",
       "      <td>Hospitals, Medical, Railway Station, Market</td>\n",
       "      <td>Hospitals, Medical, Railway Station, Market</td>\n",
       "    </tr>\n",
       "    <tr>\n",
       "      <th>1</th>\n",
       "      <td>56 - 65</td>\n",
       "      <td>Male</td>\n",
       "      <td>Andheri</td>\n",
       "      <td>9lakh - 11lakh</td>\n",
       "      <td>Yes</td>\n",
       "      <td>Building</td>\n",
       "      <td>1260.0</td>\n",
       "      <td>2 BHK</td>\n",
       "      <td>20000000.0</td>\n",
       "      <td>Car Parking, Maintenance Staff, Lift</td>\n",
       "      <td>Car Parking, Maintenance Staff, Lift</td>\n",
       "      <td>Car Parking, Maintenance Staff, Lift</td>\n",
       "      <td>Car Parking, Maintenance Staff, Lift</td>\n",
       "      <td>Car Parking, Maintenance Staff, Lift</td>\n",
       "      <td>Car Parking, Maintenance Staff, Lift</td>\n",
       "      <td>Car Parking, Maintenance Staff, Lift</td>\n",
       "      <td>Car Parking, Maintenance Staff, Lift</td>\n",
       "      <td>Railway Station, Market</td>\n",
       "      <td>Railway Station, Market</td>\n",
       "      <td>Railway Station, Market</td>\n",
       "      <td>Railway Station, Market</td>\n",
       "      <td>Railway Station, Market</td>\n",
       "      <td>Railway Station, Market</td>\n",
       "      <td>No</td>\n",
       "      <td>Yes</td>\n",
       "      <td>Borivali</td>\n",
       "      <td>Row House</td>\n",
       "      <td>2Cr - 3Cr</td>\n",
       "      <td>2000</td>\n",
       "      <td>3 BHK</td>\n",
       "      <td>New House</td>\n",
       "      <td>Car Parking, 24hr Water Supply, Gas Pipeline</td>\n",
       "      <td>Car Parking, 24hr Water Supply, Gas Pipeline</td>\n",
       "      <td>Car Parking, 24hr Water Supply, Gas Pipeline</td>\n",
       "      <td>Car Parking, 24hr Water Supply, Gas Pipeline</td>\n",
       "      <td>Car Parking, 24hr Water Supply, Gas Pipeline</td>\n",
       "      <td>Car Parking, 24hr Water Supply, Gas Pipeline</td>\n",
       "      <td>Car Parking, 24hr Water Supply, Gas Pipeline</td>\n",
       "      <td>Car Parking, 24hr Water Supply, Gas Pipeline</td>\n",
       "      <td>Hospitals, Medical, Railway Station, Market</td>\n",
       "      <td>Hospitals, Medical, Railway Station, Market</td>\n",
       "      <td>Hospitals, Medical, Railway Station, Market</td>\n",
       "      <td>Hospitals, Medical, Railway Station, Market</td>\n",
       "      <td>Hospitals, Medical, Railway Station, Market</td>\n",
       "      <td>Hospitals, Medical, Railway Station, Market</td>\n",
       "    </tr>\n",
       "    <tr>\n",
       "      <th>2</th>\n",
       "      <td>36 - 45</td>\n",
       "      <td>Male</td>\n",
       "      <td>Andheri</td>\n",
       "      <td>11lakh and above</td>\n",
       "      <td>Yes</td>\n",
       "      <td>Building</td>\n",
       "      <td>450.0</td>\n",
       "      <td>1 BHK</td>\n",
       "      <td>15000000.0</td>\n",
       "      <td>24hr Water Supply, Gas Pipeline, Lift</td>\n",
       "      <td>24hr Water Supply, Gas Pipeline, Lift</td>\n",
       "      <td>24hr Water Supply, Gas Pipeline, Lift</td>\n",
       "      <td>24hr Water Supply, Gas Pipeline, Lift</td>\n",
       "      <td>24hr Water Supply, Gas Pipeline, Lift</td>\n",
       "      <td>24hr Water Supply, Gas Pipeline, Lift</td>\n",
       "      <td>24hr Water Supply, Gas Pipeline, Lift</td>\n",
       "      <td>24hr Water Supply, Gas Pipeline, Lift</td>\n",
       "      <td>School, College, Hospitals, Medical, Railway S...</td>\n",
       "      <td>School, College, Hospitals, Medical, Railway S...</td>\n",
       "      <td>School, College, Hospitals, Medical, Railway S...</td>\n",
       "      <td>School, College, Hospitals, Medical, Railway S...</td>\n",
       "      <td>School, College, Hospitals, Medical, Railway S...</td>\n",
       "      <td>School, College, Hospitals, Medical, Railway S...</td>\n",
       "      <td>Yes</td>\n",
       "      <td>Yes</td>\n",
       "      <td>Dadar</td>\n",
       "      <td>Building</td>\n",
       "      <td>1Cr - 2Cr</td>\n",
       "      <td>450</td>\n",
       "      <td>1 BHK</td>\n",
       "      <td>New House</td>\n",
       "      <td>Car Parking, 24hr Water Supply, Gas Pipeline, ...</td>\n",
       "      <td>Car Parking, 24hr Water Supply, Gas Pipeline, ...</td>\n",
       "      <td>Car Parking, 24hr Water Supply, Gas Pipeline, ...</td>\n",
       "      <td>Car Parking, 24hr Water Supply, Gas Pipeline, ...</td>\n",
       "      <td>Car Parking, 24hr Water Supply, Gas Pipeline, ...</td>\n",
       "      <td>Car Parking, 24hr Water Supply, Gas Pipeline, ...</td>\n",
       "      <td>Car Parking, 24hr Water Supply, Gas Pipeline, ...</td>\n",
       "      <td>Car Parking, 24hr Water Supply, Gas Pipeline, ...</td>\n",
       "      <td>School, College, Hospitals, Medical, Railway S...</td>\n",
       "      <td>School, College, Hospitals, Medical, Railway S...</td>\n",
       "      <td>School, College, Hospitals, Medical, Railway S...</td>\n",
       "      <td>School, College, Hospitals, Medical, Railway S...</td>\n",
       "      <td>School, College, Hospitals, Medical, Railway S...</td>\n",
       "      <td>School, College, Hospitals, Medical, Railway S...</td>\n",
       "    </tr>\n",
       "    <tr>\n",
       "      <th>3</th>\n",
       "      <td>36 - 45</td>\n",
       "      <td>Female</td>\n",
       "      <td>Andheri</td>\n",
       "      <td>11lakh and above</td>\n",
       "      <td>Yes</td>\n",
       "      <td>Building</td>\n",
       "      <td>750.0</td>\n",
       "      <td>1 BHK</td>\n",
       "      <td>20000000.0</td>\n",
       "      <td>Car Parking, 24hr Water Supply, Maintenance St...</td>\n",
       "      <td>Car Parking, 24hr Water Supply, Maintenance St...</td>\n",
       "      <td>Car Parking, 24hr Water Supply, Maintenance St...</td>\n",
       "      <td>Car Parking, 24hr Water Supply, Maintenance St...</td>\n",
       "      <td>Car Parking, 24hr Water Supply, Maintenance St...</td>\n",
       "      <td>Car Parking, 24hr Water Supply, Maintenance St...</td>\n",
       "      <td>Car Parking, 24hr Water Supply, Maintenance St...</td>\n",
       "      <td>Car Parking, 24hr Water Supply, Maintenance St...</td>\n",
       "      <td>School, College, Hospitals, Medical, Railway S...</td>\n",
       "      <td>School, College, Hospitals, Medical, Railway S...</td>\n",
       "      <td>School, College, Hospitals, Medical, Railway S...</td>\n",
       "      <td>School, College, Hospitals, Medical, Railway S...</td>\n",
       "      <td>School, College, Hospitals, Medical, Railway S...</td>\n",
       "      <td>School, College, Hospitals, Medical, Railway S...</td>\n",
       "      <td>No</td>\n",
       "      <td>No</td>\n",
       "      <td>Andheri</td>\n",
       "      <td>Building</td>\n",
       "      <td>1Cr - 2Cr</td>\n",
       "      <td>1000</td>\n",
       "      <td>2 BHK</td>\n",
       "      <td>New House</td>\n",
       "      <td>Car Parking, 24hr Water Supply, Maintenance St...</td>\n",
       "      <td>Car Parking, 24hr Water Supply, Maintenance St...</td>\n",
       "      <td>Car Parking, 24hr Water Supply, Maintenance St...</td>\n",
       "      <td>Car Parking, 24hr Water Supply, Maintenance St...</td>\n",
       "      <td>Car Parking, 24hr Water Supply, Maintenance St...</td>\n",
       "      <td>Car Parking, 24hr Water Supply, Maintenance St...</td>\n",
       "      <td>Car Parking, 24hr Water Supply, Maintenance St...</td>\n",
       "      <td>Car Parking, 24hr Water Supply, Maintenance St...</td>\n",
       "      <td>School, College, Hospitals, Medical, Railway S...</td>\n",
       "      <td>School, College, Hospitals, Medical, Railway S...</td>\n",
       "      <td>School, College, Hospitals, Medical, Railway S...</td>\n",
       "      <td>School, College, Hospitals, Medical, Railway S...</td>\n",
       "      <td>School, College, Hospitals, Medical, Railway S...</td>\n",
       "      <td>School, College, Hospitals, Medical, Railway S...</td>\n",
       "    </tr>\n",
       "    <tr>\n",
       "      <th>4</th>\n",
       "      <td>25 - 35</td>\n",
       "      <td>Male</td>\n",
       "      <td>Andheri</td>\n",
       "      <td>9lakh - 11lakh</td>\n",
       "      <td>Yes</td>\n",
       "      <td>Building</td>\n",
       "      <td>475.0</td>\n",
       "      <td>1 BHK</td>\n",
       "      <td>15000000.0</td>\n",
       "      <td>Car Parking, 24hr Water Supply, Gas Pipeline, ...</td>\n",
       "      <td>Car Parking, 24hr Water Supply, Gas Pipeline, ...</td>\n",
       "      <td>Car Parking, 24hr Water Supply, Gas Pipeline, ...</td>\n",
       "      <td>Car Parking, 24hr Water Supply, Gas Pipeline, ...</td>\n",
       "      <td>Car Parking, 24hr Water Supply, Gas Pipeline, ...</td>\n",
       "      <td>Car Parking, 24hr Water Supply, Gas Pipeline, ...</td>\n",
       "      <td>Car Parking, 24hr Water Supply, Gas Pipeline, ...</td>\n",
       "      <td>Car Parking, 24hr Water Supply, Gas Pipeline, ...</td>\n",
       "      <td>School, College, Hospitals, Medical, Railway S...</td>\n",
       "      <td>School, College, Hospitals, Medical, Railway S...</td>\n",
       "      <td>School, College, Hospitals, Medical, Railway S...</td>\n",
       "      <td>School, College, Hospitals, Medical, Railway S...</td>\n",
       "      <td>School, College, Hospitals, Medical, Railway S...</td>\n",
       "      <td>School, College, Hospitals, Medical, Railway S...</td>\n",
       "      <td>No</td>\n",
       "      <td>Yes</td>\n",
       "      <td>Dadar</td>\n",
       "      <td>Building</td>\n",
       "      <td>1Cr - 2Cr</td>\n",
       "      <td>500</td>\n",
       "      <td>1 BHK</td>\n",
       "      <td>Resale House</td>\n",
       "      <td>Car Parking, 24hr Water Supply, Gas Pipeline, ...</td>\n",
       "      <td>Car Parking, 24hr Water Supply, Gas Pipeline, ...</td>\n",
       "      <td>Car Parking, 24hr Water Supply, Gas Pipeline, ...</td>\n",
       "      <td>Car Parking, 24hr Water Supply, Gas Pipeline, ...</td>\n",
       "      <td>Car Parking, 24hr Water Supply, Gas Pipeline, ...</td>\n",
       "      <td>Car Parking, 24hr Water Supply, Gas Pipeline, ...</td>\n",
       "      <td>Car Parking, 24hr Water Supply, Gas Pipeline, ...</td>\n",
       "      <td>Car Parking, 24hr Water Supply, Gas Pipeline, ...</td>\n",
       "      <td>School, College, Hospitals, Medical, Railway S...</td>\n",
       "      <td>School, College, Hospitals, Medical, Railway S...</td>\n",
       "      <td>School, College, Hospitals, Medical, Railway S...</td>\n",
       "      <td>School, College, Hospitals, Medical, Railway S...</td>\n",
       "      <td>School, College, Hospitals, Medical, Railway S...</td>\n",
       "      <td>School, College, Hospitals, Medical, Railway S...</td>\n",
       "    </tr>\n",
       "  </tbody>\n",
       "</table>\n",
       "</div>"
      ],
      "text/plain": [
       "       Age  Gender Location            Income Own_House House_Located  \\\n",
       "0  46 - 55    Male  Andheri     7lakh - 9lakh       Yes      Building   \n",
       "1  56 - 65    Male  Andheri    9lakh - 11lakh       Yes      Building   \n",
       "2  36 - 45    Male  Andheri  11lakh and above       Yes      Building   \n",
       "3  36 - 45  Female  Andheri  11lakh and above       Yes      Building   \n",
       "4  25 - 35    Male  Andheri    9lakh - 11lakh       Yes      Building   \n",
       "\n",
       "   Carpet_Area No of Bedrooms       Price  \\\n",
       "0       2016.0          3 BHK  33400000.0   \n",
       "1       1260.0          2 BHK  20000000.0   \n",
       "2        450.0          1 BHK  15000000.0   \n",
       "3        750.0          1 BHK  20000000.0   \n",
       "4        475.0          1 BHK  15000000.0   \n",
       "\n",
       "                                       c_Car Parking  \\\n",
       "0                    Car Parking, Gas Pipeline, Lift   \n",
       "1               Car Parking, Maintenance Staff, Lift   \n",
       "2              24hr Water Supply, Gas Pipeline, Lift   \n",
       "3  Car Parking, 24hr Water Supply, Maintenance St...   \n",
       "4  Car Parking, 24hr Water Supply, Gas Pipeline, ...   \n",
       "\n",
       "                                 c_24hr Water Supply  \\\n",
       "0                    Car Parking, Gas Pipeline, Lift   \n",
       "1               Car Parking, Maintenance Staff, Lift   \n",
       "2              24hr Water Supply, Gas Pipeline, Lift   \n",
       "3  Car Parking, 24hr Water Supply, Maintenance St...   \n",
       "4  Car Parking, 24hr Water Supply, Gas Pipeline, ...   \n",
       "\n",
       "                                 c_Maintenance Staff  \\\n",
       "0                    Car Parking, Gas Pipeline, Lift   \n",
       "1               Car Parking, Maintenance Staff, Lift   \n",
       "2              24hr Water Supply, Gas Pipeline, Lift   \n",
       "3  Car Parking, 24hr Water Supply, Maintenance St...   \n",
       "4  Car Parking, 24hr Water Supply, Gas Pipeline, ...   \n",
       "\n",
       "                                      c_Gas Pipeline  \\\n",
       "0                    Car Parking, Gas Pipeline, Lift   \n",
       "1               Car Parking, Maintenance Staff, Lift   \n",
       "2              24hr Water Supply, Gas Pipeline, Lift   \n",
       "3  Car Parking, 24hr Water Supply, Maintenance St...   \n",
       "4  Car Parking, 24hr Water Supply, Gas Pipeline, ...   \n",
       "\n",
       "                                              c_Lift  \\\n",
       "0                    Car Parking, Gas Pipeline, Lift   \n",
       "1               Car Parking, Maintenance Staff, Lift   \n",
       "2              24hr Water Supply, Gas Pipeline, Lift   \n",
       "3  Car Parking, 24hr Water Supply, Maintenance St...   \n",
       "4  Car Parking, 24hr Water Supply, Gas Pipeline, ...   \n",
       "\n",
       "                                        c_Club house  \\\n",
       "0                    Car Parking, Gas Pipeline, Lift   \n",
       "1               Car Parking, Maintenance Staff, Lift   \n",
       "2              24hr Water Supply, Gas Pipeline, Lift   \n",
       "3  Car Parking, 24hr Water Supply, Maintenance St...   \n",
       "4  Car Parking, 24hr Water Supply, Gas Pipeline, ...   \n",
       "\n",
       "                                     c_24Hr Security  \\\n",
       "0                    Car Parking, Gas Pipeline, Lift   \n",
       "1               Car Parking, Maintenance Staff, Lift   \n",
       "2              24hr Water Supply, Gas Pipeline, Lift   \n",
       "3  Car Parking, 24hr Water Supply, Maintenance St...   \n",
       "4  Car Parking, 24hr Water Supply, Gas Pipeline, ...   \n",
       "\n",
       "                                               c_Gym  \\\n",
       "0                    Car Parking, Gas Pipeline, Lift   \n",
       "1               Car Parking, Maintenance Staff, Lift   \n",
       "2              24hr Water Supply, Gas Pipeline, Lift   \n",
       "3  Car Parking, 24hr Water Supply, Maintenance St...   \n",
       "4  Car Parking, 24hr Water Supply, Gas Pipeline, ...   \n",
       "\n",
       "                                            c_School  \\\n",
       "0        Hospitals, Medical, Railway Station, Market   \n",
       "1                            Railway Station, Market   \n",
       "2  School, College, Hospitals, Medical, Railway S...   \n",
       "3  School, College, Hospitals, Medical, Railway S...   \n",
       "4  School, College, Hospitals, Medical, Railway S...   \n",
       "\n",
       "                                           c_College  \\\n",
       "0        Hospitals, Medical, Railway Station, Market   \n",
       "1                            Railway Station, Market   \n",
       "2  School, College, Hospitals, Medical, Railway S...   \n",
       "3  School, College, Hospitals, Medical, Railway S...   \n",
       "4  School, College, Hospitals, Medical, Railway S...   \n",
       "\n",
       "                                         c_Hospitals  \\\n",
       "0        Hospitals, Medical, Railway Station, Market   \n",
       "1                            Railway Station, Market   \n",
       "2  School, College, Hospitals, Medical, Railway S...   \n",
       "3  School, College, Hospitals, Medical, Railway S...   \n",
       "4  School, College, Hospitals, Medical, Railway S...   \n",
       "\n",
       "                                           c_Medical  \\\n",
       "0        Hospitals, Medical, Railway Station, Market   \n",
       "1                            Railway Station, Market   \n",
       "2  School, College, Hospitals, Medical, Railway S...   \n",
       "3  School, College, Hospitals, Medical, Railway S...   \n",
       "4  School, College, Hospitals, Medical, Railway S...   \n",
       "\n",
       "                                   c_Railway Station  \\\n",
       "0        Hospitals, Medical, Railway Station, Market   \n",
       "1                            Railway Station, Market   \n",
       "2  School, College, Hospitals, Medical, Railway S...   \n",
       "3  School, College, Hospitals, Medical, Railway S...   \n",
       "4  School, College, Hospitals, Medical, Railway S...   \n",
       "\n",
       "                                            c_Market New_House House_Loan  \\\n",
       "0        Hospitals, Medical, Railway Station, Market        No        Yes   \n",
       "1                            Railway Station, Market        No        Yes   \n",
       "2  School, College, Hospitals, Medical, Railway S...       Yes        Yes   \n",
       "3  School, College, Hospitals, Medical, Railway S...        No         No   \n",
       "4  School, College, Hospitals, Medical, Railway S...        No        Yes   \n",
       "\n",
       "  n_Location n_House_Type     Budget  n_Carpet_Area n_Bedrooms    New/Resale  \\\n",
       "0   Borivali     Bungalow  1Cr - 2Cr           2000      3 BHK  Resale House   \n",
       "1   Borivali    Row House  2Cr - 3Cr           2000      3 BHK     New House   \n",
       "2      Dadar     Building  1Cr - 2Cr            450      1 BHK     New House   \n",
       "3    Andheri     Building  1Cr - 2Cr           1000      2 BHK     New House   \n",
       "4      Dadar     Building  1Cr - 2Cr            500      1 BHK  Resale House   \n",
       "\n",
       "                                       n_Car Parking  \\\n",
       "0       Car Parking, 24hr Water Supply, Gas Pipeline   \n",
       "1       Car Parking, 24hr Water Supply, Gas Pipeline   \n",
       "2  Car Parking, 24hr Water Supply, Gas Pipeline, ...   \n",
       "3  Car Parking, 24hr Water Supply, Maintenance St...   \n",
       "4  Car Parking, 24hr Water Supply, Gas Pipeline, ...   \n",
       "\n",
       "                                 n_24hr Water Supply  \\\n",
       "0       Car Parking, 24hr Water Supply, Gas Pipeline   \n",
       "1       Car Parking, 24hr Water Supply, Gas Pipeline   \n",
       "2  Car Parking, 24hr Water Supply, Gas Pipeline, ...   \n",
       "3  Car Parking, 24hr Water Supply, Maintenance St...   \n",
       "4  Car Parking, 24hr Water Supply, Gas Pipeline, ...   \n",
       "\n",
       "                                 n_Maintenance Staff  \\\n",
       "0       Car Parking, 24hr Water Supply, Gas Pipeline   \n",
       "1       Car Parking, 24hr Water Supply, Gas Pipeline   \n",
       "2  Car Parking, 24hr Water Supply, Gas Pipeline, ...   \n",
       "3  Car Parking, 24hr Water Supply, Maintenance St...   \n",
       "4  Car Parking, 24hr Water Supply, Gas Pipeline, ...   \n",
       "\n",
       "                                      n_Gas Pipeline  \\\n",
       "0       Car Parking, 24hr Water Supply, Gas Pipeline   \n",
       "1       Car Parking, 24hr Water Supply, Gas Pipeline   \n",
       "2  Car Parking, 24hr Water Supply, Gas Pipeline, ...   \n",
       "3  Car Parking, 24hr Water Supply, Maintenance St...   \n",
       "4  Car Parking, 24hr Water Supply, Gas Pipeline, ...   \n",
       "\n",
       "                                              n_Lift  \\\n",
       "0       Car Parking, 24hr Water Supply, Gas Pipeline   \n",
       "1       Car Parking, 24hr Water Supply, Gas Pipeline   \n",
       "2  Car Parking, 24hr Water Supply, Gas Pipeline, ...   \n",
       "3  Car Parking, 24hr Water Supply, Maintenance St...   \n",
       "4  Car Parking, 24hr Water Supply, Gas Pipeline, ...   \n",
       "\n",
       "                                        n_Club house  \\\n",
       "0       Car Parking, 24hr Water Supply, Gas Pipeline   \n",
       "1       Car Parking, 24hr Water Supply, Gas Pipeline   \n",
       "2  Car Parking, 24hr Water Supply, Gas Pipeline, ...   \n",
       "3  Car Parking, 24hr Water Supply, Maintenance St...   \n",
       "4  Car Parking, 24hr Water Supply, Gas Pipeline, ...   \n",
       "\n",
       "                                     n_24Hr Security  \\\n",
       "0       Car Parking, 24hr Water Supply, Gas Pipeline   \n",
       "1       Car Parking, 24hr Water Supply, Gas Pipeline   \n",
       "2  Car Parking, 24hr Water Supply, Gas Pipeline, ...   \n",
       "3  Car Parking, 24hr Water Supply, Maintenance St...   \n",
       "4  Car Parking, 24hr Water Supply, Gas Pipeline, ...   \n",
       "\n",
       "                                               n_Gym  \\\n",
       "0       Car Parking, 24hr Water Supply, Gas Pipeline   \n",
       "1       Car Parking, 24hr Water Supply, Gas Pipeline   \n",
       "2  Car Parking, 24hr Water Supply, Gas Pipeline, ...   \n",
       "3  Car Parking, 24hr Water Supply, Maintenance St...   \n",
       "4  Car Parking, 24hr Water Supply, Gas Pipeline, ...   \n",
       "\n",
       "                                            n_School  \\\n",
       "0        Hospitals, Medical, Railway Station, Market   \n",
       "1        Hospitals, Medical, Railway Station, Market   \n",
       "2  School, College, Hospitals, Medical, Railway S...   \n",
       "3  School, College, Hospitals, Medical, Railway S...   \n",
       "4  School, College, Hospitals, Medical, Railway S...   \n",
       "\n",
       "                                           n_College  \\\n",
       "0        Hospitals, Medical, Railway Station, Market   \n",
       "1        Hospitals, Medical, Railway Station, Market   \n",
       "2  School, College, Hospitals, Medical, Railway S...   \n",
       "3  School, College, Hospitals, Medical, Railway S...   \n",
       "4  School, College, Hospitals, Medical, Railway S...   \n",
       "\n",
       "                                         n_Hospitals  \\\n",
       "0        Hospitals, Medical, Railway Station, Market   \n",
       "1        Hospitals, Medical, Railway Station, Market   \n",
       "2  School, College, Hospitals, Medical, Railway S...   \n",
       "3  School, College, Hospitals, Medical, Railway S...   \n",
       "4  School, College, Hospitals, Medical, Railway S...   \n",
       "\n",
       "                                           n_Medical  \\\n",
       "0        Hospitals, Medical, Railway Station, Market   \n",
       "1        Hospitals, Medical, Railway Station, Market   \n",
       "2  School, College, Hospitals, Medical, Railway S...   \n",
       "3  School, College, Hospitals, Medical, Railway S...   \n",
       "4  School, College, Hospitals, Medical, Railway S...   \n",
       "\n",
       "                                   n_Railway Station  \\\n",
       "0        Hospitals, Medical, Railway Station, Market   \n",
       "1        Hospitals, Medical, Railway Station, Market   \n",
       "2  School, College, Hospitals, Medical, Railway S...   \n",
       "3  School, College, Hospitals, Medical, Railway S...   \n",
       "4  School, College, Hospitals, Medical, Railway S...   \n",
       "\n",
       "                                            n_Market  \n",
       "0        Hospitals, Medical, Railway Station, Market  \n",
       "1        Hospitals, Medical, Railway Station, Market  \n",
       "2  School, College, Hospitals, Medical, Railway S...  \n",
       "3  School, College, Hospitals, Medical, Railway S...  \n",
       "4  School, College, Hospitals, Medical, Railway S...  "
      ]
     },
     "execution_count": 4,
     "metadata": {},
     "output_type": "execute_result"
    }
   ],
   "source": [
    "dataset=dataset.rename({'What is your age?':'Age',\n",
    "          'What is your gender?':'Gender', \n",
    "          'In which area do you stay in western line in Mumbai?':'Location',\n",
    "        'Your yearly income in INR':'Income',\n",
    "           'Do you own a house?': 'Own_House',\n",
    "           'Where is your house located?':'House_Located',   \n",
    "          'What is the carpet area of your current house in square feet?':'Carpet_Area',\n",
    "          'What is the current price of your house in INR?':'Price',\n",
    "          'How many rooms do you have?':'No of Bedrooms',\n",
    "          'Are you planning to buy a new house in Mumbai(Western Line)?':'New_House',\n",
    "          'Would you take a housing loan if you had to buy a house?':'House_Loan',\n",
    "        'In which area you would like to buy a new house in Mumbai(Western Line) if you had to?':'n_Location',\n",
    "        'What type of house you would look for if you had to buy a house?':'n_House_Type',  \n",
    "        'What would be your budget if you had to buy a house?':'Budget',\n",
    "        'How much carpet area would you want(square feet) if you had to buy a house?':'n_Carpet_Area',\n",
    "        'How many rooms do you want if you had to buy a house?':'n_Bedrooms',\n",
    "        'If you had to buy a house what would you buy?':'New/Resale'},axis=1)\n",
    "dataset.head()"
   ]
  },
  {
   "cell_type": "code",
   "execution_count": 5,
   "metadata": {
    "id": "fQmyBLT_iWSG"
   },
   "outputs": [],
   "source": [
    "dataset1=dataset.copy()"
   ]
  },
  {
   "cell_type": "code",
   "execution_count": 6,
   "metadata": {
    "colab": {
     "base_uri": "https://localhost:8080/"
    },
    "id": "upKFFnNdiWSJ",
    "outputId": "e9f0261f-8c81-46a5-d4f2-5ab3ecf19f3e"
   },
   "outputs": [
    {
     "name": "stdout",
     "output_type": "stream",
     "text": [
      "<class 'pandas.core.frame.DataFrame'>\n",
      "RangeIndex: 202 entries, 0 to 201\n",
      "Data columns (total 45 columns):\n",
      " #   Column               Non-Null Count  Dtype  \n",
      "---  ------               --------------  -----  \n",
      " 0   Age                  202 non-null    object \n",
      " 1   Gender               202 non-null    object \n",
      " 2   Location             202 non-null    object \n",
      " 3   Income               202 non-null    object \n",
      " 4   Own_House            202 non-null    object \n",
      " 5   House_Located        183 non-null    object \n",
      " 6   Carpet_Area          183 non-null    float64\n",
      " 7   No of Bedrooms       183 non-null    object \n",
      " 8   Price                184 non-null    float64\n",
      " 9   c_Car Parking        184 non-null    object \n",
      " 10  c_24hr Water Supply  184 non-null    object \n",
      " 11  c_Maintenance Staff  184 non-null    object \n",
      " 12  c_Gas Pipeline       184 non-null    object \n",
      " 13  c_Lift               184 non-null    object \n",
      " 14  c_Club house         184 non-null    object \n",
      " 15  c_24Hr Security      184 non-null    object \n",
      " 16  c_Gym                184 non-null    object \n",
      " 17  c_School             184 non-null    object \n",
      " 18  c_College            184 non-null    object \n",
      " 19  c_Hospitals          184 non-null    object \n",
      " 20  c_Medical            184 non-null    object \n",
      " 21  c_Railway Station    184 non-null    object \n",
      " 22  c_Market             184 non-null    object \n",
      " 23  New_House            202 non-null    object \n",
      " 24  House_Loan           202 non-null    object \n",
      " 25  n_Location           202 non-null    object \n",
      " 26  n_House_Type         202 non-null    object \n",
      " 27  Budget               202 non-null    object \n",
      " 28  n_Carpet_Area        202 non-null    int64  \n",
      " 29  n_Bedrooms           202 non-null    object \n",
      " 30  New/Resale           202 non-null    object \n",
      " 31  n_Car Parking        202 non-null    object \n",
      " 32  n_24hr Water Supply  202 non-null    object \n",
      " 33  n_Maintenance Staff  202 non-null    object \n",
      " 34  n_Gas Pipeline       202 non-null    object \n",
      " 35  n_Lift               202 non-null    object \n",
      " 36  n_Club house         202 non-null    object \n",
      " 37  n_24Hr Security      202 non-null    object \n",
      " 38  n_Gym                202 non-null    object \n",
      " 39  n_School             202 non-null    object \n",
      " 40  n_College            202 non-null    object \n",
      " 41  n_Hospitals          202 non-null    object \n",
      " 42  n_Medical            202 non-null    object \n",
      " 43  n_Railway Station    202 non-null    object \n",
      " 44  n_Market             202 non-null    object \n",
      "dtypes: float64(2), int64(1), object(42)\n",
      "memory usage: 71.1+ KB\n"
     ]
    }
   ],
   "source": [
    "dataset.info()"
   ]
  },
  {
   "cell_type": "code",
   "execution_count": 7,
   "metadata": {
    "colab": {
     "base_uri": "https://localhost:8080/"
    },
    "id": "krOm5FiSiWSK",
    "outputId": "d0b62798-59be-48c5-932d-816ae2bc84db"
   },
   "outputs": [
    {
     "data": {
      "text/plain": [
       "Age                     0\n",
       "Gender                  0\n",
       "Location                0\n",
       "Income                  0\n",
       "Own_House               0\n",
       "House_Located          19\n",
       "Carpet_Area            19\n",
       "No of Bedrooms         19\n",
       "Price                  18\n",
       "c_Car Parking          18\n",
       "c_24hr Water Supply    18\n",
       "c_Maintenance Staff    18\n",
       "c_Gas Pipeline         18\n",
       "c_Lift                 18\n",
       "c_Club house           18\n",
       "c_24Hr Security        18\n",
       "c_Gym                  18\n",
       "c_School               18\n",
       "c_College              18\n",
       "c_Hospitals            18\n",
       "c_Medical              18\n",
       "c_Railway Station      18\n",
       "c_Market               18\n",
       "New_House               0\n",
       "House_Loan              0\n",
       "n_Location              0\n",
       "n_House_Type            0\n",
       "Budget                  0\n",
       "n_Carpet_Area           0\n",
       "n_Bedrooms              0\n",
       "New/Resale              0\n",
       "n_Car Parking           0\n",
       "n_24hr Water Supply     0\n",
       "n_Maintenance Staff     0\n",
       "n_Gas Pipeline          0\n",
       "n_Lift                  0\n",
       "n_Club house            0\n",
       "n_24Hr Security         0\n",
       "n_Gym                   0\n",
       "n_School                0\n",
       "n_College               0\n",
       "n_Hospitals             0\n",
       "n_Medical               0\n",
       "n_Railway Station       0\n",
       "n_Market                0\n",
       "dtype: int64"
      ]
     },
     "execution_count": 7,
     "metadata": {},
     "output_type": "execute_result"
    }
   ],
   "source": [
    "dataset.isnull().sum()"
   ]
  },
  {
   "cell_type": "code",
   "execution_count": 8,
   "metadata": {
    "colab": {
     "base_uri": "https://localhost:8080/"
    },
    "id": "NyeH5TzyiWSL",
    "outputId": "09fbc3e9-d840-4acf-f632-49cb6856eae6"
   },
   "outputs": [
    {
     "data": {
      "text/plain": [
       "Age                    0\n",
       "Gender                 0\n",
       "Location               0\n",
       "Income                 0\n",
       "Own_House              0\n",
       "House_Located          0\n",
       "Carpet_Area            0\n",
       "No of Bedrooms         0\n",
       "Price                  0\n",
       "c_Car Parking          0\n",
       "c_24hr Water Supply    0\n",
       "c_Maintenance Staff    0\n",
       "c_Gas Pipeline         0\n",
       "c_Lift                 0\n",
       "c_Club house           0\n",
       "c_24Hr Security        0\n",
       "c_Gym                  0\n",
       "c_School               0\n",
       "c_College              0\n",
       "c_Hospitals            0\n",
       "c_Medical              0\n",
       "c_Railway Station      0\n",
       "c_Market               0\n",
       "New_House              0\n",
       "House_Loan             0\n",
       "n_Location             0\n",
       "n_House_Type           0\n",
       "Budget                 0\n",
       "n_Carpet_Area          0\n",
       "n_Bedrooms             0\n",
       "New/Resale             0\n",
       "n_Car Parking          0\n",
       "n_24hr Water Supply    0\n",
       "n_Maintenance Staff    0\n",
       "n_Gas Pipeline         0\n",
       "n_Lift                 0\n",
       "n_Club house           0\n",
       "n_24Hr Security        0\n",
       "n_Gym                  0\n",
       "n_School               0\n",
       "n_College              0\n",
       "n_Hospitals            0\n",
       "n_Medical              0\n",
       "n_Railway Station      0\n",
       "n_Market               0\n",
       "dtype: int64"
      ]
     },
     "execution_count": 8,
     "metadata": {},
     "output_type": "execute_result"
    }
   ],
   "source": [
    "dataset = dataset.dropna()\n",
    "dataset.isnull().sum()"
   ]
  },
  {
   "cell_type": "code",
   "execution_count": 9,
   "metadata": {
    "colab": {
     "base_uri": "https://localhost:8080/",
     "height": 634
    },
    "id": "Ifh6gomyiWSM",
    "outputId": "8819c04a-832b-4971-f4a3-e32e374b9887",
    "scrolled": true
   },
   "outputs": [
    {
     "data": {
      "text/html": [
       "<div>\n",
       "<style scoped>\n",
       "    .dataframe tbody tr th:only-of-type {\n",
       "        vertical-align: middle;\n",
       "    }\n",
       "\n",
       "    .dataframe tbody tr th {\n",
       "        vertical-align: top;\n",
       "    }\n",
       "\n",
       "    .dataframe thead th {\n",
       "        text-align: right;\n",
       "    }\n",
       "</style>\n",
       "<table border=\"1\" class=\"dataframe\">\n",
       "  <thead>\n",
       "    <tr style=\"text-align: right;\">\n",
       "      <th></th>\n",
       "      <th>Age</th>\n",
       "      <th>Gender</th>\n",
       "      <th>Location</th>\n",
       "      <th>Income</th>\n",
       "      <th>Own_House</th>\n",
       "      <th>House_Located</th>\n",
       "      <th>Carpet_Area</th>\n",
       "      <th>No of Bedrooms</th>\n",
       "      <th>Price</th>\n",
       "      <th>c_Car Parking</th>\n",
       "      <th>c_24hr Water Supply</th>\n",
       "      <th>c_Maintenance Staff</th>\n",
       "      <th>c_Gas Pipeline</th>\n",
       "      <th>c_Lift</th>\n",
       "      <th>c_Club house</th>\n",
       "      <th>c_24Hr Security</th>\n",
       "      <th>c_Gym</th>\n",
       "      <th>c_School</th>\n",
       "      <th>c_College</th>\n",
       "      <th>c_Hospitals</th>\n",
       "      <th>c_Medical</th>\n",
       "      <th>c_Railway Station</th>\n",
       "      <th>c_Market</th>\n",
       "      <th>New_House</th>\n",
       "      <th>House_Loan</th>\n",
       "      <th>n_Location</th>\n",
       "      <th>n_House_Type</th>\n",
       "      <th>Budget</th>\n",
       "      <th>n_Carpet_Area</th>\n",
       "      <th>n_Bedrooms</th>\n",
       "      <th>New/Resale</th>\n",
       "      <th>n_Car Parking</th>\n",
       "      <th>n_24hr Water Supply</th>\n",
       "      <th>n_Maintenance Staff</th>\n",
       "      <th>n_Gas Pipeline</th>\n",
       "      <th>n_Lift</th>\n",
       "      <th>n_Club house</th>\n",
       "      <th>n_24Hr Security</th>\n",
       "      <th>n_Gym</th>\n",
       "      <th>n_School</th>\n",
       "      <th>n_College</th>\n",
       "      <th>n_Hospitals</th>\n",
       "      <th>n_Medical</th>\n",
       "      <th>n_Railway Station</th>\n",
       "      <th>n_Market</th>\n",
       "    </tr>\n",
       "  </thead>\n",
       "  <tbody>\n",
       "    <tr>\n",
       "      <th>0</th>\n",
       "      <td>46 - 55</td>\n",
       "      <td>Male</td>\n",
       "      <td>Andheri</td>\n",
       "      <td>7lakh - 9lakh</td>\n",
       "      <td>Yes</td>\n",
       "      <td>Building</td>\n",
       "      <td>2016.0</td>\n",
       "      <td>3 BHK</td>\n",
       "      <td>33400000.0</td>\n",
       "      <td>Car Parking, Gas Pipeline, Lift</td>\n",
       "      <td>Car Parking, Gas Pipeline, Lift</td>\n",
       "      <td>Car Parking, Gas Pipeline, Lift</td>\n",
       "      <td>Car Parking, Gas Pipeline, Lift</td>\n",
       "      <td>Car Parking, Gas Pipeline, Lift</td>\n",
       "      <td>Car Parking, Gas Pipeline, Lift</td>\n",
       "      <td>Car Parking, Gas Pipeline, Lift</td>\n",
       "      <td>Car Parking, Gas Pipeline, Lift</td>\n",
       "      <td>Hospitals, Medical, Railway Station, Market</td>\n",
       "      <td>Hospitals, Medical, Railway Station, Market</td>\n",
       "      <td>Hospitals, Medical, Railway Station, Market</td>\n",
       "      <td>Hospitals, Medical, Railway Station, Market</td>\n",
       "      <td>Hospitals, Medical, Railway Station, Market</td>\n",
       "      <td>Hospitals, Medical, Railway Station, Market</td>\n",
       "      <td>No</td>\n",
       "      <td>Yes</td>\n",
       "      <td>Borivali</td>\n",
       "      <td>Bungalow</td>\n",
       "      <td>1Cr - 2Cr</td>\n",
       "      <td>2000</td>\n",
       "      <td>3 BHK</td>\n",
       "      <td>Resale House</td>\n",
       "      <td>Car Parking, 24hr Water Supply, Gas Pipeline</td>\n",
       "      <td>Car Parking, 24hr Water Supply, Gas Pipeline</td>\n",
       "      <td>Car Parking, 24hr Water Supply, Gas Pipeline</td>\n",
       "      <td>Car Parking, 24hr Water Supply, Gas Pipeline</td>\n",
       "      <td>Car Parking, 24hr Water Supply, Gas Pipeline</td>\n",
       "      <td>Car Parking, 24hr Water Supply, Gas Pipeline</td>\n",
       "      <td>Car Parking, 24hr Water Supply, Gas Pipeline</td>\n",
       "      <td>Car Parking, 24hr Water Supply, Gas Pipeline</td>\n",
       "      <td>Hospitals, Medical, Railway Station, Market</td>\n",
       "      <td>Hospitals, Medical, Railway Station, Market</td>\n",
       "      <td>Hospitals, Medical, Railway Station, Market</td>\n",
       "      <td>Hospitals, Medical, Railway Station, Market</td>\n",
       "      <td>Hospitals, Medical, Railway Station, Market</td>\n",
       "      <td>Hospitals, Medical, Railway Station, Market</td>\n",
       "    </tr>\n",
       "    <tr>\n",
       "      <th>1</th>\n",
       "      <td>56 - 65</td>\n",
       "      <td>Male</td>\n",
       "      <td>Andheri</td>\n",
       "      <td>9lakh - 11lakh</td>\n",
       "      <td>Yes</td>\n",
       "      <td>Building</td>\n",
       "      <td>1260.0</td>\n",
       "      <td>2 BHK</td>\n",
       "      <td>20000000.0</td>\n",
       "      <td>Car Parking, Maintenance Staff, Lift</td>\n",
       "      <td>Car Parking, Maintenance Staff, Lift</td>\n",
       "      <td>Car Parking, Maintenance Staff, Lift</td>\n",
       "      <td>Car Parking, Maintenance Staff, Lift</td>\n",
       "      <td>Car Parking, Maintenance Staff, Lift</td>\n",
       "      <td>Car Parking, Maintenance Staff, Lift</td>\n",
       "      <td>Car Parking, Maintenance Staff, Lift</td>\n",
       "      <td>Car Parking, Maintenance Staff, Lift</td>\n",
       "      <td>Railway Station, Market</td>\n",
       "      <td>Railway Station, Market</td>\n",
       "      <td>Railway Station, Market</td>\n",
       "      <td>Railway Station, Market</td>\n",
       "      <td>Railway Station, Market</td>\n",
       "      <td>Railway Station, Market</td>\n",
       "      <td>No</td>\n",
       "      <td>Yes</td>\n",
       "      <td>Borivali</td>\n",
       "      <td>Row House</td>\n",
       "      <td>2Cr - 3Cr</td>\n",
       "      <td>2000</td>\n",
       "      <td>3 BHK</td>\n",
       "      <td>New House</td>\n",
       "      <td>Car Parking, 24hr Water Supply, Gas Pipeline</td>\n",
       "      <td>Car Parking, 24hr Water Supply, Gas Pipeline</td>\n",
       "      <td>Car Parking, 24hr Water Supply, Gas Pipeline</td>\n",
       "      <td>Car Parking, 24hr Water Supply, Gas Pipeline</td>\n",
       "      <td>Car Parking, 24hr Water Supply, Gas Pipeline</td>\n",
       "      <td>Car Parking, 24hr Water Supply, Gas Pipeline</td>\n",
       "      <td>Car Parking, 24hr Water Supply, Gas Pipeline</td>\n",
       "      <td>Car Parking, 24hr Water Supply, Gas Pipeline</td>\n",
       "      <td>Hospitals, Medical, Railway Station, Market</td>\n",
       "      <td>Hospitals, Medical, Railway Station, Market</td>\n",
       "      <td>Hospitals, Medical, Railway Station, Market</td>\n",
       "      <td>Hospitals, Medical, Railway Station, Market</td>\n",
       "      <td>Hospitals, Medical, Railway Station, Market</td>\n",
       "      <td>Hospitals, Medical, Railway Station, Market</td>\n",
       "    </tr>\n",
       "    <tr>\n",
       "      <th>2</th>\n",
       "      <td>36 - 45</td>\n",
       "      <td>Male</td>\n",
       "      <td>Andheri</td>\n",
       "      <td>11lakh and above</td>\n",
       "      <td>Yes</td>\n",
       "      <td>Building</td>\n",
       "      <td>450.0</td>\n",
       "      <td>1 BHK</td>\n",
       "      <td>15000000.0</td>\n",
       "      <td>24hr Water Supply, Gas Pipeline, Lift</td>\n",
       "      <td>24hr Water Supply, Gas Pipeline, Lift</td>\n",
       "      <td>24hr Water Supply, Gas Pipeline, Lift</td>\n",
       "      <td>24hr Water Supply, Gas Pipeline, Lift</td>\n",
       "      <td>24hr Water Supply, Gas Pipeline, Lift</td>\n",
       "      <td>24hr Water Supply, Gas Pipeline, Lift</td>\n",
       "      <td>24hr Water Supply, Gas Pipeline, Lift</td>\n",
       "      <td>24hr Water Supply, Gas Pipeline, Lift</td>\n",
       "      <td>School, College, Hospitals, Medical, Railway S...</td>\n",
       "      <td>School, College, Hospitals, Medical, Railway S...</td>\n",
       "      <td>School, College, Hospitals, Medical, Railway S...</td>\n",
       "      <td>School, College, Hospitals, Medical, Railway S...</td>\n",
       "      <td>School, College, Hospitals, Medical, Railway S...</td>\n",
       "      <td>School, College, Hospitals, Medical, Railway S...</td>\n",
       "      <td>Yes</td>\n",
       "      <td>Yes</td>\n",
       "      <td>Dadar</td>\n",
       "      <td>Building</td>\n",
       "      <td>1Cr - 2Cr</td>\n",
       "      <td>450</td>\n",
       "      <td>1 BHK</td>\n",
       "      <td>New House</td>\n",
       "      <td>Car Parking, 24hr Water Supply, Gas Pipeline, ...</td>\n",
       "      <td>Car Parking, 24hr Water Supply, Gas Pipeline, ...</td>\n",
       "      <td>Car Parking, 24hr Water Supply, Gas Pipeline, ...</td>\n",
       "      <td>Car Parking, 24hr Water Supply, Gas Pipeline, ...</td>\n",
       "      <td>Car Parking, 24hr Water Supply, Gas Pipeline, ...</td>\n",
       "      <td>Car Parking, 24hr Water Supply, Gas Pipeline, ...</td>\n",
       "      <td>Car Parking, 24hr Water Supply, Gas Pipeline, ...</td>\n",
       "      <td>Car Parking, 24hr Water Supply, Gas Pipeline, ...</td>\n",
       "      <td>School, College, Hospitals, Medical, Railway S...</td>\n",
       "      <td>School, College, Hospitals, Medical, Railway S...</td>\n",
       "      <td>School, College, Hospitals, Medical, Railway S...</td>\n",
       "      <td>School, College, Hospitals, Medical, Railway S...</td>\n",
       "      <td>School, College, Hospitals, Medical, Railway S...</td>\n",
       "      <td>School, College, Hospitals, Medical, Railway S...</td>\n",
       "    </tr>\n",
       "    <tr>\n",
       "      <th>3</th>\n",
       "      <td>36 - 45</td>\n",
       "      <td>Female</td>\n",
       "      <td>Andheri</td>\n",
       "      <td>11lakh and above</td>\n",
       "      <td>Yes</td>\n",
       "      <td>Building</td>\n",
       "      <td>750.0</td>\n",
       "      <td>1 BHK</td>\n",
       "      <td>20000000.0</td>\n",
       "      <td>Car Parking, 24hr Water Supply, Maintenance St...</td>\n",
       "      <td>Car Parking, 24hr Water Supply, Maintenance St...</td>\n",
       "      <td>Car Parking, 24hr Water Supply, Maintenance St...</td>\n",
       "      <td>Car Parking, 24hr Water Supply, Maintenance St...</td>\n",
       "      <td>Car Parking, 24hr Water Supply, Maintenance St...</td>\n",
       "      <td>Car Parking, 24hr Water Supply, Maintenance St...</td>\n",
       "      <td>Car Parking, 24hr Water Supply, Maintenance St...</td>\n",
       "      <td>Car Parking, 24hr Water Supply, Maintenance St...</td>\n",
       "      <td>School, College, Hospitals, Medical, Railway S...</td>\n",
       "      <td>School, College, Hospitals, Medical, Railway S...</td>\n",
       "      <td>School, College, Hospitals, Medical, Railway S...</td>\n",
       "      <td>School, College, Hospitals, Medical, Railway S...</td>\n",
       "      <td>School, College, Hospitals, Medical, Railway S...</td>\n",
       "      <td>School, College, Hospitals, Medical, Railway S...</td>\n",
       "      <td>No</td>\n",
       "      <td>No</td>\n",
       "      <td>Andheri</td>\n",
       "      <td>Building</td>\n",
       "      <td>1Cr - 2Cr</td>\n",
       "      <td>1000</td>\n",
       "      <td>2 BHK</td>\n",
       "      <td>New House</td>\n",
       "      <td>Car Parking, 24hr Water Supply, Maintenance St...</td>\n",
       "      <td>Car Parking, 24hr Water Supply, Maintenance St...</td>\n",
       "      <td>Car Parking, 24hr Water Supply, Maintenance St...</td>\n",
       "      <td>Car Parking, 24hr Water Supply, Maintenance St...</td>\n",
       "      <td>Car Parking, 24hr Water Supply, Maintenance St...</td>\n",
       "      <td>Car Parking, 24hr Water Supply, Maintenance St...</td>\n",
       "      <td>Car Parking, 24hr Water Supply, Maintenance St...</td>\n",
       "      <td>Car Parking, 24hr Water Supply, Maintenance St...</td>\n",
       "      <td>School, College, Hospitals, Medical, Railway S...</td>\n",
       "      <td>School, College, Hospitals, Medical, Railway S...</td>\n",
       "      <td>School, College, Hospitals, Medical, Railway S...</td>\n",
       "      <td>School, College, Hospitals, Medical, Railway S...</td>\n",
       "      <td>School, College, Hospitals, Medical, Railway S...</td>\n",
       "      <td>School, College, Hospitals, Medical, Railway S...</td>\n",
       "    </tr>\n",
       "    <tr>\n",
       "      <th>4</th>\n",
       "      <td>25 - 35</td>\n",
       "      <td>Male</td>\n",
       "      <td>Andheri</td>\n",
       "      <td>9lakh - 11lakh</td>\n",
       "      <td>Yes</td>\n",
       "      <td>Building</td>\n",
       "      <td>475.0</td>\n",
       "      <td>1 BHK</td>\n",
       "      <td>15000000.0</td>\n",
       "      <td>Car Parking, 24hr Water Supply, Gas Pipeline, ...</td>\n",
       "      <td>Car Parking, 24hr Water Supply, Gas Pipeline, ...</td>\n",
       "      <td>Car Parking, 24hr Water Supply, Gas Pipeline, ...</td>\n",
       "      <td>Car Parking, 24hr Water Supply, Gas Pipeline, ...</td>\n",
       "      <td>Car Parking, 24hr Water Supply, Gas Pipeline, ...</td>\n",
       "      <td>Car Parking, 24hr Water Supply, Gas Pipeline, ...</td>\n",
       "      <td>Car Parking, 24hr Water Supply, Gas Pipeline, ...</td>\n",
       "      <td>Car Parking, 24hr Water Supply, Gas Pipeline, ...</td>\n",
       "      <td>School, College, Hospitals, Medical, Railway S...</td>\n",
       "      <td>School, College, Hospitals, Medical, Railway S...</td>\n",
       "      <td>School, College, Hospitals, Medical, Railway S...</td>\n",
       "      <td>School, College, Hospitals, Medical, Railway S...</td>\n",
       "      <td>School, College, Hospitals, Medical, Railway S...</td>\n",
       "      <td>School, College, Hospitals, Medical, Railway S...</td>\n",
       "      <td>No</td>\n",
       "      <td>Yes</td>\n",
       "      <td>Dadar</td>\n",
       "      <td>Building</td>\n",
       "      <td>1Cr - 2Cr</td>\n",
       "      <td>500</td>\n",
       "      <td>1 BHK</td>\n",
       "      <td>Resale House</td>\n",
       "      <td>Car Parking, 24hr Water Supply, Gas Pipeline, ...</td>\n",
       "      <td>Car Parking, 24hr Water Supply, Gas Pipeline, ...</td>\n",
       "      <td>Car Parking, 24hr Water Supply, Gas Pipeline, ...</td>\n",
       "      <td>Car Parking, 24hr Water Supply, Gas Pipeline, ...</td>\n",
       "      <td>Car Parking, 24hr Water Supply, Gas Pipeline, ...</td>\n",
       "      <td>Car Parking, 24hr Water Supply, Gas Pipeline, ...</td>\n",
       "      <td>Car Parking, 24hr Water Supply, Gas Pipeline, ...</td>\n",
       "      <td>Car Parking, 24hr Water Supply, Gas Pipeline, ...</td>\n",
       "      <td>School, College, Hospitals, Medical, Railway S...</td>\n",
       "      <td>School, College, Hospitals, Medical, Railway S...</td>\n",
       "      <td>School, College, Hospitals, Medical, Railway S...</td>\n",
       "      <td>School, College, Hospitals, Medical, Railway S...</td>\n",
       "      <td>School, College, Hospitals, Medical, Railway S...</td>\n",
       "      <td>School, College, Hospitals, Medical, Railway S...</td>\n",
       "    </tr>\n",
       "  </tbody>\n",
       "</table>\n",
       "</div>"
      ],
      "text/plain": [
       "       Age  Gender Location            Income Own_House House_Located  \\\n",
       "0  46 - 55    Male  Andheri     7lakh - 9lakh       Yes      Building   \n",
       "1  56 - 65    Male  Andheri    9lakh - 11lakh       Yes      Building   \n",
       "2  36 - 45    Male  Andheri  11lakh and above       Yes      Building   \n",
       "3  36 - 45  Female  Andheri  11lakh and above       Yes      Building   \n",
       "4  25 - 35    Male  Andheri    9lakh - 11lakh       Yes      Building   \n",
       "\n",
       "   Carpet_Area No of Bedrooms       Price  \\\n",
       "0       2016.0          3 BHK  33400000.0   \n",
       "1       1260.0          2 BHK  20000000.0   \n",
       "2        450.0          1 BHK  15000000.0   \n",
       "3        750.0          1 BHK  20000000.0   \n",
       "4        475.0          1 BHK  15000000.0   \n",
       "\n",
       "                                       c_Car Parking  \\\n",
       "0                    Car Parking, Gas Pipeline, Lift   \n",
       "1               Car Parking, Maintenance Staff, Lift   \n",
       "2              24hr Water Supply, Gas Pipeline, Lift   \n",
       "3  Car Parking, 24hr Water Supply, Maintenance St...   \n",
       "4  Car Parking, 24hr Water Supply, Gas Pipeline, ...   \n",
       "\n",
       "                                 c_24hr Water Supply  \\\n",
       "0                    Car Parking, Gas Pipeline, Lift   \n",
       "1               Car Parking, Maintenance Staff, Lift   \n",
       "2              24hr Water Supply, Gas Pipeline, Lift   \n",
       "3  Car Parking, 24hr Water Supply, Maintenance St...   \n",
       "4  Car Parking, 24hr Water Supply, Gas Pipeline, ...   \n",
       "\n",
       "                                 c_Maintenance Staff  \\\n",
       "0                    Car Parking, Gas Pipeline, Lift   \n",
       "1               Car Parking, Maintenance Staff, Lift   \n",
       "2              24hr Water Supply, Gas Pipeline, Lift   \n",
       "3  Car Parking, 24hr Water Supply, Maintenance St...   \n",
       "4  Car Parking, 24hr Water Supply, Gas Pipeline, ...   \n",
       "\n",
       "                                      c_Gas Pipeline  \\\n",
       "0                    Car Parking, Gas Pipeline, Lift   \n",
       "1               Car Parking, Maintenance Staff, Lift   \n",
       "2              24hr Water Supply, Gas Pipeline, Lift   \n",
       "3  Car Parking, 24hr Water Supply, Maintenance St...   \n",
       "4  Car Parking, 24hr Water Supply, Gas Pipeline, ...   \n",
       "\n",
       "                                              c_Lift  \\\n",
       "0                    Car Parking, Gas Pipeline, Lift   \n",
       "1               Car Parking, Maintenance Staff, Lift   \n",
       "2              24hr Water Supply, Gas Pipeline, Lift   \n",
       "3  Car Parking, 24hr Water Supply, Maintenance St...   \n",
       "4  Car Parking, 24hr Water Supply, Gas Pipeline, ...   \n",
       "\n",
       "                                        c_Club house  \\\n",
       "0                    Car Parking, Gas Pipeline, Lift   \n",
       "1               Car Parking, Maintenance Staff, Lift   \n",
       "2              24hr Water Supply, Gas Pipeline, Lift   \n",
       "3  Car Parking, 24hr Water Supply, Maintenance St...   \n",
       "4  Car Parking, 24hr Water Supply, Gas Pipeline, ...   \n",
       "\n",
       "                                     c_24Hr Security  \\\n",
       "0                    Car Parking, Gas Pipeline, Lift   \n",
       "1               Car Parking, Maintenance Staff, Lift   \n",
       "2              24hr Water Supply, Gas Pipeline, Lift   \n",
       "3  Car Parking, 24hr Water Supply, Maintenance St...   \n",
       "4  Car Parking, 24hr Water Supply, Gas Pipeline, ...   \n",
       "\n",
       "                                               c_Gym  \\\n",
       "0                    Car Parking, Gas Pipeline, Lift   \n",
       "1               Car Parking, Maintenance Staff, Lift   \n",
       "2              24hr Water Supply, Gas Pipeline, Lift   \n",
       "3  Car Parking, 24hr Water Supply, Maintenance St...   \n",
       "4  Car Parking, 24hr Water Supply, Gas Pipeline, ...   \n",
       "\n",
       "                                            c_School  \\\n",
       "0        Hospitals, Medical, Railway Station, Market   \n",
       "1                            Railway Station, Market   \n",
       "2  School, College, Hospitals, Medical, Railway S...   \n",
       "3  School, College, Hospitals, Medical, Railway S...   \n",
       "4  School, College, Hospitals, Medical, Railway S...   \n",
       "\n",
       "                                           c_College  \\\n",
       "0        Hospitals, Medical, Railway Station, Market   \n",
       "1                            Railway Station, Market   \n",
       "2  School, College, Hospitals, Medical, Railway S...   \n",
       "3  School, College, Hospitals, Medical, Railway S...   \n",
       "4  School, College, Hospitals, Medical, Railway S...   \n",
       "\n",
       "                                         c_Hospitals  \\\n",
       "0        Hospitals, Medical, Railway Station, Market   \n",
       "1                            Railway Station, Market   \n",
       "2  School, College, Hospitals, Medical, Railway S...   \n",
       "3  School, College, Hospitals, Medical, Railway S...   \n",
       "4  School, College, Hospitals, Medical, Railway S...   \n",
       "\n",
       "                                           c_Medical  \\\n",
       "0        Hospitals, Medical, Railway Station, Market   \n",
       "1                            Railway Station, Market   \n",
       "2  School, College, Hospitals, Medical, Railway S...   \n",
       "3  School, College, Hospitals, Medical, Railway S...   \n",
       "4  School, College, Hospitals, Medical, Railway S...   \n",
       "\n",
       "                                   c_Railway Station  \\\n",
       "0        Hospitals, Medical, Railway Station, Market   \n",
       "1                            Railway Station, Market   \n",
       "2  School, College, Hospitals, Medical, Railway S...   \n",
       "3  School, College, Hospitals, Medical, Railway S...   \n",
       "4  School, College, Hospitals, Medical, Railway S...   \n",
       "\n",
       "                                            c_Market New_House House_Loan  \\\n",
       "0        Hospitals, Medical, Railway Station, Market        No        Yes   \n",
       "1                            Railway Station, Market        No        Yes   \n",
       "2  School, College, Hospitals, Medical, Railway S...       Yes        Yes   \n",
       "3  School, College, Hospitals, Medical, Railway S...        No         No   \n",
       "4  School, College, Hospitals, Medical, Railway S...        No        Yes   \n",
       "\n",
       "  n_Location n_House_Type     Budget  n_Carpet_Area n_Bedrooms    New/Resale  \\\n",
       "0   Borivali     Bungalow  1Cr - 2Cr           2000      3 BHK  Resale House   \n",
       "1   Borivali    Row House  2Cr - 3Cr           2000      3 BHK     New House   \n",
       "2      Dadar     Building  1Cr - 2Cr            450      1 BHK     New House   \n",
       "3    Andheri     Building  1Cr - 2Cr           1000      2 BHK     New House   \n",
       "4      Dadar     Building  1Cr - 2Cr            500      1 BHK  Resale House   \n",
       "\n",
       "                                       n_Car Parking  \\\n",
       "0       Car Parking, 24hr Water Supply, Gas Pipeline   \n",
       "1       Car Parking, 24hr Water Supply, Gas Pipeline   \n",
       "2  Car Parking, 24hr Water Supply, Gas Pipeline, ...   \n",
       "3  Car Parking, 24hr Water Supply, Maintenance St...   \n",
       "4  Car Parking, 24hr Water Supply, Gas Pipeline, ...   \n",
       "\n",
       "                                 n_24hr Water Supply  \\\n",
       "0       Car Parking, 24hr Water Supply, Gas Pipeline   \n",
       "1       Car Parking, 24hr Water Supply, Gas Pipeline   \n",
       "2  Car Parking, 24hr Water Supply, Gas Pipeline, ...   \n",
       "3  Car Parking, 24hr Water Supply, Maintenance St...   \n",
       "4  Car Parking, 24hr Water Supply, Gas Pipeline, ...   \n",
       "\n",
       "                                 n_Maintenance Staff  \\\n",
       "0       Car Parking, 24hr Water Supply, Gas Pipeline   \n",
       "1       Car Parking, 24hr Water Supply, Gas Pipeline   \n",
       "2  Car Parking, 24hr Water Supply, Gas Pipeline, ...   \n",
       "3  Car Parking, 24hr Water Supply, Maintenance St...   \n",
       "4  Car Parking, 24hr Water Supply, Gas Pipeline, ...   \n",
       "\n",
       "                                      n_Gas Pipeline  \\\n",
       "0       Car Parking, 24hr Water Supply, Gas Pipeline   \n",
       "1       Car Parking, 24hr Water Supply, Gas Pipeline   \n",
       "2  Car Parking, 24hr Water Supply, Gas Pipeline, ...   \n",
       "3  Car Parking, 24hr Water Supply, Maintenance St...   \n",
       "4  Car Parking, 24hr Water Supply, Gas Pipeline, ...   \n",
       "\n",
       "                                              n_Lift  \\\n",
       "0       Car Parking, 24hr Water Supply, Gas Pipeline   \n",
       "1       Car Parking, 24hr Water Supply, Gas Pipeline   \n",
       "2  Car Parking, 24hr Water Supply, Gas Pipeline, ...   \n",
       "3  Car Parking, 24hr Water Supply, Maintenance St...   \n",
       "4  Car Parking, 24hr Water Supply, Gas Pipeline, ...   \n",
       "\n",
       "                                        n_Club house  \\\n",
       "0       Car Parking, 24hr Water Supply, Gas Pipeline   \n",
       "1       Car Parking, 24hr Water Supply, Gas Pipeline   \n",
       "2  Car Parking, 24hr Water Supply, Gas Pipeline, ...   \n",
       "3  Car Parking, 24hr Water Supply, Maintenance St...   \n",
       "4  Car Parking, 24hr Water Supply, Gas Pipeline, ...   \n",
       "\n",
       "                                     n_24Hr Security  \\\n",
       "0       Car Parking, 24hr Water Supply, Gas Pipeline   \n",
       "1       Car Parking, 24hr Water Supply, Gas Pipeline   \n",
       "2  Car Parking, 24hr Water Supply, Gas Pipeline, ...   \n",
       "3  Car Parking, 24hr Water Supply, Maintenance St...   \n",
       "4  Car Parking, 24hr Water Supply, Gas Pipeline, ...   \n",
       "\n",
       "                                               n_Gym  \\\n",
       "0       Car Parking, 24hr Water Supply, Gas Pipeline   \n",
       "1       Car Parking, 24hr Water Supply, Gas Pipeline   \n",
       "2  Car Parking, 24hr Water Supply, Gas Pipeline, ...   \n",
       "3  Car Parking, 24hr Water Supply, Maintenance St...   \n",
       "4  Car Parking, 24hr Water Supply, Gas Pipeline, ...   \n",
       "\n",
       "                                            n_School  \\\n",
       "0        Hospitals, Medical, Railway Station, Market   \n",
       "1        Hospitals, Medical, Railway Station, Market   \n",
       "2  School, College, Hospitals, Medical, Railway S...   \n",
       "3  School, College, Hospitals, Medical, Railway S...   \n",
       "4  School, College, Hospitals, Medical, Railway S...   \n",
       "\n",
       "                                           n_College  \\\n",
       "0        Hospitals, Medical, Railway Station, Market   \n",
       "1        Hospitals, Medical, Railway Station, Market   \n",
       "2  School, College, Hospitals, Medical, Railway S...   \n",
       "3  School, College, Hospitals, Medical, Railway S...   \n",
       "4  School, College, Hospitals, Medical, Railway S...   \n",
       "\n",
       "                                         n_Hospitals  \\\n",
       "0        Hospitals, Medical, Railway Station, Market   \n",
       "1        Hospitals, Medical, Railway Station, Market   \n",
       "2  School, College, Hospitals, Medical, Railway S...   \n",
       "3  School, College, Hospitals, Medical, Railway S...   \n",
       "4  School, College, Hospitals, Medical, Railway S...   \n",
       "\n",
       "                                           n_Medical  \\\n",
       "0        Hospitals, Medical, Railway Station, Market   \n",
       "1        Hospitals, Medical, Railway Station, Market   \n",
       "2  School, College, Hospitals, Medical, Railway S...   \n",
       "3  School, College, Hospitals, Medical, Railway S...   \n",
       "4  School, College, Hospitals, Medical, Railway S...   \n",
       "\n",
       "                                   n_Railway Station  \\\n",
       "0        Hospitals, Medical, Railway Station, Market   \n",
       "1        Hospitals, Medical, Railway Station, Market   \n",
       "2  School, College, Hospitals, Medical, Railway S...   \n",
       "3  School, College, Hospitals, Medical, Railway S...   \n",
       "4  School, College, Hospitals, Medical, Railway S...   \n",
       "\n",
       "                                            n_Market  \n",
       "0        Hospitals, Medical, Railway Station, Market  \n",
       "1        Hospitals, Medical, Railway Station, Market  \n",
       "2  School, College, Hospitals, Medical, Railway S...  \n",
       "3  School, College, Hospitals, Medical, Railway S...  \n",
       "4  School, College, Hospitals, Medical, Railway S...  "
      ]
     },
     "execution_count": 9,
     "metadata": {},
     "output_type": "execute_result"
    }
   ],
   "source": [
    "dataset.head()"
   ]
  },
  {
   "cell_type": "code",
   "execution_count": 10,
   "metadata": {
    "colab": {
     "base_uri": "https://localhost:8080/"
    },
    "id": "XpOFE_52iWSN",
    "outputId": "0b89b20e-9621-4a3b-d2e0-9cd8d76968e2"
   },
   "outputs": [
    {
     "name": "stdout",
     "output_type": "stream",
     "text": [
      "<class 'pandas.core.frame.DataFrame'>\n",
      "Int64Index: 183 entries, 0 to 201\n",
      "Data columns (total 45 columns):\n",
      " #   Column               Non-Null Count  Dtype  \n",
      "---  ------               --------------  -----  \n",
      " 0   Age                  183 non-null    object \n",
      " 1   Gender               183 non-null    object \n",
      " 2   Location             183 non-null    object \n",
      " 3   Income               183 non-null    object \n",
      " 4   Own_House            183 non-null    object \n",
      " 5   House_Located        183 non-null    object \n",
      " 6   Carpet_Area          183 non-null    float64\n",
      " 7   No of Bedrooms       183 non-null    object \n",
      " 8   Price                183 non-null    float64\n",
      " 9   c_Car Parking        183 non-null    object \n",
      " 10  c_24hr Water Supply  183 non-null    object \n",
      " 11  c_Maintenance Staff  183 non-null    object \n",
      " 12  c_Gas Pipeline       183 non-null    object \n",
      " 13  c_Lift               183 non-null    object \n",
      " 14  c_Club house         183 non-null    object \n",
      " 15  c_24Hr Security      183 non-null    object \n",
      " 16  c_Gym                183 non-null    object \n",
      " 17  c_School             183 non-null    object \n",
      " 18  c_College            183 non-null    object \n",
      " 19  c_Hospitals          183 non-null    object \n",
      " 20  c_Medical            183 non-null    object \n",
      " 21  c_Railway Station    183 non-null    object \n",
      " 22  c_Market             183 non-null    object \n",
      " 23  New_House            183 non-null    object \n",
      " 24  House_Loan           183 non-null    object \n",
      " 25  n_Location           183 non-null    object \n",
      " 26  n_House_Type         183 non-null    object \n",
      " 27  Budget               183 non-null    object \n",
      " 28  n_Carpet_Area        183 non-null    int64  \n",
      " 29  n_Bedrooms           183 non-null    object \n",
      " 30  New/Resale           183 non-null    object \n",
      " 31  n_Car Parking        183 non-null    object \n",
      " 32  n_24hr Water Supply  183 non-null    object \n",
      " 33  n_Maintenance Staff  183 non-null    object \n",
      " 34  n_Gas Pipeline       183 non-null    object \n",
      " 35  n_Lift               183 non-null    object \n",
      " 36  n_Club house         183 non-null    object \n",
      " 37  n_24Hr Security      183 non-null    object \n",
      " 38  n_Gym                183 non-null    object \n",
      " 39  n_School             183 non-null    object \n",
      " 40  n_College            183 non-null    object \n",
      " 41  n_Hospitals          183 non-null    object \n",
      " 42  n_Medical            183 non-null    object \n",
      " 43  n_Railway Station    183 non-null    object \n",
      " 44  n_Market             183 non-null    object \n",
      "dtypes: float64(2), int64(1), object(42)\n",
      "memory usage: 65.8+ KB\n"
     ]
    }
   ],
   "source": [
    "dataset.info()"
   ]
  },
  {
   "cell_type": "code",
   "execution_count": 11,
   "metadata": {
    "id": "RMHBE0JCiWSO"
   },
   "outputs": [],
   "source": [
    "data = dataset"
   ]
  },
  {
   "cell_type": "code",
   "execution_count": null,
   "metadata": {
    "id": "fnceH6sniWSO"
   },
   "outputs": [],
   "source": [
    "def impute_carparking(cols):\n",
    "    CarParking = cols[0]\n",
    "    if(\"Car Parking\" in CarParking):\n",
    "        return 1\n",
    "    else:\n",
    "        return 0\n",
    "\n",
    "def impute_watersupply(cols):\n",
    "    watersupply = cols[0]\n",
    "    if(\"24hr Water Supply\" in watersupply):\n",
    "        return 1\n",
    "    else:\n",
    "        return 0\n",
    "    \n",
    "def impute_maintenance_staff(cols):\n",
    "    maintenance_staff = cols[0]\n",
    "    if(\"Maintenance Staff\" in  maintenance_staff ):\n",
    "        return 1\n",
    "    else:\n",
    "        return 0\n",
    "    \n",
    "def impute_Lift(cols):\n",
    "    lift = cols[0]\n",
    "    if(\"Lift\" in lift):\n",
    "        return 1\n",
    "    else:\n",
    "        return 0\n",
    "    \n",
    "def impute_gaspipeline(cols):\n",
    "    gas_pipeline = cols[0]\n",
    "    if(\"Gas Pipeline\" in gas_pipeline ):\n",
    "        return 1\n",
    "    else:\n",
    "        return 0\n",
    "\n",
    "def impute_gym(cols):\n",
    "    gym = cols[0]\n",
    "    if(\"Gym\" in gym):\n",
    "        return 1\n",
    "    else:\n",
    "        return 0\n",
    "    \n",
    "def impute_club_house(cols):\n",
    "    gym = cols[0]\n",
    "    if(\"Club house\" in gym):\n",
    "        return 1\n",
    "    else:\n",
    "        return 0\n",
    "\n",
    "def impute_24hr_security(cols):\n",
    "    security = cols[0]\n",
    "    if(\"24Hr Security\" in security):\n",
    "        return 1\n",
    "    else:\n",
    "        return 0\n",
    "    \n",
    "def impute_school(cols):\n",
    "    school = cols[0]\n",
    "    if(\"School\" in school):\n",
    "        return 1\n",
    "    else:\n",
    "        return 0\n",
    "\n",
    "def impute_college(cols):\n",
    "    college = cols[0]\n",
    "    if(\"College\" in college):\n",
    "        return 1\n",
    "    else:\n",
    "        return 0\n",
    "    \n",
    "def impute_medical(cols):\n",
    "    medical = cols[0]\n",
    "    if(\"Medical\" in medical):\n",
    "        return 1\n",
    "    else:\n",
    "        return 0\n",
    "    \n",
    "def impute_hospitals(cols):\n",
    "    hospitals = cols[0]\n",
    "    if(\"Hospitals\" in hospitals):\n",
    "        return 1\n",
    "    else:\n",
    "        return 0\n",
    "    \n",
    "def impute_railwayStation(cols):\n",
    "    railway = cols[0]\n",
    "    if(\"Railway Station\" in railway):\n",
    "        return 1\n",
    "    else:\n",
    "        return 0\n",
    "\n",
    "def impute_market(cols):\n",
    "    market = cols[0]\n",
    "    if(\"Market\" in market):\n",
    "        return 1\n",
    "    else:\n",
    "        return 0\n",
    "    \n",
    "def changeRooms(cols):\n",
    "    rooms = cols\n",
    "    if(\"BHK\" in rooms):\n",
    "        return int(rooms.split(' ')[0])\n",
    "    else:\n",
    "        return int(0)"
   ]
  },
  {
   "cell_type": "code",
   "execution_count": null,
   "metadata": {
    "id": "5uOZrNi3iWSR"
   },
   "outputs": [],
   "source": [
    "data['c_Car Parking'] = data[['c_Car Parking']].apply(impute_carparking,axis=1)\n",
    "data['c_24hr Water Supply'] = data[['c_24hr Water Supply']].apply(impute_watersupply,axis=1)\n",
    "data['c_Maintenance Staff'] = data[['c_Maintenance Staff']].apply(impute_maintenance_staff,axis=1)\n",
    "data['c_Lift'] = data[['c_Lift']].apply(impute_Lift,axis=1)\n",
    "data['c_Gas Pipeline'] = data[['c_Gas Pipeline']].apply(impute_gaspipeline,axis=1)\n",
    "data['c_Gym'] = data[['c_Gym']].apply(impute_gym,axis=1)\n",
    "data['c_24Hr Security'] = data[['c_24Hr Security']].apply(impute_24hr_security,axis=1)\n",
    "data['c_Club house'] = data[['c_Club house']].apply(impute_24hr_security,axis=1)\n",
    "\n",
    "data['c_School'] = data[['c_School']].apply(impute_school,axis=1)\n",
    "data['c_College'] = data[['c_College']].apply(impute_college,axis=1)\n",
    "data['c_Medical'] = data[['c_Medical']].apply(impute_medical,axis=1)\n",
    "data['c_Hospitals'] = data[['c_Hospitals']].apply(impute_hospitals,axis=1)\n",
    "data['c_Railway Station'] = data[['c_Railway Station']].apply(impute_railwayStation,axis=1)\n",
    "data['c_Market'] = data[['c_Market']].apply(impute_market,axis=1)\n",
    "data['No of Bedrooms'] = data['No of Bedrooms'].apply(changeRooms)\n",
    "\n",
    "data['n_Bedrooms'] = data['n_Bedrooms'].apply(changeRooms)\n",
    "data['n_Car Parking'] = data[['n_Car Parking']].apply(impute_carparking,axis=1)\n",
    "data['n_24hr Water Supply'] = data[['n_24hr Water Supply']].apply(impute_watersupply,axis=1)\n",
    "data['n_Maintenance Staff'] = data[['n_Maintenance Staff']].apply(impute_maintenance_staff,axis=1)\n",
    "data['n_Lift'] = data[['n_Lift']].apply(impute_Lift,axis=1)\n",
    "data['n_Gas Pipeline'] = data[['n_Gas Pipeline']].apply(impute_gaspipeline,axis=1)\n",
    "data['n_Gym'] = data[['n_Gym']].apply(impute_gym,axis=1)\n",
    "data['n_24Hr Security'] = data[['n_24Hr Security']].apply(impute_24hr_security,axis=1)\n",
    "data['n_Club house'] = data[['n_Club house']].apply(impute_24hr_security,axis=1)\n",
    "\n",
    "\n",
    "data['n_School'] = data[['n_School']].apply(impute_school,axis=1)\n",
    "data['n_College'] = data[['n_College']].apply(impute_college,axis=1)\n",
    "data['n_Medical'] = data[['n_Medical']].apply(impute_medical,axis=1)\n",
    "data['n_Hospitals'] = data[['n_Hospitals']].apply(impute_hospitals,axis=1)\n",
    "data['n_Railway Station'] = data[['n_Railway Station']].apply(impute_railwayStation,axis=1)\n",
    "data['n_Market'] = data[['n_Market']].apply(impute_market,axis=1)"
   ]
  },
  {
   "cell_type": "code",
   "execution_count": null,
   "metadata": {
    "colab": {
     "base_uri": "https://localhost:8080/",
     "height": 1000
    },
    "id": "4IopfhdDiWSa",
    "outputId": "eb01c273-caed-4014-80ce-a8820dc8577a"
   },
   "outputs": [],
   "source": [
    "data.head(18)"
   ]
  },
  {
   "cell_type": "code",
   "execution_count": null,
   "metadata": {
    "colab": {
     "base_uri": "https://localhost:8080/",
     "height": 1000
    },
    "id": "WdUk5OooiWSb",
    "outputId": "ffa29572-6eb8-42f3-e4db-9d3540801c08"
   },
   "outputs": [],
   "source": []
  },
  {
   "cell_type": "code",
   "execution_count": null,
   "metadata": {
    "colab": {
     "base_uri": "https://localhost:8080/",
     "height": 250
    },
    "id": "nQ4vH3AriWSb",
    "outputId": "6eaea643-823d-42ea-f500-4eec7f2ff67e"
   },
   "outputs": [],
   "source": [
    "numerical_features = [feature for feature in dataset.columns if dataset[feature].dtypes != 'O']\n",
    "data[numerical_features].head()"
   ]
  },
  {
   "cell_type": "code",
   "execution_count": null,
   "metadata": {
    "colab": {
     "base_uri": "https://localhost:8080/",
     "height": 230
    },
    "id": "4ulrG9OMiWSd",
    "outputId": "158a24d6-1eb3-4609-afab-258ba6ba8bef"
   },
   "outputs": [],
   "source": [
    "c_features = data[numerical_features].iloc[:,:-16]\n",
    "c_features.drop(['Price','Carpet_Area'],axis='columns',inplace=True)\n",
    "c_features.head()"
   ]
  },
  {
   "cell_type": "code",
   "execution_count": null,
   "metadata": {
    "colab": {
     "base_uri": "https://localhost:8080/",
     "height": 1000
    },
    "id": "1U5FTwCuiWSe",
    "outputId": "ba6fab24-0b87-4dd5-f998-2cff4da991cc"
   },
   "outputs": [],
   "source": [
    "def hp_features():\n",
    "    plt.title('Relation between House Prices vs Features',fontsize=15)\n",
    "    for feature in c_features:\n",
    "        data1=data.copy()\n",
    "        data1.groupby(feature)['Price'].mean().plot.bar()\n",
    "        plt.xlabel(feature)\n",
    "        plt.ylabel('Price')\n",
    "        plt.show()\n",
    "        \n",
    "hp_features()"
   ]
  },
  {
   "cell_type": "code",
   "execution_count": null,
   "metadata": {
    "colab": {
     "base_uri": "https://localhost:8080/"
    },
    "id": "_3lYCenTiWSh",
    "outputId": "52a5402e-5f3d-47dd-d493-7014325c042b"
   },
   "outputs": [],
   "source": [
    "data.columns"
   ]
  },
  {
   "cell_type": "code",
   "execution_count": null,
   "metadata": {
    "id": "9z-pNudeiWSy"
   },
   "outputs": [],
   "source": [
    "feature = ['Age', 'Gender', 'Location', 'Income','House_Located', 'No of Bedrooms',  'c_Car Parking',\n",
    "       'c_24hr Water Supply', 'c_Maintenance Staff', 'c_Gas Pipeline',\n",
    "       'c_Lift', 'c_Club house', 'c_24Hr Security', 'c_Gym', 'c_School',\n",
    "       'c_College', 'c_Hospitals', 'c_Medical', 'c_Railway Station',\n",
    "       'c_Market', ]"
   ]
  },
  {
   "cell_type": "code",
   "execution_count": null,
   "metadata": {
    "colab": {
     "base_uri": "https://localhost:8080/"
    },
    "id": "DBz8R5DRiWS6",
    "outputId": "9b8595bf-89b1-4185-f8d4-4cd04eb8ddf1"
   },
   "outputs": [],
   "source": [
    "list(enumerate(feature))"
   ]
  },
  {
   "cell_type": "code",
   "execution_count": null,
   "metadata": {
    "colab": {
     "base_uri": "https://localhost:8080/",
     "height": 1000
    },
    "id": "3UI7nYq3iWS-",
    "outputId": "eefa7ac9-8b74-41ec-8851-a5cf81d5361e"
   },
   "outputs": [],
   "source": [
    "def totalCount():\n",
    "    plt.figure(figsize = (15, 100))\n",
    "    for i in enumerate(feature):\n",
    "        data1 = data.copy()\n",
    "        plt.subplot(10, 2,i[0]+1).set_title(\"Total Data Count\",fontsize=13)\n",
    "        sns.countplot(i[1], data = data1)\n",
    "        plt.xticks(rotation = 50)\n",
    "    plt.tight_layout()\n",
    "totalCount()"
   ]
  },
  {
   "cell_type": "code",
   "execution_count": null,
   "metadata": {
    "colab": {
     "base_uri": "https://localhost:8080/",
     "height": 250
    },
    "id": "lZwoct4HiWS_",
    "outputId": "08e70fca-7fab-45fd-dd2b-48b38e416d48"
   },
   "outputs": [],
   "source": [
    "scatter_features = data[numerical_features].iloc[:,:-16]\n",
    "scatter_features['Location'] = data['Location']\n",
    "#c_features.drop(['Carpet_Area'],axis='columns',inplace=True)\n",
    "scatter_features.head()"
   ]
  },
  {
   "cell_type": "code",
   "execution_count": null,
   "metadata": {
    "colab": {
     "base_uri": "https://localhost:8080/",
     "height": 817
    },
    "id": "dmgWH49liWS_",
    "outputId": "b8c4bc02-475b-4fbd-fb64-41571eca5f0b"
   },
   "outputs": [],
   "source": [
    "def housePrice():\n",
    "    alt.renderers.enable('altair_viewer')\n",
    "    c= alt.Chart(scatter_features).mark_point(size = 600).encode(\n",
    "                x='No of Bedrooms', y='Price',color = 'Location', tooltip=['Carpet_Area','Location','Price','c_Car Parking','c_24hr Water Supply','c_Maintenance Staff','c_Lift','c_Gas Pipeline','c_Gym',\n",
    "                             'c_24Hr Security','c_School','c_College','c_Hospitals','c_Medical','c_Railway Station','c_Market']).interactive().properties(width = 900,height= 600)\n",
    "    c.show()\n",
    "housePrice()\n",
    "#     price_scatter = px.scatter(scatter_features, x='Price', y='No of Bedrooms',title='House Prices In Mumbai (Western Line)',\n",
    "#                     hover_name='Location',color='Location', size_max=80, \n",
    "#                     hover_data=['c_Car Parking','c_24hr Water Supply','c_Maintenance Staff','c_Lift','c_Gas Pipeline','c_Gym',\n",
    "#                             'c_24Hr Security','c_School','c_College','c_Hospitals','c_Medical','c_Railway Station','c_Market'], \n",
    "#                     width=900,height=800)\n",
    "#     price_scatter.show()\n",
    "# housePrice()"
   ]
  },
  {
   "cell_type": "code",
   "execution_count": null,
   "metadata": {
    "colab": {
     "base_uri": "https://localhost:8080/",
     "height": 601
    },
    "id": "1zTtNfToiWTN",
    "outputId": "b178712c-9d3d-41ce-d8f6-562fc8bc02bb"
   },
   "outputs": [],
   "source": [
    "def locationPrice():\n",
    "    c= alt.Chart(data).mark_bar(size=20).encode(\n",
    "    x='Location',\n",
    "    y='Price',\n",
    "    color='No of Bedrooms',\n",
    "    tooltip = ['Carpet_Area'],\n",
    "    order=alt.Order(\n",
    "      # Sort the segments of the bars by this field\n",
    "      'No of Bedrooms',\n",
    "      sort='ascending'\n",
    "    )\n",
    "    ).properties(width = 900,height = 500)\n",
    "    c.show()\n",
    "\n",
    "#     plt.figure(figsize = (15,8))\n",
    "#     sns.barplot(x=\"Location\", y=\"Price\",hue='No of Bedrooms',data=data,ci=None)\n",
    "#     plt.title('Location vs Price',fontsize=20)\n",
    "#     plt.xticks(rotation = 90);\n",
    "    \n",
    "locationPrice()"
   ]
  },
  {
   "cell_type": "code",
   "execution_count": null,
   "metadata": {
    "id": "8FtuXjTpiWTP"
   },
   "outputs": [],
   "source": [
    "from sklearn.preprocessing import LabelEncoder\n",
    "le = LabelEncoder()\n",
    "data['House_Loan'] = le.fit_transform(data['House_Loan'])"
   ]
  },
  {
   "cell_type": "code",
   "execution_count": null,
   "metadata": {
    "colab": {
     "base_uri": "https://localhost:8080/",
     "height": 367
    },
    "id": "TLHGHzi-iWTQ",
    "outputId": "55e8e054-3599-4456-94e0-84f317fd77b9"
   },
   "outputs": [],
   "source": [
    "data.head()"
   ]
  },
  {
   "cell_type": "code",
   "execution_count": null,
   "metadata": {
    "colab": {
     "base_uri": "https://localhost:8080/",
     "height": 575
    },
    "id": "3qsRE0UbiWTS",
    "outputId": "68abf336-cedd-4877-9d9c-db5e72aaceb5"
   },
   "outputs": [],
   "source": [
    "def budgetLoan():\n",
    "    plt.figure(figsize = (15,8))\n",
    "    sns.barplot(x='Budget',y='House_Loan',data=data,ci=None)\n",
    "    plt.title('Budget vs House Loan',fontsize=15)\n",
    "    plt.xlabel(\"Budget\",fontsize=15)\n",
    "    plt.ylabel(\"House Loan\",fontsize=15)\n",
    "    plt.xticks(rotation = 40);\n",
    "budgetLoan()"
   ]
  },
  {
   "cell_type": "code",
   "execution_count": null,
   "metadata": {},
   "outputs": [],
   "source": [
    "def budgetCarpet():\n",
    "    fig = plt.figure(figsize = (15,8))\n",
    "    sns.barplot(x='Budget',y='n_Carpet_Area',hue='n_Bedrooms',data=data,ci=None)\n",
    "    plt.title('Budget vs n_Carpet_Area',fontsize=15)\n",
    "    plt.xlabel(\"Budget\",fontsize=15)\n",
    "    plt.ylabel(\"Carpet Area\",fontsize=15)\n",
    "    plt.xticks(rotation = 40);\n",
    "    plt.show(fig)\n",
    "budgetCarpet()"
   ]
  },
  {
   "cell_type": "code",
   "execution_count": null,
   "metadata": {
    "colab": {
     "base_uri": "https://localhost:8080/",
     "height": 583
    },
    "id": "q15cKAAkiWTT",
    "outputId": "844d43f3-be4e-484e-c217-48a29f07f45d"
   },
   "outputs": [],
   "source": [
    "def incomeLoan():\n",
    "    plt.figure(figsize = (13,8))\n",
    "    sns.barplot(x='Income',y='House_Loan',data=data,ci=None)\n",
    "    plt.title('Income vs House Loan',fontsize=15)\n",
    "    plt.xlabel(\"Income\",fontsize=15)\n",
    "    plt.ylabel(\"House Loan\",fontsize=15)\n",
    "    plt.xticks(rotation = 40);\n",
    "incomeLoan()"
   ]
  },
  {
   "cell_type": "code",
   "execution_count": null,
   "metadata": {
    "colab": {
     "base_uri": "https://localhost:8080/",
     "height": 583
    },
    "id": "h-ly9XpaiWTh",
    "outputId": "12e45791-e86d-4986-9dfd-1418ba68a38e"
   },
   "outputs": [],
   "source": [
    "def incomeCarpet():\n",
    "    sns.set_context(font_scale=1.5)\n",
    "    plt.figure(figsize = (13,8))\n",
    "    sns.barplot(x='Income',y='n_Carpet_Area',data=data,ci=None)\n",
    "    plt.title('Income vs Carpet Area',fontsize=15)\n",
    "    plt.xlabel(\"Income\",fontsize=15)\n",
    "    plt.ylabel(\"Carpet Area\",fontsize=15)\n",
    "    plt.xticks(rotation = 40);\n",
    "incomeCarpet()"
   ]
  },
  {
   "cell_type": "code",
   "execution_count": null,
   "metadata": {
    "colab": {
     "base_uri": "https://localhost:8080/"
    },
    "id": "1zUWIaOciWTj",
    "outputId": "0586cf24-444c-461b-ffaf-07b1cfd2007a"
   },
   "outputs": [],
   "source": [
    "carpet_area = data['Carpet_Area'].unique()\n",
    "np.sort(carpet_area)"
   ]
  },
  {
   "cell_type": "code",
   "execution_count": null,
   "metadata": {
    "colab": {
     "base_uri": "https://localhost:8080/"
    },
    "id": "FQrK7TiLiWTk",
    "outputId": "28163533-22d4-41fe-8f65-76c7bdd721b5"
   },
   "outputs": [],
   "source": [
    "len(carpet_area)"
   ]
  },
  {
   "cell_type": "code",
   "execution_count": null,
   "metadata": {
    "colab": {
     "base_uri": "https://localhost:8080/"
    },
    "id": "J06MR2H_iWTl",
    "outputId": "4cdfa85e-f3fb-4b7a-adc3-3516e3ea78a6"
   },
   "outputs": [],
   "source": [
    "data['Carpet_Area'].value_counts().head(15)"
   ]
  },
  {
   "cell_type": "code",
   "execution_count": null,
   "metadata": {
    "colab": {
     "base_uri": "https://localhost:8080/",
     "height": 392
    },
    "id": "SNyAP532iWTm",
    "outputId": "d9177561-5dfd-4877-8578-c259f59ad0e2"
   },
   "outputs": [],
   "source": [
    "def CarpetArea():\n",
    "    sns.set_context(font_scale=1.5)\n",
    "    sns.distplot(data['Carpet_Area'])\n",
    "    plt.xlabel(\"Carpet Area\",fontsize=15)\n",
    "    plt.title('Variation in Carpet Area',fontsize=15)\n",
    "CarpetArea()"
   ]
  },
  {
   "cell_type": "code",
   "execution_count": null,
   "metadata": {
    "colab": {
     "base_uri": "https://localhost:8080/",
     "height": 551
    },
    "id": "Bg9HUnFeiWTw",
    "outputId": "b810823b-1643-4cce-aeb4-c874fd4ef7a9"
   },
   "outputs": [],
   "source": [
    "def countLoan():\n",
    "    plt.figure(figsize = (20,8))\n",
    "    sns.set_context(font_scale=1.5)\n",
    "    sns.countplot(x='Carpet_Area',hue='House_Loan',data=data)\n",
    "    plt.xlabel(\"Carpet Area\",fontsize=15)\n",
    "    plt.ylabel(\"House Loan\",fontsize=15)\n",
    "    plt.title('Count of House Loan',fontsize=15)\n",
    "    plt.xticks(rotation = 90);\n",
    "countLoan()"
   ]
  },
  {
   "cell_type": "code",
   "execution_count": null,
   "metadata": {
    "colab": {
     "base_uri": "https://localhost:8080/",
     "height": 402
    },
    "id": "v8WAtXSXiWT0",
    "outputId": "288fed9a-51cb-419a-92ab-25606957c168"
   },
   "outputs": [],
   "source": [
    "def carpetNbedrooms():\n",
    "    sns.set_context(font_scale=1.5)\n",
    "    sns.lmplot(x='Carpet_Area',y='No of Bedrooms',data=data,aspect=2)\n",
    "    plt.xlabel(\"Carpet Area\",fontsize=15)\n",
    "    plt.ylabel(\"No of Bedrooms\",fontsize=15)\n",
    "    plt.title('Carpet Area Vs No of Bedrooms',fontsize=15)\n",
    "carpetNbedrooms()"
   ]
  },
  {
   "cell_type": "code",
   "execution_count": null,
   "metadata": {
    "colab": {
     "base_uri": "https://localhost:8080/",
     "height": 522
    },
    "id": "8r-zD_S2iWT2",
    "outputId": "25e6fe2b-ba5d-4e10-cab0-b448d4c10cc6"
   },
   "outputs": [],
   "source": [
    "def BedroomsCarpetArea():\n",
    "    sns.set_context(font_scale=1.5)\n",
    "    fig = plt.figure(figsize=(15,8))\n",
    "    sns.boxplot(x='No of Bedrooms',y='Carpet_Area',data=data,palette='rainbow')\n",
    "    plt.xlabel(\"No of Bedrooms\",fontsize=15)\n",
    "    plt.ylabel(\"Carpet Area\",fontsize=15)\n",
    "    plt.title('No of Bedrooms vs Carpet Area',fontsize=15)\n",
    "BedroomsCarpetArea()"
   ]
  },
  {
   "cell_type": "code",
   "execution_count": null,
   "metadata": {
    "colab": {
     "base_uri": "https://localhost:8080/",
     "height": 384
    },
    "id": "RN2u8zoniWT5",
    "outputId": "ab1c8b94-0f92-4754-baa7-05d4361b9d9a"
   },
   "outputs": [],
   "source": [
    "def CarpetAreaPrice():\n",
    "    sns.set_context('paper',font_scale=1.5)\n",
    "    sns.lmplot(x='Carpet_Area',y='Price',data=data,aspect=2)\n",
    "    plt.xlabel(\"Carpet Area\",fontsize=15)\n",
    "    plt.title('Carpet Area vs Price',fontsize=15)\n",
    "CarpetAreaPrice()"
   ]
  },
  {
   "cell_type": "code",
   "execution_count": null,
   "metadata": {
    "colab": {
     "base_uri": "https://localhost:8080/",
     "height": 494
    },
    "id": "RClHZUkyiWT8",
    "outputId": "059c0b4f-a581-4b96-d2cb-ac629b6b5ad2"
   },
   "outputs": [],
   "source": [
    "price_and_area = data.iloc[:15,6:9]\n",
    "price_and_area"
   ]
  },
  {
   "cell_type": "code",
   "execution_count": null,
   "metadata": {
    "colab": {
     "base_uri": "https://localhost:8080/",
     "height": 137
    },
    "id": "dF3TxmvViWT9",
    "outputId": "906c66ca-596e-4010-a2a0-c815e2ba8ae8"
   },
   "outputs": [],
   "source": [
    "data.iloc[:,6:9].corr()"
   ]
  },
  {
   "cell_type": "code",
   "execution_count": null,
   "metadata": {
    "colab": {
     "base_uri": "https://localhost:8080/",
     "height": 367
    },
    "id": "Sl_oQv-3iWT9",
    "outputId": "4059784e-e81e-4ae2-cbc6-89cd39354a8f"
   },
   "outputs": [],
   "source": [
    "data.head()"
   ]
  },
  {
   "cell_type": "code",
   "execution_count": null,
   "metadata": {
    "id": "xwwbbiaciWT-"
   },
   "outputs": [],
   "source": [
    "#n_features = data.iloc[:,31:]\n",
    "#n_features.head()"
   ]
  },
  {
   "cell_type": "code",
   "execution_count": null,
   "metadata": {
    "colab": {
     "base_uri": "https://localhost:8080/",
     "height": 634
    },
    "id": "0djJGwFpiWT_",
    "outputId": "5ac0509c-d362-487d-f470-161dab1c4e28"
   },
   "outputs": [],
   "source": [
    "dataset1.head()"
   ]
  },
  {
   "cell_type": "code",
   "execution_count": null,
   "metadata": {
    "colab": {
     "base_uri": "https://localhost:8080/",
     "height": 523
    },
    "id": "2RoQeQFdiWUB",
    "outputId": "3f09435a-14a3-41a4-ccf8-911bd2aa4a58"
   },
   "outputs": [],
   "source": [
    "def HouseOwners():\n",
    "    plt.figure(figsize = (15,8))\n",
    "    plt.subplot(1,2,1)\n",
    "    plt.title('Genderwise Count w.r.t House Owners',fontsize=15)\n",
    "    sns.countplot(x=\"Gender\", data=dataset1, hue='Own_House')\n",
    "    plt.subplot(1,2,2)\n",
    "    plt.title('Agewise Count w.r.t House Owners',fontsize=15)\n",
    "    sns.countplot(x=\"Age\", data=dataset1, hue='Own_House')\n",
    "HouseOwners()"
   ]
  },
  {
   "cell_type": "code",
   "execution_count": null,
   "metadata": {
    "colab": {
     "base_uri": "https://localhost:8080/",
     "height": 469
    },
    "id": "eYuZ3q86iWUD",
    "outputId": "7853f0af-74ec-43fa-f86a-c561c5cead9f"
   },
   "outputs": [],
   "source": [
    "def NewOwners():\n",
    "    plt.figure(figsize = (15,7))\n",
    "    plt.subplot(1,2,1)\n",
    "    plt.title('Gender wise Count w.r.t New House Buyers',fontsize=15)\n",
    "    sns.countplot(x=\"Gender\", data=dataset1, hue='New_House')\n",
    "    plt.subplot(1,2,2)\n",
    "    plt.title('Age wise Count w.r.t New House Buyers',fontsize=15)\n",
    "    sns.countplot(x=\"Age\", data=dataset1, hue='New_House')\n",
    "NewOwners()"
   ]
  },
  {
   "cell_type": "code",
   "execution_count": null,
   "metadata": {
    "colab": {
     "base_uri": "https://localhost:8080/",
     "height": 367
    },
    "id": "rfMFRETNiWUE",
    "outputId": "892a525c-26a5-425a-dd78-ffd76fe11fe6"
   },
   "outputs": [],
   "source": [
    "data.head()"
   ]
  },
  {
   "cell_type": "code",
   "execution_count": null,
   "metadata": {
    "id": "taGxuOvJiWUG"
   },
   "outputs": [],
   "source": [
    "compare_features=['House_Located','n_House_Type','c_Car Parking','n_Car Parking','c_24hr Water Supply','n_24hr Water Supply',\n",
    "                 'c_Maintenance Staff','n_Maintenance Staff','c_Gas Pipeline','n_Gas Pipeline',\n",
    "                 'c_Lift','n_Lift', 'c_Club house','n_Club house', 'c_24Hr Security','n_24Hr Security',\n",
    "                 'c_Gym','n_Gym', 'c_School', 'n_School','c_College','n_College' ,'c_Hospitals','n_Hospitals',\n",
    "                 'c_Medical','n_Medical' ,'c_Railway Station','n_Railway Station','c_Market','n_Market']"
   ]
  },
  {
   "cell_type": "code",
   "execution_count": null,
   "metadata": {
    "colab": {
     "base_uri": "https://localhost:8080/",
     "height": 1000
    },
    "id": "6XZ2sHfbiWUG",
    "outputId": "7fa7504c-0df8-40ab-e64a-47e0e7d80c8d"
   },
   "outputs": [],
   "source": [
    "def OldFeatureNewFeature():\n",
    "    plt.figure(figsize = (15, 80))\n",
    "    for i in enumerate(compare_features):\n",
    "        data1 = data.copy()\n",
    "        plt.subplot(15, 2,i[0]+1)\n",
    "        sns.countplot(i[1], data = data1).set_title(\"Comaprision Between Current Features and New Features\",fontsize=15)\n",
    "        plt.xticks(rotation = 50)\n",
    "        plt.tight_layout()\n",
    "OldFeatureNewFeature()"
   ]
  },
  {
   "cell_type": "code",
   "execution_count": null,
   "metadata": {
    "colab": {
     "base_uri": "https://localhost:8080/",
     "height": 458
    },
    "id": "emPrsGIoiWUI",
    "outputId": "9623d84c-fa9a-4ec9-d491-38f0b9ded823",
    "scrolled": false
   },
   "outputs": [],
   "source": [
    "FinalData = data.iloc[:,6:23] \n",
    "FinalData"
   ]
  },
  {
   "cell_type": "code",
   "execution_count": null,
   "metadata": {
    "colab": {
     "base_uri": "https://localhost:8080/",
     "height": 746
    },
    "id": "mRu-r61fiWUP",
    "outputId": "f91024a9-7835-4816-82a5-1a54817963c4",
    "scrolled": true
   },
   "outputs": [],
   "source": [
    "def FinalDataCorr():\n",
    "    plt.figure(figsize=(16,10))\n",
    "    sns.heatmap(FinalData.corr(), annot=True)\n",
    "    sns.set_style('white')\n",
    "    plt.title('Correlation Between Features',fontsize=15)\n",
    "    plt.xticks(fontsize=14)\n",
    "    plt.yticks(fontsize=14)\n",
    "    plt.show()\n",
    "FinalDataCorr()"
   ]
  },
  {
   "cell_type": "code",
   "execution_count": null,
   "metadata": {
    "id": "L8-iGPiQiWUR",
    "scrolled": true
   },
   "outputs": [],
   "source": [
    "predictionDataset = data.iloc[:,2:-22]\n",
    "predictionDataset.drop({'Price','Income','Own_House'},axis=1,inplace=True)"
   ]
  },
  {
   "cell_type": "code",
   "execution_count": null,
   "metadata": {
    "colab": {
     "base_uri": "https://localhost:8080/"
    },
    "id": "7cTKDK6hiWUS",
    "outputId": "325df044-312b-463e-ed41-9c18a78d89d7"
   },
   "outputs": [],
   "source": [
    "dependent_var = data.iloc[:,8].values\n",
    "dependent_var"
   ]
  },
  {
   "cell_type": "code",
   "execution_count": null,
   "metadata": {
    "colab": {
     "base_uri": "https://localhost:8080/"
    },
    "id": "BuNWUmj4nFVE",
    "outputId": "187156fa-0b09-42b4-dd47-6b6347bee2c5"
   },
   "outputs": [],
   "source": [
    "x = predictionDataset.iloc[:,:].values\n",
    "x"
   ]
  },
  {
   "cell_type": "code",
   "execution_count": null,
   "metadata": {
    "id": "zUxNOVx3iWUS"
   },
   "outputs": [],
   "source": [
    "def correlation(dataset,threshold):\n",
    "    col_corr = set()\n",
    "    corr_matrix = dataset.corr()\n",
    "    for i in range(len(corr_matrix.columns)):\n",
    "        for j in range(i):\n",
    "            if(abs(corr_matrix.iloc[i, j]) > threshold):\n",
    "                colname = corr_matrix.columns[i]\n",
    "                col_corr.add(colname)\n",
    "    return col_corr"
   ]
  },
  {
   "cell_type": "code",
   "execution_count": null,
   "metadata": {
    "colab": {
     "base_uri": "https://localhost:8080/"
    },
    "id": "hjDih2OUiWUT",
    "outputId": "6dabaafa-b2ae-4bcf-a69a-2d1c940f4f17"
   },
   "outputs": [],
   "source": [
    "corr_features = correlation(predictionDataset,0.85)\n",
    "corr_features"
   ]
  },
  {
   "cell_type": "code",
   "execution_count": null,
   "metadata": {
    "colab": {
     "base_uri": "https://localhost:8080/",
     "height": 458
    },
    "id": "wtNOxDE9iWUU",
    "outputId": "d5885c60-9e1a-4c36-db87-f3ed8247e823"
   },
   "outputs": [],
   "source": [
    "predictionDataset.drop('c_Club house',axis=1)"
   ]
  },
  {
   "cell_type": "code",
   "execution_count": null,
   "metadata": {
    "colab": {
     "base_uri": "https://localhost:8080/",
     "height": 367
    },
    "id": "73exAsJYiWUW",
    "outputId": "f67d1ae9-3b24-49eb-d854-9aa814db7e42"
   },
   "outputs": [],
   "source": [
    "data.head()"
   ]
  },
  {
   "cell_type": "code",
   "execution_count": null,
   "metadata": {
    "id": "qLSu4gExr5oQ"
   },
   "outputs": [],
   "source": [
    "dependent_var = dependent_var.reshape(len(dependent_var),1)"
   ]
  },
  {
   "cell_type": "code",
   "execution_count": null,
   "metadata": {
    "colab": {
     "base_uri": "https://localhost:8080/"
    },
    "id": "flbKxFu_rROj",
    "outputId": "7a4d32be-e11d-4b6e-e036-b2b8cc83de49"
   },
   "outputs": [],
   "source": [
    "from sklearn.preprocessing import StandardScaler\n",
    "sc_y = StandardScaler()\n",
    "y = sc_y.fit_transform(dependent_var)\n",
    "y"
   ]
  },
  {
   "cell_type": "code",
   "execution_count": null,
   "metadata": {
    "id": "rAbdlEegiWUu"
   },
   "outputs": [],
   "source": [
    "# from sklearn.compose import ColumnTransformer\n",
    "# from sklearn.preprocessing import OneHotEncoder\n",
    "\n",
    "# ct = ColumnTransformer(transformers=[('encode',OneHotEncoder(),[0,1])],remainder=\"passthrough\")\n",
    "# x = np.array(ct.fit_transform(x))"
   ]
  },
  {
   "cell_type": "code",
   "execution_count": null,
   "metadata": {
    "id": "vGWQJ9V1TEcB"
   },
   "outputs": [],
   "source": [
    "dummies_location = pd.get_dummies(data.Location)\n",
    "dummies_house_located = pd.get_dummies(data.House_Located)"
   ]
  },
  {
   "cell_type": "code",
   "execution_count": null,
   "metadata": {
    "colab": {
     "base_uri": "https://localhost:8080/",
     "height": 441
    },
    "id": "n3m5qw2ATMMO",
    "outputId": "996580b5-4e2c-4f67-964c-0f877208d09a"
   },
   "outputs": [],
   "source": [
    "dummies_location"
   ]
  },
  {
   "cell_type": "code",
   "execution_count": null,
   "metadata": {
    "colab": {
     "base_uri": "https://localhost:8080/",
     "height": 441
    },
    "id": "TSFwds-TTRke",
    "outputId": "00e5ccb6-73f5-4336-ccb9-bfe57f625f76"
   },
   "outputs": [],
   "source": [
    "dummies_location = dummies_location.drop(['Virar'],axis='columns')\n",
    "dummies_location"
   ]
  },
  {
   "cell_type": "code",
   "execution_count": null,
   "metadata": {
    "colab": {
     "base_uri": "https://localhost:8080/",
     "height": 404
    },
    "id": "T2JraaJ9TPvh",
    "outputId": "6709087d-8dff-4b0b-ea45-ede79162347b"
   },
   "outputs": [],
   "source": [
    "dummies_house_located"
   ]
  },
  {
   "cell_type": "code",
   "execution_count": null,
   "metadata": {
    "colab": {
     "base_uri": "https://localhost:8080/",
     "height": 404
    },
    "id": "xYOpOA13TVhM",
    "outputId": "fabbeb9b-5de2-4104-b0de-9d973abd83e0"
   },
   "outputs": [],
   "source": [
    "dummies_house_located = dummies_house_located.drop(['Bungalow'],axis='columns')\n",
    "dummies_house_located"
   ]
  },
  {
   "cell_type": "code",
   "execution_count": null,
   "metadata": {
    "colab": {
     "base_uri": "https://localhost:8080/",
     "height": 441
    },
    "id": "QIMqXAfcTYaJ",
    "outputId": "ff072efe-f59a-40ae-fc78-f1a327012030"
   },
   "outputs": [],
   "source": [
    "dummies = pd.concat([dummies_location,dummies_house_located],axis=\"columns\")\n",
    "dummies"
   ]
  },
  {
   "cell_type": "code",
   "execution_count": null,
   "metadata": {
    "colab": {
     "base_uri": "https://localhost:8080/",
     "height": 458
    },
    "id": "r2bzdX-MTgEB",
    "outputId": "3ef72bc7-02fe-47e5-fd90-43c2211878c1"
   },
   "outputs": [],
   "source": [
    "x = pd.concat([dummies,predictionDataset],axis='columns')\n",
    "x"
   ]
  },
  {
   "cell_type": "code",
   "execution_count": null,
   "metadata": {
    "id": "jZ3n8cyaTnIU"
   },
   "outputs": [],
   "source": [
    "x = x.drop(['Location','House_Located'],axis='columns')"
   ]
  },
  {
   "cell_type": "code",
   "execution_count": null,
   "metadata": {
    "colab": {
     "base_uri": "https://localhost:8080/",
     "height": 548
    },
    "id": "aj-6WdR4iWUv",
    "outputId": "4bb62594-5d99-444a-b065-4502b22e239b"
   },
   "outputs": [],
   "source": [
    "x = pd.DataFrame(x)\n",
    "x.head(15)"
   ]
  },
  {
   "cell_type": "markdown",
   "metadata": {
    "id": "tRpmekStMdNc"
   },
   "source": [
    "## Splitting Data into Test and Trainning Set"
   ]
  },
  {
   "cell_type": "code",
   "execution_count": null,
   "metadata": {
    "id": "Hg7NtNM5iWUw"
   },
   "outputs": [],
   "source": [
    "from sklearn.model_selection import train_test_split\n",
    "X_train, X_test, y_train, y_test = train_test_split(x, y, test_size = 0.2, random_state = 0)"
   ]
  },
  {
   "cell_type": "markdown",
   "metadata": {
    "id": "OGQ_kgJpMdNd"
   },
   "source": [
    "## Multiple Linear Regression"
   ]
  },
  {
   "cell_type": "code",
   "execution_count": null,
   "metadata": {
    "colab": {
     "base_uri": "https://localhost:8080/"
    },
    "id": "fdm_lUJiiWUy",
    "outputId": "0d417e10-b68a-4fcf-af51-700aa5f165f6"
   },
   "outputs": [],
   "source": [
    "from sklearn.linear_model import LinearRegression\n",
    "linear_regressor = LinearRegression()\n",
    "linear_regressor.fit(X_train, y_train)"
   ]
  },
  {
   "cell_type": "code",
   "execution_count": null,
   "metadata": {
    "colab": {
     "base_uri": "https://localhost:8080/"
    },
    "id": "gh4Gs6O2iWUz",
    "outputId": "c42f5b99-08ab-4339-98aa-955cfcbb9d10"
   },
   "outputs": [],
   "source": [
    "linear_y_pred = linear_regressor.predict(X_test)\n",
    "linear_y_pred"
   ]
  },
  {
   "cell_type": "code",
   "execution_count": null,
   "metadata": {
    "colab": {
     "base_uri": "https://localhost:8080/"
    },
    "id": "fwO_HT9viWU1",
    "outputId": "1da07c4e-afaf-4e29-a109-b548fe57c069"
   },
   "outputs": [],
   "source": [
    "np.set_printoptions(precision=2)\n",
    "print(np.concatenate((sc_y.inverse_transform(y_test).reshape(len(y_test),1),sc_y.inverse_transform(linear_y_pred).reshape(len(linear_y_pred),1)),axis=1))"
   ]
  },
  {
   "cell_type": "code",
   "execution_count": null,
   "metadata": {
    "colab": {
     "base_uri": "https://localhost:8080/"
    },
    "id": "m0fktkv4iWU3",
    "outputId": "b017a93a-92a8-4ba8-ff67-fb385892b91b"
   },
   "outputs": [],
   "source": [
    "from sklearn import metrics  \n",
    "print('Mean Absolute Error:', \n",
    "      metrics.mean_absolute_error(y_test, linear_y_pred)) "
   ]
  },
  {
   "cell_type": "code",
   "execution_count": null,
   "metadata": {
    "colab": {
     "base_uri": "https://localhost:8080/"
    },
    "id": "hC3bRrgdiWU4",
    "outputId": "020dbc0b-dee9-46de-f8e0-07c48a3ae7a6"
   },
   "outputs": [],
   "source": [
    "print('R^2 Score:', metrics.r2_score(y_test,linear_y_pred))"
   ]
  },
  {
   "cell_type": "markdown",
   "metadata": {
    "id": "7PWmXch1MdNf"
   },
   "source": [
    "## Support Vector Regression (SVR)"
   ]
  },
  {
   "cell_type": "code",
   "execution_count": null,
   "metadata": {
    "colab": {
     "base_uri": "https://localhost:8080/"
    },
    "id": "0GreIvipMdNf",
    "outputId": "bf6298a2-871d-43de-ef9e-ac81459aefe8"
   },
   "outputs": [],
   "source": [
    "y_train1 = y_train.flatten()\n",
    "y_train1"
   ]
  },
  {
   "cell_type": "code",
   "execution_count": null,
   "metadata": {
    "colab": {
     "base_uri": "https://localhost:8080/"
    },
    "id": "3ArgAGMpiWU6",
    "outputId": "174ff58d-9702-4982-a821-9144654182dc"
   },
   "outputs": [],
   "source": [
    "from sklearn.svm import SVR\n",
    "svr_regressor = SVR(kernel = 'rbf')\n",
    "svr_regressor.fit(X_train,y_train1)"
   ]
  },
  {
   "cell_type": "code",
   "execution_count": null,
   "metadata": {
    "colab": {
     "base_uri": "https://localhost:8080/"
    },
    "id": "t2LgQm8RiWVB",
    "outputId": "b58ff70b-5267-40c5-e244-291ccf8535cb"
   },
   "outputs": [],
   "source": [
    "y_pred_svr = svr_regressor.predict(X_test)\n",
    "y_pred_svr"
   ]
  },
  {
   "cell_type": "code",
   "execution_count": null,
   "metadata": {
    "colab": {
     "base_uri": "https://localhost:8080/"
    },
    "id": "fHUpKcSgiWVB",
    "outputId": "23f4ef54-395e-47bb-de6d-99f19ff1c471"
   },
   "outputs": [],
   "source": [
    "np.set_printoptions(precision=2)\n",
    "print(np.concatenate((sc_y.inverse_transform(y_test).reshape(len(y_test),1),sc_y.inverse_transform(y_pred_svr).reshape(len(y_pred_svr),1)),axis=1))"
   ]
  },
  {
   "cell_type": "code",
   "execution_count": null,
   "metadata": {
    "colab": {
     "base_uri": "https://localhost:8080/"
    },
    "id": "yDm-RprriWVD",
    "outputId": "e9c6551a-d0e0-40c8-c624-618f9e2742d6",
    "scrolled": true
   },
   "outputs": [],
   "source": [
    "print('R^2 Score:', metrics.r2_score(y_test,y_pred_svr))"
   ]
  },
  {
   "cell_type": "markdown",
   "metadata": {
    "id": "NKdl107aMdNh"
   },
   "source": [
    "## Decision Tree Regressor"
   ]
  },
  {
   "cell_type": "code",
   "execution_count": null,
   "metadata": {
    "colab": {
     "base_uri": "https://localhost:8080/"
    },
    "id": "zB4hIQzLiWVG",
    "outputId": "3f6cc439-d1bd-4686-e22d-8bcf051e85de"
   },
   "outputs": [],
   "source": [
    "from sklearn.tree import DecisionTreeRegressor\n",
    "tree_regressor = DecisionTreeRegressor(random_state = 1)\n",
    "tree_regressor.fit(X_train, y_train)"
   ]
  },
  {
   "cell_type": "code",
   "execution_count": null,
   "metadata": {
    "id": "7_X9Xo4OiWVH"
   },
   "outputs": [],
   "source": [
    "y_pred_tree = tree_regressor.predict(X_test)"
   ]
  },
  {
   "cell_type": "code",
   "execution_count": null,
   "metadata": {
    "colab": {
     "base_uri": "https://localhost:8080/"
    },
    "id": "52TDxXHpiWVH",
    "outputId": "0c54913d-1728-4d6f-9d4a-ec8c9b04573b"
   },
   "outputs": [],
   "source": [
    "print('R^2 Score:', metrics.r2_score(y_test,y_pred_tree))"
   ]
  },
  {
   "cell_type": "code",
   "execution_count": null,
   "metadata": {
    "colab": {
     "base_uri": "https://localhost:8080/"
    },
    "id": "X-VGgUMqiWVI",
    "outputId": "4617bc09-c0e0-4e41-e2fc-d122d005217d"
   },
   "outputs": [],
   "source": [
    "np.set_printoptions(precision=2)\n",
    "print(np.concatenate((sc_y.inverse_transform(y_test).reshape(len(y_test),1),sc_y.inverse_transform(y_pred_tree).reshape(len(y_pred_tree),1)),axis=1))"
   ]
  },
  {
   "cell_type": "markdown",
   "metadata": {
    "id": "YvTb3p_BMdNi"
   },
   "source": [
    "## Random Forest Regressor"
   ]
  },
  {
   "cell_type": "code",
   "execution_count": null,
   "metadata": {
    "colab": {
     "base_uri": "https://localhost:8080/"
    },
    "id": "uyrh5Ai2iWVJ",
    "outputId": "32ff5ece-73a5-4544-a19a-6b457276d061"
   },
   "outputs": [],
   "source": [
    "from sklearn.ensemble import RandomForestRegressor\n",
    "forest_regressor = RandomForestRegressor(n_estimators = 20, random_state = 1)\n",
    "forest_regressor.fit(X_train, y_train)"
   ]
  },
  {
   "cell_type": "code",
   "execution_count": null,
   "metadata": {
    "id": "FjPfrZfLiWVJ"
   },
   "outputs": [],
   "source": [
    "y_pred_forest = forest_regressor.predict(X_test)"
   ]
  },
  {
   "cell_type": "code",
   "execution_count": null,
   "metadata": {
    "colab": {
     "base_uri": "https://localhost:8080/"
    },
    "id": "_u-0jagsiWVK",
    "outputId": "7a7dcbb2-f19b-420b-8a37-fd3bbbfcd3b9"
   },
   "outputs": [],
   "source": [
    "print('R^2 Score:', metrics.r2_score(y_test,y_pred_forest))"
   ]
  },
  {
   "cell_type": "code",
   "execution_count": null,
   "metadata": {
    "colab": {
     "base_uri": "https://localhost:8080/"
    },
    "id": "iCm7Xdl4iWVK",
    "outputId": "cc3705ea-606b-42b9-9568-e23456d3a102"
   },
   "outputs": [],
   "source": [
    "np.set_printoptions(precision=2)\n",
    "print(np.concatenate((sc_y.inverse_transform(y_test).reshape(len(y_test),1),sc_y.inverse_transform(y_pred_forest).reshape(len(y_pred_forest),1)),axis=1))"
   ]
  },
  {
   "cell_type": "code",
   "execution_count": null,
   "metadata": {
    "colab": {
     "base_uri": "https://localhost:8080/"
    },
    "id": "Xc7WXwY0KqiH",
    "outputId": "9857e601-9754-45a1-cf39-1b304053960c"
   },
   "outputs": [],
   "source": [
    "x.columns"
   ]
  },
  {
   "cell_type": "code",
   "execution_count": null,
   "metadata": {
    "id": "2QoxreJHJ58W"
   },
   "outputs": [],
   "source": [
    "def predict_price(location,house_located,capet_area,No_of_Bedrooms, c_Car_Parking,c_24hr_Water_Supply,\n",
    "       c_Maintenance_Staff, c_Gas_Pipeline, c_Lift, c_Club_house,\n",
    "       c_24Hr_Security, c_Gym, c_School, c_College, c_Hospitals,\n",
    "       c_Medical, c_Railway_Station, c_Market):\n",
    "    l = []\n",
    "    loc = dummies_location.columns==location\n",
    "    for i in loc:\n",
    "        if(i):\n",
    "            l.append(1)\n",
    "        else:\n",
    "            l.append(0)\n",
    "\n",
    "    house_loc = dummies_house_located.columns==house_located\n",
    "    for i in house_loc:\n",
    "        if(i):\n",
    "            l.append(1)\n",
    "        else:\n",
    "            l.append(0)\n",
    "\n",
    "    l.append(capet_area)\n",
    "    l.append(No_of_Bedrooms)\n",
    "    l.append(c_Car_Parking)\n",
    "    l.append(c_24hr_Water_Supply)\n",
    "    l.append(c_Maintenance_Staff)\n",
    "    l.append(c_Gas_Pipeline)\n",
    "    l.append(c_Lift)\n",
    "    l.append(c_Club_house)\n",
    "    l.append(c_24Hr_Security)\n",
    "    l.append(c_Gym)\n",
    "    l.append(c_School)\n",
    "    l.append(c_College)\n",
    "    l.append(c_Hospitals)\n",
    "    l.append(c_Medical)\n",
    "    l.append(c_Railway_Station)\n",
    "    l.append(c_Market)\n",
    "\n",
    "    predicted_value = sc_y.inverse_transform(forest_regressor.predict([l]))\n",
    "    return predicted_value[0]"
   ]
  },
  {
   "cell_type": "code",
   "execution_count": null,
   "metadata": {
    "colab": {
     "base_uri": "https://localhost:8080/"
    },
    "id": "A49l5SzVLMUR",
    "outputId": "e8435cbd-2f02-44df-cf8c-52280a021754"
   },
   "outputs": [],
   "source": [
    "predict_price('Andheri','Building',2016.0,3.0,1.0,0.0,0.0,1.0,1.0,0.0,0.0,0.0,0.0,0.0,1.0,1.0,1.0,1.0)"
   ]
  },
  {
   "cell_type": "code",
   "execution_count": null,
   "metadata": {
    "colab": {
     "base_uri": "https://localhost:8080/"
    },
    "id": "jb244gdgMdNk",
    "outputId": "2c02430b-bf7f-4ac7-864a-24469ec119ea"
   },
   "outputs": [],
   "source": []
  },
  {
   "cell_type": "markdown",
   "metadata": {
    "id": "tZReJEl54DBP"
   },
   "source": [
    "# Classification"
   ]
  },
  {
   "cell_type": "code",
   "execution_count": null,
   "metadata": {
    "colab": {
     "base_uri": "https://localhost:8080/",
     "height": 508
    },
    "id": "gpM1Z-nN4DBQ",
    "outputId": "2b8da971-d571-4a1e-cd7a-6592704f2a94"
   },
   "outputs": [],
   "source": [
    "dataset1.head(3)"
   ]
  },
  {
   "cell_type": "code",
   "execution_count": null,
   "metadata": {
    "colab": {
     "base_uri": "https://localhost:8080/",
     "height": 196
    },
    "id": "6qSeX_ZD4DBQ",
    "outputId": "ac4fd6b8-a461-45ea-f04b-5270b5c991c5"
   },
   "outputs": [],
   "source": [
    "target_var = dataset1.iloc[:,0:4]\n",
    "target_var = target_var.drop('Location',axis=1)\n",
    "target_var.head()"
   ]
  },
  {
   "cell_type": "code",
   "execution_count": null,
   "metadata": {
    "id": "TIRf-j1gwmJW"
   },
   "outputs": [],
   "source": [
    "dummies_age = pd.get_dummies(target_var.Age)\n",
    "dummies_income = pd.get_dummies(target_var.Income)"
   ]
  },
  {
   "cell_type": "code",
   "execution_count": null,
   "metadata": {
    "colab": {
     "base_uri": "https://localhost:8080/",
     "height": 196
    },
    "id": "up2sccG9JI-Q",
    "outputId": "ed79f576-0d2a-4418-b0cd-05e3e8cdf755"
   },
   "outputs": [],
   "source": [
    "dummies_age.head()"
   ]
  },
  {
   "cell_type": "code",
   "execution_count": null,
   "metadata": {
    "colab": {
     "base_uri": "https://localhost:8080/",
     "height": 196
    },
    "id": "8A7DQRYDJRL-",
    "outputId": "0ef6cf44-6d07-49ef-b9c6-4543216e6a09"
   },
   "outputs": [],
   "source": [
    "dummies_income.head()"
   ]
  },
  {
   "cell_type": "code",
   "execution_count": null,
   "metadata": {
    "colab": {
     "base_uri": "https://localhost:8080/",
     "height": 404
    },
    "id": "zLF4Z6unKLoD",
    "outputId": "eed48784-7212-4bb5-892c-aec0e9e5bb15"
   },
   "outputs": [],
   "source": [
    "target_dummies = pd.concat((dummies_age,dummies_income),axis='columns')\n",
    "target_dummies"
   ]
  },
  {
   "cell_type": "code",
   "execution_count": null,
   "metadata": {
    "colab": {
     "base_uri": "https://localhost:8080/",
     "height": 404
    },
    "id": "56usD1t3Jes7",
    "outputId": "f0216f51-e9a0-4551-9423-87f81ac3fa66"
   },
   "outputs": [],
   "source": [
    "from sklearn.preprocessing import LabelEncoder\n",
    "le = LabelEncoder()\n",
    "target_var['Gender'] = le.fit_transform(target_var['Gender'])\n",
    "target_var"
   ]
  },
  {
   "cell_type": "code",
   "execution_count": null,
   "metadata": {
    "colab": {
     "base_uri": "https://localhost:8080/",
     "height": 196
    },
    "id": "NJ6_eR0-KCpC",
    "outputId": "03dea1d5-6791-4fc7-f02a-d25034d6ec69"
   },
   "outputs": [],
   "source": [
    "target_var = pd.concat((target_dummies,target_var),axis='columns')\n",
    "target_var.head()"
   ]
  },
  {
   "cell_type": "code",
   "execution_count": null,
   "metadata": {
    "colab": {
     "base_uri": "https://localhost:8080/",
     "height": 404
    },
    "id": "F074iXkeOaT2",
    "outputId": "3be6095f-5772-4c40-b34e-19b8c1d59b0c"
   },
   "outputs": [],
   "source": [
    "target_var = target_var.drop(['Age','56 - 65','Income','11lakh and above'],axis='columns')\n",
    "target_var"
   ]
  },
  {
   "cell_type": "code",
   "execution_count": null,
   "metadata": {
    "id": "VhUFniAK4DBR"
   },
   "outputs": [],
   "source": [
    "# from sklearn.preprocessing import LabelEncoder\n",
    "# le = LabelEncoder()\n",
    "# target_var = target_var.apply(LabelEncoder().fit_transform)\n",
    "# target_var.head()"
   ]
  },
  {
   "cell_type": "code",
   "execution_count": null,
   "metadata": {
    "colab": {
     "base_uri": "https://localhost:8080/"
    },
    "id": "PwKGel5UVSnE",
    "outputId": "01022e3d-67ee-4925-8812-0509bbbc2ea0"
   },
   "outputs": [],
   "source": [
    "age_grp_list = dummies_age.columns.values\n",
    "print(age_grp_list)"
   ]
  },
  {
   "cell_type": "code",
   "execution_count": null,
   "metadata": {
    "colab": {
     "base_uri": "https://localhost:8080/",
     "height": 634
    },
    "id": "76SJkelh4DBR",
    "outputId": "359f3209-cc4a-47be-9df8-bb685d274ba9"
   },
   "outputs": [],
   "source": [
    "from sklearn.preprocessing import LabelEncoder\n",
    "le = LabelEncoder()\n",
    "dataset1['House_Loan'] = le.fit_transform(dataset1['House_Loan'])\n",
    "dataset1.head()"
   ]
  },
  {
   "cell_type": "code",
   "execution_count": null,
   "metadata": {
    "colab": {
     "base_uri": "https://localhost:8080/"
    },
    "id": "ZEfU0ux74DBR",
    "outputId": "605f8690-1ab8-4e06-bbc6-e3734929faab"
   },
   "outputs": [],
   "source": [
    "y = dataset1.iloc[:,24].values\n",
    "y"
   ]
  },
  {
   "cell_type": "code",
   "execution_count": null,
   "metadata": {
    "id": "_cHAjM254DBR"
   },
   "outputs": [],
   "source": [
    "from sklearn.model_selection import train_test_split\n",
    "X_train, X_test, y_train, y_test = train_test_split(target_var,y,test_size=0.2)"
   ]
  },
  {
   "cell_type": "markdown",
   "metadata": {
    "id": "4iehyKeM4DBS"
   },
   "source": [
    "# RandomForestClassifier"
   ]
  },
  {
   "cell_type": "code",
   "execution_count": null,
   "metadata": {
    "colab": {
     "base_uri": "https://localhost:8080/"
    },
    "id": "Xc2ndNj14DBS",
    "outputId": "a35e7986-2e9e-4ebf-885c-5915fda5e8e3"
   },
   "outputs": [],
   "source": [
    "from sklearn.ensemble import RandomForestClassifier\n",
    "model = RandomForestClassifier(n_estimators=20)\n",
    "model.fit(X_train, y_train)"
   ]
  },
  {
   "cell_type": "code",
   "execution_count": null,
   "metadata": {
    "colab": {
     "base_uri": "https://localhost:8080/"
    },
    "id": "-M3bEJQP4DBS",
    "outputId": "154b2d96-293c-4371-86fa-92ead2e0a0bf"
   },
   "outputs": [],
   "source": [
    "model.score(X_test, y_test)\n"
   ]
  },
  {
   "cell_type": "code",
   "execution_count": null,
   "metadata": {
    "id": "DuVQAeGP4DBS"
   },
   "outputs": [],
   "source": [
    "y_predicted = model.predict(X_test)"
   ]
  },
  {
   "cell_type": "code",
   "execution_count": null,
   "metadata": {
    "colab": {
     "base_uri": "https://localhost:8080/"
    },
    "id": "Tj9dTm4q4DBT",
    "outputId": "1717d719-cbf0-45dc-f61b-1b1f64fd32b7"
   },
   "outputs": [],
   "source": [
    "from sklearn.metrics import confusion_matrix,classification_report,accuracy_score\n",
    "cm = confusion_matrix(y_test, y_predicted)\n",
    "print(cm)"
   ]
  },
  {
   "cell_type": "code",
   "execution_count": null,
   "metadata": {
    "colab": {
     "base_uri": "https://localhost:8080/"
    },
    "id": "QNP6Hh-7OOFh",
    "outputId": "359350ff-734a-4de6-fc32-2a8d14bdae55"
   },
   "outputs": [],
   "source": [
    "accuracy_score(y_test, y_predicted)"
   ]
  },
  {
   "cell_type": "code",
   "execution_count": null,
   "metadata": {
    "colab": {
     "base_uri": "https://localhost:8080/"
    },
    "id": "M5tlGCEP4DBT",
    "outputId": "d346e656-0e87-42f3-d868-7dc375a09d86"
   },
   "outputs": [],
   "source": [
    "print(classification_report(y_test,y_predicted))"
   ]
  },
  {
   "cell_type": "code",
   "execution_count": null,
   "metadata": {
    "colab": {
     "base_uri": "https://localhost:8080/",
     "height": 358
    },
    "id": "a904Tk704DBT",
    "outputId": "758ccd87-2b38-4d1d-d075-5d69ac1a1be7"
   },
   "outputs": [],
   "source": [
    "plt.figure(figsize=(8,5))\n",
    "sns.heatmap(cm, annot=True)\n",
    "plt.xlabel('Predicted')\n",
    "plt.ylabel('Truth')"
   ]
  },
  {
   "cell_type": "code",
   "execution_count": null,
   "metadata": {
    "id": "S1fQpDEp4DBT"
   },
   "outputs": [],
   "source": [
    "from sklearn.model_selection import train_test_split\n",
    "X_train, X_test, y_train, y_test = train_test_split(target_var,y,test_size=0.2)"
   ]
  },
  {
   "cell_type": "markdown",
   "metadata": {
    "id": "B14B5CYg4DBU"
   },
   "source": [
    "# KNeighborsClassifier"
   ]
  },
  {
   "cell_type": "code",
   "execution_count": null,
   "metadata": {
    "colab": {
     "base_uri": "https://localhost:8080/"
    },
    "id": "3X9sT7AR4DBU",
    "outputId": "d3d99ada-d289-486b-882e-5037eaba9f34"
   },
   "outputs": [],
   "source": [
    "from sklearn.neighbors import KNeighborsClassifier\n",
    "knn = KNeighborsClassifier(n_neighbors=23)\n",
    "knn.fit(X_train,y_train)"
   ]
  },
  {
   "cell_type": "code",
   "execution_count": null,
   "metadata": {
    "id": "C0hHBhBO4DBU"
   },
   "outputs": [],
   "source": [
    "pred = knn.predict(X_test)"
   ]
  },
  {
   "cell_type": "code",
   "execution_count": null,
   "metadata": {
    "id": "USFhK1NP4DBV"
   },
   "outputs": [],
   "source": [
    "from sklearn.metrics import classification_report,confusion_matrix, accuracy_score\n",
    "from sklearn.model_selection import cross_val_score"
   ]
  },
  {
   "cell_type": "code",
   "execution_count": null,
   "metadata": {
    "colab": {
     "base_uri": "https://localhost:8080/"
    },
    "id": "vauqGc3JNzZ0",
    "outputId": "0e6503c9-f5d1-4496-8fd7-d536379ce67f"
   },
   "outputs": [],
   "source": [
    "accuracy_score(y_test, pred)"
   ]
  },
  {
   "cell_type": "code",
   "execution_count": null,
   "metadata": {
    "colab": {
     "base_uri": "https://localhost:8080/"
    },
    "id": "T4ZPXxzC4DBV",
    "outputId": "80cdf84f-60b6-40af-cf45-cd8f26150813"
   },
   "outputs": [],
   "source": [
    "print(confusion_matrix(y_test,pred))"
   ]
  },
  {
   "cell_type": "code",
   "execution_count": null,
   "metadata": {
    "colab": {
     "base_uri": "https://localhost:8080/"
    },
    "id": "2iFCcdvo4DBW",
    "outputId": "9fc69e35-6b72-44ac-f06b-0ed29a7a87d3"
   },
   "outputs": [],
   "source": [
    "print(classification_report(y_test,pred))"
   ]
  },
  {
   "cell_type": "code",
   "execution_count": null,
   "metadata": {
    "id": "ukdLw1_S4DBW"
   },
   "outputs": [],
   "source": [
    "accuracy_rate = []\n",
    "for i in range(1,40):\n",
    "    knn = KNeighborsClassifier(n_neighbors=i)\n",
    "    score=cross_val_score(knn,target_var,y,cv=10)\n",
    "    accuracy_rate.append(score.mean())"
   ]
  },
  {
   "cell_type": "code",
   "execution_count": null,
   "metadata": {
    "id": "9ggzY1Od4DBX"
   },
   "outputs": [],
   "source": [
    "error_rate = []\n",
    "for i in range(1,40):\n",
    "    knn = KNeighborsClassifier(n_neighbors=i)\n",
    "    score=cross_val_score(knn,target_var,y,cv=10)\n",
    "    error_rate.append(1-score.mean())"
   ]
  },
  {
   "cell_type": "code",
   "execution_count": null,
   "metadata": {
    "colab": {
     "base_uri": "https://localhost:8080/",
     "height": 430
    },
    "id": "fWw5ygxd4DBX",
    "outputId": "b02a7e6c-d90b-4e5c-d218-b761a658a4e1"
   },
   "outputs": [],
   "source": [
    "plt.figure(figsize=(10,6))\n",
    "plt.plot(range(1,40),error_rate,color='blue', linestyle='dashed', marker='o',\n",
    "         markerfacecolor='red', markersize=10)\n",
    "plt.title('Error Rate vs. K Value')\n",
    "plt.xlabel('K')\n",
    "plt.ylabel('Error Rate')"
   ]
  },
  {
   "cell_type": "code",
   "execution_count": null,
   "metadata": {
    "id": "abxtYKsN4DBY"
   },
   "outputs": [],
   "source": [
    "plt.figure(figsize=(10,6))\n",
    "plt.plot(range(1,40),accuracy_rate,color='blue', linestyle='dashed', marker='o',\n",
    "         markerfacecolor='red', markersize=10)\n",
    "plt.title('Accuracy vs. K Value')\n",
    "plt.xlabel('K')\n",
    "plt.ylabel('Error Rate')"
   ]
  },
  {
   "cell_type": "code",
   "execution_count": null,
   "metadata": {},
   "outputs": [],
   "source": []
  }
 ],
 "metadata": {
  "colab": {
   "collapsed_sections": [],
   "name": "MSc_HousePricePredictionSystemCurrent.ipynb",
   "provenance": []
  },
  "kernelspec": {
   "display_name": "Python 3",
   "language": "python",
   "name": "python3"
  },
  "language_info": {
   "codemirror_mode": {
    "name": "ipython",
    "version": 3
   },
   "file_extension": ".py",
   "mimetype": "text/x-python",
   "name": "python",
   "nbconvert_exporter": "python",
   "pygments_lexer": "ipython3",
   "version": "3.7.6"
  }
 },
 "nbformat": 4,
 "nbformat_minor": 1
}
